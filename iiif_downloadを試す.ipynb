{
  "nbformat": 4,
  "nbformat_minor": 0,
  "metadata": {
    "colab": {
      "provenance": [],
      "authorship_tag": "ABX9TyO74fI8MQ9r//1p1z/KYx4R",
      "include_colab_link": true
    },
    "kernelspec": {
      "name": "python3",
      "display_name": "Python 3"
    },
    "language_info": {
      "name": "python"
    }
  },
  "cells": [
    {
      "cell_type": "markdown",
      "metadata": {
        "id": "view-in-github",
        "colab_type": "text"
      },
      "source": [
        "<a href=\"https://colab.research.google.com/github/dfukagaw28/ColabNotebooks/blob/main/iiif_download%E3%82%92%E8%A9%A6%E3%81%99.ipynb\" target=\"_parent\"><img src=\"https://colab.research.google.com/assets/colab-badge.svg\" alt=\"Open In Colab\"/></a>"
      ]
    },
    {
      "cell_type": "markdown",
      "source": [
        "# iiif-download を試す"
      ],
      "metadata": {
        "id": "vM7ZxiGDZL3m"
      }
    },
    {
      "cell_type": "markdown",
      "source": [
        "*   Manifest の読み込みや画像の一括ダウンロードなど，使い勝手はよさそうだが，現状では画像をオリジナルサイズでダウンロードすることができないという難点がある\n",
        "*   そもそもオリジナルサイズを使わない方がよい，ということかもしれない"
      ],
      "metadata": {
        "id": "lA4_eglVhFGw"
      }
    },
    {
      "cell_type": "code",
      "source": [
        "!pip install iiif-download"
      ],
      "metadata": {
        "colab": {
          "base_uri": "https://localhost:8080/"
        },
        "id": "qEQ1AUgmZbtL",
        "outputId": "e06e9049-029c-4e64-d1cf-13908a6f3d5f"
      },
      "execution_count": 1,
      "outputs": [
        {
          "output_type": "stream",
          "name": "stdout",
          "text": [
            "Collecting iiif-download\n",
            "  Downloading iiif_download-0.1.13-py3-none-any.whl.metadata (3.9 kB)\n",
            "Requirement already satisfied: Pillow>=11.0.0 in /usr/local/lib/python3.11/dist-packages (from iiif-download) (11.2.1)\n",
            "Requirement already satisfied: requests>=2.32.0 in /usr/local/lib/python3.11/dist-packages (from iiif-download) (2.32.3)\n",
            "Requirement already satisfied: tqdm>=4.66.0 in /usr/local/lib/python3.11/dist-packages (from iiif-download) (4.67.1)\n",
            "Requirement already satisfied: urllib3>=2.2.0 in /usr/local/lib/python3.11/dist-packages (from iiif-download) (2.4.0)\n",
            "Requirement already satisfied: aiohttp>=3.10 in /usr/local/lib/python3.11/dist-packages (from iiif-download) (3.11.15)\n",
            "Collecting aiofiles>=24.1.0 (from iiif-download)\n",
            "  Downloading aiofiles-24.1.0-py3-none-any.whl.metadata (10 kB)\n",
            "Requirement already satisfied: aiohappyeyeballs>=2.3.0 in /usr/local/lib/python3.11/dist-packages (from aiohttp>=3.10->iiif-download) (2.6.1)\n",
            "Requirement already satisfied: aiosignal>=1.1.2 in /usr/local/lib/python3.11/dist-packages (from aiohttp>=3.10->iiif-download) (1.3.2)\n",
            "Requirement already satisfied: attrs>=17.3.0 in /usr/local/lib/python3.11/dist-packages (from aiohttp>=3.10->iiif-download) (25.3.0)\n",
            "Requirement already satisfied: frozenlist>=1.1.1 in /usr/local/lib/python3.11/dist-packages (from aiohttp>=3.10->iiif-download) (1.6.0)\n",
            "Requirement already satisfied: multidict<7.0,>=4.5 in /usr/local/lib/python3.11/dist-packages (from aiohttp>=3.10->iiif-download) (6.4.3)\n",
            "Requirement already satisfied: propcache>=0.2.0 in /usr/local/lib/python3.11/dist-packages (from aiohttp>=3.10->iiif-download) (0.3.1)\n",
            "Requirement already satisfied: yarl<2.0,>=1.17.0 in /usr/local/lib/python3.11/dist-packages (from aiohttp>=3.10->iiif-download) (1.20.0)\n",
            "Requirement already satisfied: charset-normalizer<4,>=2 in /usr/local/lib/python3.11/dist-packages (from requests>=2.32.0->iiif-download) (3.4.2)\n",
            "Requirement already satisfied: idna<4,>=2.5 in /usr/local/lib/python3.11/dist-packages (from requests>=2.32.0->iiif-download) (3.10)\n",
            "Requirement already satisfied: certifi>=2017.4.17 in /usr/local/lib/python3.11/dist-packages (from requests>=2.32.0->iiif-download) (2025.4.26)\n",
            "Downloading iiif_download-0.1.13-py3-none-any.whl (22 kB)\n",
            "Downloading aiofiles-24.1.0-py3-none-any.whl (15 kB)\n",
            "Installing collected packages: aiofiles, iiif-download\n",
            "Successfully installed aiofiles-24.1.0 iiif-download-0.1.13\n"
          ]
        }
      ]
    },
    {
      "cell_type": "code",
      "source": [
        "from iiif_download import IIIFManifest, config, Config\n",
        "import nest_asyncio\n",
        "nest_asyncio.apply()  # イベントループをネスト可能にする"
      ],
      "metadata": {
        "id": "yc8O2XPrZb2F"
      },
      "execution_count": 2,
      "outputs": []
    },
    {
      "cell_type": "markdown",
      "source": [
        "## デフォルトのままダウンロードすると，画像サイズが変わる"
      ],
      "metadata": {
        "id": "vw-RLNwGcCHt"
      }
    },
    {
      "cell_type": "code",
      "execution_count": 3,
      "metadata": {
        "colab": {
          "base_uri": "https://localhost:8080/"
        },
        "id": "bcRZLEkaZEA1",
        "outputId": "85dbdf0a-fc4d-49fc-ba02-ea8030e4dda3"
      },
      "outputs": [
        {
          "output_type": "stream",
          "name": "stderr",
          "text": [
            "\n",
            "\n",
            "ℹ️ 2025-05-26 21:33:56\n",
            "\u001b[94m\u001b[94m\u001b[1mDownloading 21 images from https://dgcl.doshisha.ac.jp/images/manifest/50000/MD00001562.json inside /content/img\u001b[0m\n",
            "\n",
            "\n",
            "INFO:iiif-downloader:\n",
            "\n",
            "ℹ️ 2025-05-26 21:33:56\n",
            "\u001b[94m\u001b[94m\u001b[1mDownloading 21 images from https://dgcl.doshisha.ac.jp/images/manifest/50000/MD00001562.json inside /content/img\u001b[0m\n",
            "\n",
            "\n",
            "Downloading...\n",
            "INFO:iiif-downloader:Downloading...\n",
            "100%|██████████████████████████████████████████████████████████████████████████| 21/21 [00:42<00:00]\n"
          ]
        },
        {
          "output_type": "execute_result",
          "data": {
            "text/plain": [
              "<iiif_download.manifest.IIIFManifest at 0x7d8ac002f410>"
            ]
          },
          "metadata": {},
          "execution_count": 3
        }
      ],
      "source": [
        "manifest_url = \"https://dgcl.doshisha.ac.jp/images/manifest/50000/MD00001562.json\"\n",
        "\n",
        "manifest = IIIFManifest(manifest_url)\n",
        "\n",
        "await manifest.load()\n",
        "\n",
        "manifest.download()"
      ]
    },
    {
      "cell_type": "code",
      "source": [
        "manifest.content[\"sequences\"][0][\"canvases\"][0]"
      ],
      "metadata": {
        "colab": {
          "base_uri": "https://localhost:8080/"
        },
        "id": "zltc2heVZN3U",
        "outputId": "285b1f06-1f47-4758-c8d2-b5d6bd933643"
      },
      "execution_count": 4,
      "outputs": [
        {
          "output_type": "execute_result",
          "data": {
            "text/plain": [
              "{'@id': 'https://dgcl.doshisha.ac.jp/images/MD00001562/canvas/p1',\n",
              " '@type': 'sc:Canvas',\n",
              " 'label': '1',\n",
              " 'width': 2400,\n",
              " 'height': 1799,\n",
              " 'images': [{'@type': 'oa:Annotation',\n",
              "   'motivation': 'sc:painting',\n",
              "   'resource': {'@id': 'https://dgcl.doshisha.ac.jp/images/iiif/50000/MD00001562/282944.tiff/full/full/0/default.jpg',\n",
              "    '@type': 'dctypes:Image',\n",
              "    'format': 'image/jpeg',\n",
              "    'description': '',\n",
              "    'service': {'@context': 'http://iiif.io/api/image/2/context.json',\n",
              "     '@id': 'https://dgcl.doshisha.ac.jp/images/iiif/50000/MD00001562/282944.tiff',\n",
              "     'profile': 'http://iiif.io/api/image/2/level1.json'},\n",
              "    'label': '1'},\n",
              "   'on': 'https://dgcl.doshisha.ac.jp/images/MD00001562/canvas/p1'}]}"
            ]
          },
          "metadata": {},
          "execution_count": 4
        }
      ]
    },
    {
      "cell_type": "code",
      "source": [
        "import json\n",
        "json.loads(open(\"img/info.json\").read())[\"images\"][\"0001.jpg\"]"
      ],
      "metadata": {
        "colab": {
          "base_uri": "https://localhost:8080/",
          "height": 35
        },
        "id": "6eC0MOFobyQC",
        "outputId": "8441bb7f-0482-44bf-aa18-70de9b398400"
      },
      "execution_count": 5,
      "outputs": [
        {
          "output_type": "execute_result",
          "data": {
            "text/plain": [
              "'https://dgcl.doshisha.ac.jp/images/iiif/50000/MD00001562/282944.tiff/full/2500,/0/default.jpg'"
            ],
            "application/vnd.google.colaboratory.intrinsic+json": {
              "type": "string"
            }
          },
          "metadata": {},
          "execution_count": 5
        }
      ]
    },
    {
      "cell_type": "code",
      "source": [
        "!file img/0001.jpg"
      ],
      "metadata": {
        "colab": {
          "base_uri": "https://localhost:8080/"
        },
        "id": "rxNwqMgEaHNw",
        "outputId": "eae113ce-d4d0-4cc3-dcce-a1114d32c109"
      },
      "execution_count": 6,
      "outputs": [
        {
          "output_type": "stream",
          "name": "stdout",
          "text": [
            "img/0001.jpg: JPEG image data, JFIF standard 1.01, aspect ratio, density 1x1, segment length 16, comment: \"Generated by IIPImage\", baseline, precision 8, 2500x1874, components 3\n"
          ]
        }
      ]
    },
    {
      "cell_type": "code",
      "source": [
        "import PIL\n",
        "img = PIL.Image.open(\"img/0001.jpg\")\n",
        "img.width, img.height"
      ],
      "metadata": {
        "colab": {
          "base_uri": "https://localhost:8080/"
        },
        "id": "1fO6A7-caPci",
        "outputId": "3f3d5dda-05fe-4d14-fcc8-df61e135371e"
      },
      "execution_count": 7,
      "outputs": [
        {
          "output_type": "execute_result",
          "data": {
            "text/plain": [
              "(2500, 1874)"
            ]
          },
          "metadata": {},
          "execution_count": 7
        }
      ]
    },
    {
      "cell_type": "code",
      "source": [],
      "metadata": {
        "id": "sT37-WUHgCxg"
      },
      "execution_count": 7,
      "outputs": []
    },
    {
      "cell_type": "markdown",
      "source": [
        "## 画像をフルサイズでダウンロードするには？"
      ],
      "metadata": {
        "id": "7rpwy_m9gC5h"
      }
    },
    {
      "cell_type": "markdown",
      "source": [
        "*   max_dim が None であればよさそう\n",
        "    *   https://github.com/Segolene-Albouy/iiif-download/blob/main/src/iiif_download/image.py#L110\n",
        "*   しかし，それはできなさそう\n",
        "    *   https://github.com/Segolene-Albouy/iiif-download/blob/main/src/iiif_download/image.py#L35\n",
        "    *   https://github.com/Segolene-Albouy/iiif-download/blob/main/src/iiif_download/config.py#L150"
      ],
      "metadata": {
        "id": "43dQYxsQgIOp"
      }
    },
    {
      "cell_type": "code",
      "source": [],
      "metadata": {
        "id": "IQMmR--1gHr5"
      },
      "execution_count": 7,
      "outputs": []
    }
  ]
}