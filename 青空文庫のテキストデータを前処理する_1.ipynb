{
  "nbformat": 4,
  "nbformat_minor": 0,
  "metadata": {
    "colab": {
      "provenance": [],
      "toc_visible": true,
      "authorship_tag": "ABX9TyMrp8I+G5NxAgmO7T1FfHF/",
      "include_colab_link": true
    },
    "kernelspec": {
      "name": "python3",
      "display_name": "Python 3"
    },
    "language_info": {
      "name": "python"
    }
  },
  "cells": [
    {
      "cell_type": "markdown",
      "metadata": {
        "id": "view-in-github",
        "colab_type": "text"
      },
      "source": [
        "<a href=\"https://colab.research.google.com/github/dfukagaw28/ColabNotebooks/blob/main/%E9%9D%92%E7%A9%BA%E6%96%87%E5%BA%AB%E3%81%AE%E3%83%86%E3%82%AD%E3%82%B9%E3%83%88%E3%83%87%E3%83%BC%E3%82%BF%E3%82%92%E5%89%8D%E5%87%A6%E7%90%86%E3%81%99%E3%82%8B_1.ipynb\" target=\"_parent\"><img src=\"https://colab.research.google.com/assets/colab-badge.svg\" alt=\"Open In Colab\"/></a>"
      ]
    },
    {
      "cell_type": "markdown",
      "source": [
        "# 青空文庫のテキストデータを前処理する (1)"
      ],
      "metadata": {
        "id": "SMqoY9SWZ-Ea"
      }
    },
    {
      "cell_type": "markdown",
      "source": [
        "*   試しに『吾輩は猫である』を使って前処理の練習をおこなう\n",
        "*   元データ\n",
        "    *   青空文庫\n",
        "        *   https://www.aozora.gr.jp/cards/000148/card789.html 図書カード\n",
        "        *   https://github.com/aozorabunko/aozorabunko/blob/master/cards/000148/files/789_ruby_5639.zip テキストファイル（zip）\n",
        "*   前処理済みテキストデータ\n",
        "    *   https://nlp100.github.io/data/neko.txt\n",
        "*   参考\n",
        "    *   [青空文庫作業マニュアル【入力編】](https://www.aozora.gr.jp/aozora-manual/index-input.html)\n"
      ],
      "metadata": {
        "id": "SyQIm6cxc9b_"
      }
    },
    {
      "cell_type": "markdown",
      "source": [
        "*   「iconv で文字コード変換をする際は， `CP932` より `SHIFT_JISX0213` の方が良い」という説もあるが，それは必ずしも正しくない"
      ],
      "metadata": {
        "id": "i_pFbv6L3CzI"
      }
    },
    {
      "cell_type": "markdown",
      "source": [
        "## テキストデータをダウンロードする"
      ],
      "metadata": {
        "id": "H7pKZenz0598"
      }
    },
    {
      "cell_type": "code",
      "source": [
        "# 青空文庫のテキストデータをダウンロードする（neko1.txt）\n",
        "!curl -RLO https://github.com/aozorabunko/aozorabunko/raw/refs/heads/master/cards/000148/files/789_ruby_5639.zip\n",
        "!unzip -o 789_ruby_5639.zip wagahaiwa_nekodearu.txt\n",
        "!mv wagahaiwa_nekodearu.txt neko1.txt\n",
        "!rm -f 789_ruby_5639.zip"
      ],
      "metadata": {
        "colab": {
          "base_uri": "https://localhost:8080/"
        },
        "id": "ZNyC2AIzrCc5",
        "outputId": "9e5912e6-09df-4de8-f124-391182d58a64"
      },
      "execution_count": null,
      "outputs": [
        {
          "output_type": "stream",
          "name": "stdout",
          "text": [
            "  % Total    % Received % Xferd  Average Speed   Time    Time     Time  Current\n",
            "                                 Dload  Upload   Total   Spent    Left  Speed\n",
            "  0     0    0     0    0     0      0      0 --:--:-- --:--:-- --:--:--     0\n",
            "100  336k  100  336k    0     0   484k      0 --:--:-- --:--:-- --:--:--  484k\n",
            "Archive:  789_ruby_5639.zip\n",
            "Made with MacWinZipper (http://tidajapan.com/macwinzipper)\n",
            "  inflating: wagahaiwa_nekodearu.txt  \n"
          ]
        }
      ]
    },
    {
      "cell_type": "code",
      "source": [
        "# 前処理済みテキストデータをダウンロードする（neko2.txt）\n",
        "!curl -RLO https://nlp100.github.io/data/neko.txt\n",
        "!mv neko.txt neko2.txt"
      ],
      "metadata": {
        "colab": {
          "base_uri": "https://localhost:8080/"
        },
        "id": "vuCsSRzvrClB",
        "outputId": "2a3049dd-c07b-402f-f163-5c64a69a58ca"
      },
      "execution_count": null,
      "outputs": [
        {
          "output_type": "stream",
          "name": "stdout",
          "text": [
            "  % Total    % Received % Xferd  Average Speed   Time    Time     Time  Current\n",
            "                                 Dload  Upload   Total   Spent    Left  Speed\n",
            "100  952k  100  952k    0     0  2516k      0 --:--:-- --:--:-- --:--:-- 2514k\n"
          ]
        }
      ]
    },
    {
      "cell_type": "markdown",
      "source": [
        "## ２つのテキストデータを比較する"
      ],
      "metadata": {
        "id": "6ctbePA_2Ewe"
      }
    },
    {
      "cell_type": "code",
      "source": [
        "!iconv -f SHIFT_JISX0213 -t utf8 neko1.txt | head -n 30"
      ],
      "metadata": {
        "colab": {
          "base_uri": "https://localhost:8080/"
        },
        "id": "SFlCk35m2HzI",
        "outputId": "2e9a78ca-eb0d-4fe3-e32d-989967012f06"
      },
      "execution_count": null,
      "outputs": [
        {
          "output_type": "stream",
          "name": "stdout",
          "text": [
            "吾輩は猫である\r\n",
            "夏目漱石\r\n",
            "\r\n",
            "-------------------------------------------------------\r\n",
            "【テキスト中に現れる記号について】\r\n",
            "\r\n",
            "《》：ルビ\r\n",
            "（例）吾輩《わがはい》\r\n",
            "\r\n",
            "｜：ルビの付く文字列の始まりを特定する記号\r\n",
            "（例）一番｜獰悪《どうあく》\r\n",
            "\r\n",
            "［＃］：入力者注　主に外字の説明や、傍点の位置の指定\r\n",
            "　　　（数字は、JIS X 0213の面区点番号またはUnicode、底本のページと行数）\r\n",
            "（例）※［＃「言＋墟のつくり」、第4水準2-88-74］\r\n",
            "\r\n",
            "〔〕：アクセント分解された欧文をかこむ\r\n",
            "（例）〔Quid aliud est mulier nisi amicitiae& inimica〕\r\n",
            "アクセント分解についての詳細は下記URLを参照してください\r\n",
            "http://www.aozora.gr.jp/accent_separation.html\r\n",
            "-------------------------------------------------------\r\n",
            "\r\n",
            "［＃８字下げ］一［＃「一」は中見出し］\r\n",
            "\r\n",
            "　吾輩《わがはい》は猫である。名前はまだ無い。\r\n",
            "　どこで生れたかとんと見当《けんとう》がつかぬ。何でも薄暗いじめじめした所でニャーニャー泣いていた事だけは記憶している。吾輩はここで始めて人間というものを見た。しかもあとで聞くとそれは書生という人間中で一番｜獰悪《どうあく》な種族であったそうだ。この書生というのは時々我々を捕《つかま》えて煮《に》て食うという話である。しかしその当時は何という考もなかったから別段恐しいとも思わなかった。ただ彼の掌《てのひら》に載せられてスーと持ち上げられた時何だかフワフワした感じがあったばかりである。掌の上で少し落ちついて書生の顔を見たのがいわゆる人間というものの見始《みはじめ》であろう。この時妙なものだと思った感じが今でも残っている。第一毛をもって装飾されべきはずの顔がつるつるしてまるで薬缶《やかん》だ。その後《ご》猫にもだいぶ逢《あ》ったがこんな片輪《かたわ》には一度も出会《でく》わした事がない。のみならず顔の真中があまりに突起している。そうしてその穴の中から時々ぷうぷうと煙《けむり》を吹く。どうも咽《む》せぽくて実に弱った。これが人間の飲む煙草《たばこ》というものである事はようやくこの頃知った。\r\n",
            "　この書生の掌の裏《うち》でしばらくはよい心持に坐っておったが、しばらくすると非常な速力で運転し始めた。書生が動くのか自分だけが動くのか分らないが無暗《むやみ》に眼が廻る。胸が悪くなる。到底《とうてい》助からないと思っていると、どさりと音がして眼から火が出た。それまでは記憶しているがあとは何の事やらいくら考え出そうとしても分らない。\r\n",
            "　ふと気が付いて見ると書生はいない。たくさんおった兄弟が一｜疋《ぴき》も見えぬ。肝心《かんじん》の母親さえ姿を隠してしまった。その上｜今《いま》までの所とは違って無暗《むやみ》に明るい。眼を明いていられぬくらいだ。はてな何でも容子《ようす》がおかしいと、のそのそ這《は》い出して見ると非常に痛い。吾輩は藁《わら》の上から急に笹原の中へ棄てられたのである。\r\n",
            "　ようやくの思いで笹原を這い出すと向うに大きな池がある。吾輩は池の前に坐ってどうしたらよかろうと考えて見た。別にこれという分別《ふんべつ》も出ない。しばらくして泣いたら書生がまた迎に来てくれるかと考え付いた。ニャー、ニャーと試みにやって見たが誰も来ない。そのうち池の上をさらさらと風が渡って日が暮れかかる。腹が非常に減って来た。泣きたくても声が出ない。仕方がない、何でもよいから食物《くいもの》のある所まであるこうと決心をしてそろりそろりと池を左《ひだ》りに廻り始めた。どうも非常に苦しい。そこを我慢して無理やりに這《は》って行くとようやくの事で何となく人間臭い所へ出た。ここへ這入《はい》ったら、どうにかなると思って竹垣の崩《くず》れた穴から、とある邸内にもぐり込んだ。縁は不思議なもので、もしこの竹垣が破れていなかったなら、吾輩はついに路傍《ろぼう》に餓死《がし》したかも知れんのである。一樹の蔭とはよく云《い》ったものだ。この垣根の穴は今日《こんにち》に至るまで吾輩が隣家《となり》の三毛を訪問する時の通路になっている。さて邸《やしき》へは忍び込んだもののこれから先どうして善《い》いか分らない。そのうちに暗くなる、腹は減る、寒さは寒し、雨が降って来るという始末でもう一刻の猶予《ゆうよ》が出来なくなった。仕方がないからとにかく明るくて暖かそうな方へ方へとあるいて行く。今から考えるとその時はすでに家の内に這入っておったのだ。ここで吾輩は彼《か》の書生以外の人間を再び見るべき機会に遭遇《そうぐう》したのである。第一に逢ったのがおさんである。これは前の書生より一層乱暴な方で吾輩を見るや否やいきなり頸筋《くびすじ》をつかんで表へ抛《ほう》り出した。いやこれは駄目だと思ったから眼をねぶって運を天に任せていた。しかしひもじいのと寒いのにはどうしても我慢が出来ん。吾輩は再びおさんの隙《すき》を見て台所へ這《は》い上《あが》った。すると間もなくまた投げ出された。吾輩は投げ出されては這い上り、這い上っては投げ出され、何でも同じ事を四五遍繰り返したのを記憶している。その時におさんと云う者はつくづくいやになった。この間おさんの三馬《さんま》を偸《ぬす》んでこの返報をしてやってから、やっと胸の痞《つかえ》が下りた。吾輩が最後につまみ出されようとしたときに、この家《うち》の主人が騒々しい何だといいながら出て来た。下女は吾輩をぶら下げて主人の方へ向けてこの宿《やど》なしの小猫がいくら出しても出しても御台所《おだいどころ》へ上《あが》って来て困りますという。主人は鼻の下の黒い毛を撚《ひね》りながら吾輩の顔をしばらく眺《なが》めておったが、やがてそんなら内へ置いてやれといったまま奥へ這入《はい》ってしまった。主人はあまり口を聞かぬ人と見えた。下女は口惜《くや》しそうに吾輩を台所へ抛《ほう》り出した。かくして吾輩はついにこの家《うち》を自分の住家《すみか》と極《き》める事にしたのである。\r\n",
            "　吾輩の主人は滅多《めった》に吾輩と顔を合せる事がない。職業は教師だそうだ。学校から帰ると終日書斎に這入ったぎりほとんど出て来る事がない。家のものは大変な勉強家だと思っている。当人も勉強家であるかのごとく見せている。しかし実際はうちのものがいうような勤勉家ではない。吾輩は時々忍び足に彼の書斎を覗《のぞ》いて見るが、彼はよく昼寝《ひるね》をしている事がある。時々読みかけてある本の上に涎《よだれ》をたらしている。彼は胃弱で皮膚の色が淡黄色《たんこうしょく》を帯びて弾力のない不活溌《ふかっぱつ》な徴候をあらわしている。その癖に大飯を食う。大飯を食った後《あと》でタカジヤスターゼを飲む。飲んだ後で書物をひろげる。二三ページ読むと眠くなる。涎を本の上へ垂らす。これが彼の毎夜繰り返す日課である。吾輩は猫ながら時々考える事がある。教師というものは実に楽《らく》なものだ。人間と生れたら教師となるに限る。こんなに寝ていて勤まるものなら猫にでも出来ぬ事はないと。それでも主人に云わせると教師ほどつらいものはないそうで彼は友達が来る度《たび》に何とかかんとか不平を鳴らしている。\r\n"
          ]
        }
      ]
    },
    {
      "cell_type": "code",
      "source": [
        "!head -n 10 neko2.txt"
      ],
      "metadata": {
        "colab": {
          "base_uri": "https://localhost:8080/"
        },
        "id": "rVNlNxyk2mc-",
        "outputId": "949525b2-c537-4069-e212-34651315f58e"
      },
      "execution_count": null,
      "outputs": [
        {
          "output_type": "stream",
          "name": "stdout",
          "text": [
            "一\r\n",
            "\r\n",
            "　吾輩は猫である。\r\n",
            "名前はまだ無い。\r\n",
            "\r\n",
            "　どこで生れたかとんと見当がつかぬ。\r\n",
            "何でも薄暗いじめじめした所でニャーニャー泣いていた事だけは記憶している。\r\n",
            "吾輩はここで始めて人間というものを見た。\r\n",
            "しかもあとで聞くとそれは書生という人間中で一番獰悪な種族であったそうだ。\r\n",
            "この書生というのは時々我々を捕えて煮て食うという話である。\r\n"
          ]
        }
      ]
    },
    {
      "cell_type": "markdown",
      "source": [
        "## ２つのテキストデータを読み込む"
      ],
      "metadata": {
        "id": "pN25rRZX3WLj"
      }
    },
    {
      "cell_type": "code",
      "source": [
        "text1 = open('neko1.txt', encoding='cp932').read()\n",
        "text2 = open('neko2.txt').read()"
      ],
      "metadata": {
        "id": "142vY8lU3Zxt"
      },
      "execution_count": null,
      "outputs": []
    },
    {
      "cell_type": "markdown",
      "source": [
        "## 冒頭の記載事項（タイトル・著者名等）を検出して除去する"
      ],
      "metadata": {
        "id": "abxjaaHu19rT"
      }
    },
    {
      "cell_type": "code",
      "source": [
        "try:\n",
        "  pos = text1.index('\\n\\n')\n",
        "  display(text1[:pos])\n",
        "  text1 = text1[pos+2:]\n",
        "except:\n",
        "  pass"
      ],
      "metadata": {
        "colab": {
          "base_uri": "https://localhost:8080/",
          "height": 35
        },
        "id": "XLI4WuWwrCnu",
        "outputId": "aa0facf7-59da-48a4-87d1-a7d2a9a6f17a"
      },
      "execution_count": null,
      "outputs": [
        {
          "output_type": "display_data",
          "data": {
            "text/plain": [
              "'吾輩は猫である\\n夏目漱石'"
            ],
            "application/vnd.google.colaboratory.intrinsic+json": {
              "type": "string"
            }
          },
          "metadata": {}
        }
      ]
    },
    {
      "cell_type": "markdown",
      "source": [
        "## 【テキスト中に現れる記号について】を検出して除去する"
      ],
      "metadata": {
        "id": "McfPirVi33RE"
      }
    },
    {
      "cell_type": "code",
      "source": [
        "try:\n",
        "  pos = text1.index('\\n')\n",
        "  display(text1[:pos])\n",
        "except:\n",
        "  pass"
      ],
      "metadata": {
        "colab": {
          "base_uri": "https://localhost:8080/",
          "height": 35
        },
        "id": "aF2ZGVlyrCt6",
        "outputId": "8cd2aad4-bab5-4953-b7b9-e71358e6737a"
      },
      "execution_count": null,
      "outputs": [
        {
          "output_type": "display_data",
          "data": {
            "text/plain": [
              "'-------------------------------------------------------'"
            ],
            "application/vnd.google.colaboratory.intrinsic+json": {
              "type": "string"
            }
          },
          "metadata": {}
        }
      ]
    },
    {
      "cell_type": "code",
      "source": [
        "try:\n",
        "  pos = text1.index('\\n\\n')\n",
        "  display(text1[:pos])\n",
        "except:\n",
        "  pass"
      ],
      "metadata": {
        "colab": {
          "base_uri": "https://localhost:8080/",
          "height": 35
        },
        "id": "zu1NebDVrCw-",
        "outputId": "e158ae5d-5b6d-4fca-f3e2-00ecf9aa65f0"
      },
      "execution_count": null,
      "outputs": [
        {
          "output_type": "display_data",
          "data": {
            "text/plain": [
              "'-------------------------------------------------------\\n【テキスト中に現れる記号について】'"
            ],
            "application/vnd.google.colaboratory.intrinsic+json": {
              "type": "string"
            }
          },
          "metadata": {}
        }
      ]
    },
    {
      "cell_type": "code",
      "source": [
        "try:\n",
        "  # 最初の行が「--------」で始まることを確認する\n",
        "  assert text1.startswith('--------')\n",
        "\n",
        "  # 最初の行を読み飛ばす\n",
        "  pos = text1.index('\\n')\n",
        "  text1 = text1[pos+1:]\n",
        "\n",
        "  # 次に「--------」で始まる行を探す\n",
        "  pos = text1.index('--------')\n",
        "\n",
        "  # 「--------」で始まる行によって囲まれた部分を表示する\n",
        "  display(text1[:pos])\n",
        "\n",
        "  # 2つ目の「--------」で始まる行の末尾を探す\n",
        "  pos = text1.index('\\n', pos)\n",
        "\n",
        "  # 2つ目の「--------」で始まる行の次の行は空行\n",
        "  assert text1[pos+1] == '\\n'\n",
        "\n",
        "  # 2つ目の「--------」で始まる行と，次の行（空行）までを読み飛ばす\n",
        "  text1 = text1[pos+2:]\n",
        "except:\n",
        "  pass"
      ],
      "metadata": {
        "colab": {
          "base_uri": "https://localhost:8080/",
          "height": 87
        },
        "id": "UJDpG_2N5Ol0",
        "outputId": "6edfae2d-d7cf-4f49-cf96-9b32f90e12cd"
      },
      "execution_count": null,
      "outputs": [
        {
          "output_type": "display_data",
          "data": {
            "text/plain": [
              "'【テキスト中に現れる記号について】\\n\\n《》：ルビ\\n（例）吾輩《わがはい》\\n\\n｜：ルビの付く文字列の始まりを特定する記号\\n（例）一番｜獰悪《どうあく》\\n\\n［＃］：入力者注\\u3000主に外字の説明や、傍点の位置の指定\\n\\u3000\\u3000\\u3000（数字は、JIS X 0213の面区点番号またはUnicode、底本のページと行数）\\n（例）※［＃「言＋墟のつくり」、第4水準2-88-74］\\n\\n〔〕：アクセント分解された欧文をかこむ\\n（例）〔Quid aliud est mulier nisi amicitiae& inimica〕\\nアクセント分解についての詳細は下記URLを参照してください\\nhttp://www.aozora.gr.jp/accent_separation.html\\n'"
            ],
            "application/vnd.google.colaboratory.intrinsic+json": {
              "type": "string"
            }
          },
          "metadata": {}
        }
      ]
    },
    {
      "cell_type": "code",
      "source": [
        "text1[:100]"
      ],
      "metadata": {
        "colab": {
          "base_uri": "https://localhost:8080/",
          "height": 53
        },
        "id": "ul3JZN0A6oJF",
        "outputId": "89197022-1f5e-4fcc-eead-2e2da57b1011"
      },
      "execution_count": null,
      "outputs": [
        {
          "output_type": "execute_result",
          "data": {
            "text/plain": [
              "'［＃８字下げ］一［＃「一」は中見出し］\\n\\n\\u3000吾輩《わがはい》は猫である。名前はまだ無い。\\n\\u3000どこで生れたかとんと見当《けんとう》がつかぬ。何でも薄暗いじめじめした所でニャーニャー泣いていた事だけは記憶'"
            ],
            "application/vnd.google.colaboratory.intrinsic+json": {
              "type": "string"
            }
          },
          "metadata": {},
          "execution_count": 10
        }
      ]
    },
    {
      "cell_type": "markdown",
      "source": [
        "## 本文の末尾の情報（底本，入力・校正にかんする情報等）を検出して除去する"
      ],
      "metadata": {
        "id": "4qVIpzIlwMAL"
      }
    },
    {
      "cell_type": "code",
      "source": [
        "text1[-600:]"
      ],
      "metadata": {
        "colab": {
          "base_uri": "https://localhost:8080/",
          "height": 157
        },
        "outputId": "48cf5945-431c-4353-da55-bb219a930691",
        "id": "mdPdn7QgwMAL"
      },
      "execution_count": null,
      "outputs": [
        {
          "output_type": "execute_result",
          "data": {
            "text/plain": [
              "'しいのだかありがたいのだか見当がつかない。水の中にいるのだか、座敷の上にいるのだか、判然しない。どこにどうしていても差支《さしつか》えはない。ただ楽である。否《いな》楽そのものすらも感じ得ない。日月《じつげつ》を切り落し、天地を粉韲《ふんせい》して不可思議の太平に入る。吾輩は死ぬ。死んでこの太平を得る。太平は死ななければ得られぬ。南無阿弥陀仏《なむあみだぶつ》南無阿弥陀仏。ありがたいありがたい。\\n\\n\\n\\n底本：「夏目漱石全集1」ちくま文庫、筑摩書房\\n\\u3000\\u3000\\u30001987（昭和62）年9月29日第1刷発行\\n底本の親本：「筑摩全集類聚版\\u3000夏目漱石全集\\u30001」筑摩書房\\n\\u3000\\u3000\\u30001971（昭和46）年4月5日初版\\n初出：「ホトトギス」\\n\\u3000\\u3000\\u30001905（明治38）年1月、2月、4月、6月、7月、10月\\n\\u3000\\u3000\\u30001906（明治39）年1月、3月、4月、8月\\n※誤植を疑った箇所を、底本の親本の表記にそって、あらためました。\\n入力：柴田卓治\\n校正：渡部峰子（一）、おのしげひこ（二、五）、田尻幹二（三）、高橋真也（四、七、八、十、十一）、しず（六）、瀬戸さえ子（九）\\n1999年9月17日公開\\n2018年2月5日修正\\n青空文庫作成ファイル：\\nこのファイルは、インターネットの図書館、青空文庫（http://www.aozora.gr.jp/）で作られました。入力、校正、制作にあたったのは、ボランティアの皆さんです。\\n'"
            ],
            "application/vnd.google.colaboratory.intrinsic+json": {
              "type": "string"
            }
          },
          "metadata": {},
          "execution_count": 11
        }
      ]
    },
    {
      "cell_type": "code",
      "source": [
        "print(text1[-600:])"
      ],
      "metadata": {
        "colab": {
          "base_uri": "https://localhost:8080/"
        },
        "id": "0ujVIB2g6oM9",
        "outputId": "5e7cd8fb-edd4-4de2-ea5e-6503ba1720d4"
      },
      "execution_count": null,
      "outputs": [
        {
          "output_type": "stream",
          "name": "stdout",
          "text": [
            "しいのだかありがたいのだか見当がつかない。水の中にいるのだか、座敷の上にいるのだか、判然しない。どこにどうしていても差支《さしつか》えはない。ただ楽である。否《いな》楽そのものすらも感じ得ない。日月《じつげつ》を切り落し、天地を粉韲《ふんせい》して不可思議の太平に入る。吾輩は死ぬ。死んでこの太平を得る。太平は死ななければ得られぬ。南無阿弥陀仏《なむあみだぶつ》南無阿弥陀仏。ありがたいありがたい。\n",
            "\n",
            "\n",
            "\n",
            "底本：「夏目漱石全集1」ちくま文庫、筑摩書房\n",
            "　　　1987（昭和62）年9月29日第1刷発行\n",
            "底本の親本：「筑摩全集類聚版　夏目漱石全集　1」筑摩書房\n",
            "　　　1971（昭和46）年4月5日初版\n",
            "初出：「ホトトギス」\n",
            "　　　1905（明治38）年1月、2月、4月、6月、7月、10月\n",
            "　　　1906（明治39）年1月、3月、4月、8月\n",
            "※誤植を疑った箇所を、底本の親本の表記にそって、あらためました。\n",
            "入力：柴田卓治\n",
            "校正：渡部峰子（一）、おのしげひこ（二、五）、田尻幹二（三）、高橋真也（四、七、八、十、十一）、しず（六）、瀬戸さえ子（九）\n",
            "1999年9月17日公開\n",
            "2018年2月5日修正\n",
            "青空文庫作成ファイル：\n",
            "このファイルは、インターネットの図書館、青空文庫（http://www.aozora.gr.jp/）で作られました。入力、校正、制作にあたったのは、ボランティアの皆さんです。\n",
            "\n"
          ]
        }
      ]
    },
    {
      "cell_type": "code",
      "source": [
        "try:\n",
        "  pos = text1.index('\\n\\n\\n\\n')\n",
        "  print(text1[pos:])\n",
        "  text1 = text1[:pos]\n",
        "except:\n",
        "  pass"
      ],
      "metadata": {
        "colab": {
          "base_uri": "https://localhost:8080/"
        },
        "id": "eqhHsNVvwCB8",
        "outputId": "4b3a07a7-e9a6-4735-e9f3-d657f80ec509"
      },
      "execution_count": null,
      "outputs": [
        {
          "output_type": "stream",
          "name": "stdout",
          "text": [
            "\n",
            "\n",
            "\n",
            "\n",
            "底本：「夏目漱石全集1」ちくま文庫、筑摩書房\n",
            "　　　1987（昭和62）年9月29日第1刷発行\n",
            "底本の親本：「筑摩全集類聚版　夏目漱石全集　1」筑摩書房\n",
            "　　　1971（昭和46）年4月5日初版\n",
            "初出：「ホトトギス」\n",
            "　　　1905（明治38）年1月、2月、4月、6月、7月、10月\n",
            "　　　1906（明治39）年1月、3月、4月、8月\n",
            "※誤植を疑った箇所を、底本の親本の表記にそって、あらためました。\n",
            "入力：柴田卓治\n",
            "校正：渡部峰子（一）、おのしげひこ（二、五）、田尻幹二（三）、高橋真也（四、七、八、十、十一）、しず（六）、瀬戸さえ子（九）\n",
            "1999年9月17日公開\n",
            "2018年2月5日修正\n",
            "青空文庫作成ファイル：\n",
            "このファイルは、インターネットの図書館、青空文庫（http://www.aozora.gr.jp/）で作られました。入力、校正、制作にあたったのは、ボランティアの皆さんです。\n",
            "\n"
          ]
        }
      ]
    },
    {
      "cell_type": "markdown",
      "source": [
        "## ルビに関する記述を削除する"
      ],
      "metadata": {
        "id": "ywU2y8UexOv8"
      }
    },
    {
      "cell_type": "code",
      "source": [
        "import re\n",
        "\n",
        "text1 = re.sub('《.+?》', '', text1)\n",
        "text1 = re.sub('｜', '', text1)"
      ],
      "metadata": {
        "id": "iL-ktPW2wCIh"
      },
      "execution_count": null,
      "outputs": []
    },
    {
      "cell_type": "markdown",
      "source": [
        "## 注記情報（レイアウト情報，入力者注等）を検出して削除する"
      ],
      "metadata": {
        "id": "Y37RWHjYyyZj"
      }
    },
    {
      "cell_type": "code",
      "source": [
        "text1 = re.sub(r'［＃.*?］', '', text1)"
      ],
      "metadata": {
        "id": "EG-Jv8bOwCLc"
      },
      "execution_count": null,
      "outputs": []
    },
    {
      "cell_type": "markdown",
      "source": [
        "## 文ごとに改行する"
      ],
      "metadata": {
        "id": "W99A6Fj82d5g"
      }
    },
    {
      "cell_type": "markdown",
      "source": [
        "*   文を検出するのは大変なので，「。」「？」の直後に改行する"
      ],
      "metadata": {
        "id": "XHNxWL4z2iXY"
      }
    },
    {
      "cell_type": "code",
      "source": [
        "text1 = re.sub('(。|？)', '\\\\1\\n', text1)"
      ],
      "metadata": {
        "id": "n38QSFTd278p"
      },
      "execution_count": null,
      "outputs": []
    },
    {
      "cell_type": "markdown",
      "source": [
        "## HORIZONTAL BAR (U+2015) を EM DASH (U+2014) に変換する"
      ],
      "metadata": {
        "id": "P1GU0z0V4flF"
      }
    },
    {
      "cell_type": "markdown",
      "source": [
        "*   いわゆる全角ダッシュ\n",
        "    *   [Wikipedia 全角ダッシュのマッピング問題](https://ja.wikipedia.org/wiki/%E3%83%80%E3%83%83%E3%82%B7%E3%83%A5_(%E8%A8%98%E5%8F%B7)#%E5%85%A8%E8%A7%92%E3%83%80%E3%83%83%E3%82%B7%E3%83%A5%E3%81%AE%E3%83%9E%E3%83%83%E3%83%94%E3%83%B3%E3%82%B0%E5%95%8F%E9%A1%8C)\n",
        "    *   [文字コードについて (1)](https://github.com/dfukagaw28/ColabNotebooks/blob/main/%E6%96%87%E5%AD%97%E3%82%B3%E3%83%BC%E3%83%89%E3%81%AB%E3%81%A4%E3%81%84%E3%81%A6_1.ipynb)\n",
        "*   青空文庫の Shift-JIS テキストデータには `81 5C` が含まれる。iconv 2.35 の cp932 ではこれを正しく変換できない。\n",
        "    *   かつて cp932 の文字コード表に誤りがあり，まだ修正が反映されていない\n",
        "    *   文字コードとして IBM932 や\tSHIFTJISX0213 を指定すると正しく EM DASH (U+2014) に変換されるが，他の文字の変換ができない\n",
        "    *   iconv でなく nkf 2.1.5 だと，正しく EM DASH (U+2014) にマッピングされるが，やはり他の文字の変換で失敗する\n",
        "*   Python の encode/decode でも iconv と同様の問題がある\n",
        "*   そのようなわけで，泥臭く手作業で変換する"
      ],
      "metadata": {
        "id": "Gv6AJwXG8go-"
      }
    },
    {
      "cell_type": "markdown",
      "source": [
        "*   テキストデータに `81 5c` が含まれることを確認する"
      ],
      "metadata": {
        "id": "jLFaC1tO-ypm"
      }
    },
    {
      "cell_type": "code",
      "source": [
        "!head -n 31 neko1.txt | tail -n 1 | tail -c 264 | head -c 80 | iconv -f cp932 -t utf8"
      ],
      "metadata": {
        "colab": {
          "base_uri": "https://localhost:8080/"
        },
        "id": "zOLnY4lndy-x",
        "outputId": "2fd9e149-2272-4cf1-cc26-bc6476185044"
      },
      "execution_count": null,
      "outputs": [
        {
          "output_type": "stream",
          "name": "stdout",
          "text": [
            "は――ことに小さい方が質《たち》がわるい――猫が来た猫が来たといって夜中でも何で"
          ]
        }
      ]
    },
    {
      "cell_type": "code",
      "source": [
        "!head -n 31 neko1.txt | tail -n 1 | tail -c 264 | head -c 80| hexdump -C | head"
      ],
      "metadata": {
        "colab": {
          "base_uri": "https://localhost:8080/"
        },
        "id": "mHVH2TJJ02BM",
        "outputId": "162cc0df-34ee-4ddb-d033-7281e59d229e"
      },
      "execution_count": null,
      "outputs": [
        {
          "output_type": "stream",
          "name": "stdout",
          "text": [
            "00000000  82 cd 81 5c 81 5c 82 b1  82 c6 82 c9 8f ac 82 b3  |...\\.\\..........|\n",
            "00000010  82 a2 95 fb 82 aa 8e bf  81 73 82 bd 82 bf 81 74  |.........s.....t|\n",
            "00000020  82 aa 82 ed 82 e9 82 a2  81 5c 81 5c 94 4c 82 aa  |.........\\.\\.L..|\n",
            "00000030  97 88 82 bd 94 4c 82 aa  97 88 82 bd 82 c6 82 a2  |.....L..........|\n",
            "00000040  82 c1 82 c4 96 e9 92 86  82 c5 82 e0 89 bd 82 c5  |................|\n",
            "00000050\n"
          ]
        }
      ]
    },
    {
      "cell_type": "markdown",
      "source": [
        "*   U+2015 を U+2014 に変換する"
      ],
      "metadata": {
        "id": "bMJlJTx3-5TF"
      }
    },
    {
      "cell_type": "code",
      "source": [
        "text1 = text1.replace('\\u2015', '\\u2014')"
      ],
      "metadata": {
        "id": "f4SkksOz70YJ"
      },
      "execution_count": null,
      "outputs": []
    },
    {
      "cell_type": "markdown",
      "source": [
        "## 以上の前処理を一気におこなう"
      ],
      "metadata": {
        "id": "kBZ9hFYNBYnQ"
      }
    },
    {
      "cell_type": "code",
      "source": [
        "import re\n",
        "\n",
        "\n",
        "def aozora_preprocess(text):\n",
        "  # 冒頭の記載事項（タイトル・著者名等）を検出して除去する\n",
        "  try:\n",
        "    pos = text.index('\\n\\n')\n",
        "    text = text[pos+2:]\n",
        "  except:\n",
        "    pass\n",
        "\n",
        "  # 【テキスト中に現れる記号について】を検出して除去する\n",
        "  try:\n",
        "    # 最初の行が「--------」で始まることを確認する\n",
        "    assert text.startswith('--------')\n",
        "\n",
        "    # ２つ目の「--------」で始まる行と，その次の空行を除去する\n",
        "    pos = text.index('\\n') + 1\n",
        "    pos = text.index('--------', pos)\n",
        "    pos = text.index('\\n\\n', pos) + 2\n",
        "    text = text[pos:]\n",
        "  except:\n",
        "    pass\n",
        "\n",
        "  # 本文の末尾の情報（底本，入力・校正にかんする情報等）を検出して除去する\n",
        "  try:\n",
        "    pos = text.index('\\n\\n\\n\\n')\n",
        "    text = text[:pos]\n",
        "  except:\n",
        "    pass\n",
        "\n",
        "  # ルビに関する記述を削除する\n",
        "  text = re.sub('《.+?》', '', text)\n",
        "  text = re.sub('｜', '', text)\n",
        "\n",
        "  # 注記情報（レイアウト情報，入力者注等）を検出して削除する\n",
        "  text = re.sub(r'［＃.*?］', '', text)\n",
        "\n",
        "  # 文ごとに改行する\n",
        "  text = re.sub('(。|？)', '\\\\1\\n', text)\n",
        "\n",
        "  # HORIZONTAL BAR (U+2015) を EM DASH (U+2014) に変換する\n",
        "  text = text.replace('\\u2015', '\\u2014')\n",
        "\n",
        "  return text"
      ],
      "metadata": {
        "id": "W7Sayo2BBiJa"
      },
      "execution_count": null,
      "outputs": []
    },
    {
      "cell_type": "code",
      "source": [
        "text1 = open('neko1.txt', encoding='cp932').read()\n",
        "text1 = aozora_preprocess(text1)\n",
        "\n",
        "text1[:100]"
      ],
      "metadata": {
        "colab": {
          "base_uri": "https://localhost:8080/",
          "height": 53
        },
        "id": "C-hCwh4b3k2P",
        "outputId": "4d268f6e-7b2b-4f86-aa51-7d1223904358"
      },
      "execution_count": null,
      "outputs": [
        {
          "output_type": "execute_result",
          "data": {
            "text/plain": [
              "'一\\n\\n\\u3000吾輩は猫である。\\n名前はまだ無い。\\n\\n\\u3000どこで生れたかとんと見当がつかぬ。\\n何でも薄暗いじめじめした所でニャーニャー泣いていた事だけは記憶している。\\n吾輩はここで始めて人間というものを見た。\\n'"
            ],
            "application/vnd.google.colaboratory.intrinsic+json": {
              "type": "string"
            }
          },
          "metadata": {},
          "execution_count": 21
        }
      ]
    },
    {
      "cell_type": "code",
      "source": [
        "text2 = open('neko2.txt').read()\n",
        "\n",
        "text2[:100]"
      ],
      "metadata": {
        "colab": {
          "base_uri": "https://localhost:8080/",
          "height": 53
        },
        "id": "euJjSqyR3k-w",
        "outputId": "ed7df065-231a-49ac-951d-1c8b9cefdf8a"
      },
      "execution_count": null,
      "outputs": [
        {
          "output_type": "execute_result",
          "data": {
            "text/plain": [
              "'一\\n\\n\\u3000吾輩は猫である。\\n名前はまだ無い。\\n\\n\\u3000どこで生れたかとんと見当がつかぬ。\\n何でも薄暗いじめじめした所でニャーニャー泣いていた事だけは記憶している。\\n吾輩はここで始めて人間というものを見た。\\n'"
            ],
            "application/vnd.google.colaboratory.intrinsic+json": {
              "type": "string"
            }
          },
          "metadata": {},
          "execution_count": 22
        }
      ]
    },
    {
      "cell_type": "markdown",
      "source": [
        "## ２つのテキストデータを比較する"
      ],
      "metadata": {
        "id": "HM7kur_NAkd1"
      }
    },
    {
      "cell_type": "code",
      "source": [
        "print(text1, file=open('text1.txt', 'w'))\n",
        "print(text2, file=open('text2.txt', 'w'))\n",
        "!diff -u text1.txt text2.txt"
      ],
      "metadata": {
        "colab": {
          "base_uri": "https://localhost:8080/"
        },
        "id": "smzRf1Uv28Jl",
        "outputId": "cb7e69d4-67ca-4cd0-b166-0d047db5c0f9"
      },
      "execution_count": null,
      "outputs": [
        {
          "output_type": "stream",
          "name": "stdout",
          "text": [
            "--- text1.txt\t2024-10-20 22:10:55.693997705 +0000\n",
            "+++ text2.txt\t2024-10-20 22:10:55.701998414 +0000\n",
            "@@ -738,7 +738,7 @@\n",
            " 二絃琴の御師匠さんよ」「それは吾輩も知っていますがね。\n",
            " その御身分は何なんです。\n",
            " いずれ昔しは立派な方なんでしょうな」「ええ」\n",
            "-君を待つ間の姫小松……………\n",
            "+　　君を待つ間の姫小松……………\n",
            " 　障子の内で御師匠さんが二絃琴を弾き出す。\n",
            " 「宜い声でしょう」と三毛子は自慢する。\n",
            " 「宜いようだが、吾輩にはよくわからん。\n",
            "@@ -3842,7 +3842,7 @@\n",
            " 「実に丈夫な帽子です事ねえ、どうしたんでしょう」と細君がいよいよ感心すると「なにどうもしたんじゃありません、元からこう云う帽子なんです」と迷亭は帽子を被ったまま細君に返事をしている。\n",
            " \n",
            " 「あなたも、あんな帽子を御買になったら、いいでしょう」としばらくして細君は主人に勧めかけた。\n",
            "-「だって苦沙弥君は立派な麦藁の奴を持ってるじゃありませんか」「ところがあなた、せんだって小供があれを踏み潰してしまいまして」「おやおやそりゃ措しい事をしましたね」「だから今度はあなたのような丈夫で奇麗なのを買ったら善かろうと思いますんで」と細君はパナマの価段を知らないものだから「これになさいよ、ねえ、あなた」としきりに主人に勧告している。\n",
            "+「だって苦沙弥君は立派な麦藁の奴を持ってるじゃありませんか」「ところがあなた、せんだって小供があれを踏み潰してしまいまして」「おやおやそりゃ惜しい事をしましたね」「だから今度はあなたのような丈夫で奇麗なのを買ったら善かろうと思いますんで」と細君はパナマの価段を知らないものだから「これになさいよ、ねえ、あなた」としきりに主人に勧告している。\n",
            " \n",
            " 　迷亭君は今度は右の袂の中から赤いケース入りの鋏を取り出して細君に見せる。\n",
            " 「奥さん、帽子はそのくらいにしてこの鋏を御覧なさい。\n",
            "@@ -8832,7 +8832,7 @@\n",
            " 「どれ」\n",
            " 「この二行さ」\n",
            " 「何だって？\n",
            "-　〔Quid aliud est mulier nisi amicitiae& inimica〕……こりゃ君羅甸語じゃないか」\n",
            "+　……こりゃ君羅甸語じゃないか」\n",
            " 「羅甸語は分ってるが、何と読むのだい」\n",
            " 「だって君は平生羅甸語が読めると云ってるじゃないか」と迷亭君も危険だと見て取って、ちょっと逃げた。\n",
            " \n",
            "@@ -9962,3 +9962,4 @@\n",
            " 南無阿弥陀仏南無阿弥陀仏。\n",
            " ありがたいありがたい。\n",
            " \n",
            "+\n"
          ]
        }
      ]
    },
    {
      "cell_type": "markdown",
      "source": [
        "##   「措 (U+63AA)」と「惜 (U+60DC)」"
      ],
      "metadata": {
        "id": "omIKBilF66pu"
      }
    },
    {
      "cell_type": "markdown",
      "source": [
        "*   文字化けではなく，漢字の誤用の修正らしい\n",
        "    *   青空文庫版は原文ママ\n",
        "    *   自然言語処理100本ノック版は修正済み"
      ],
      "metadata": {
        "id": "7558ReEM-Jps"
      }
    },
    {
      "cell_type": "code",
      "source": [
        "!head -c $(printf \"%d\" 0x4f6e1) neko1.txt | tail -c 48 | iconv -f cp932\n",
        "!echo\n",
        "!head -c $(printf \"%d\" 0x4f6e1) neko1.txt | tail -c 48 | hexdump -C"
      ],
      "metadata": {
        "colab": {
          "base_uri": "https://localhost:8080/"
        },
        "id": "TzotJsya8SnI",
        "outputId": "16b2d62a-4e36-44ed-b1c6-78210f9d242a"
      },
      "execution_count": null,
      "outputs": [
        {
          "output_type": "stream",
          "name": "stdout",
          "text": [
            "そりゃ措しい［＃「措しい」はママ］事をしましたね\n",
            "00000000  82 bb 82 e8 82 e1 91 5b  82 b5 82 a2 81 6d 81 94  |.......[.....m..|\n",
            "00000010  81 75 91 5b 82 b5 82 a2  81 76 82 cd 83 7d 83 7d  |.u.[.....v...}.}|\n",
            "00000020  81 6e 8e 96 82 f0 82 b5  82 dc 82 b5 82 bd 82 cb  |.n..............|\n",
            "00000030\n"
          ]
        }
      ]
    },
    {
      "cell_type": "code",
      "source": [
        "!head -c $(printf \"%d\" 0x76031) neko1.txt | tail -c 48 | iconv -f cp932\n",
        "!echo\n",
        "!head -c $(printf \"%d\" 0x76031) neko1.txt | tail -c 48 | hexdump -C"
      ],
      "metadata": {
        "colab": {
          "base_uri": "https://localhost:8080/"
        },
        "id": "QuC71_o98Svp",
        "outputId": "226fd5b8-3bf4-4f90-cdff-fa6099a2e6aa"
      },
      "execution_count": null,
      "outputs": [
        {
          "output_type": "stream",
          "name": "stdout",
          "text": [
            "ではわからずやの窮措大《きゅうそだい》の家に養な\n",
            "00000000  82 c5 82 cd 82 ed 82 a9  82 e7 82 b8 82 e2 82 cc  |................|\n",
            "00000010  8b 87 91 5b 91 e5 81 73  82 ab 82 e3 82 a4 82 bb  |...[...s........|\n",
            "00000020  82 be 82 a2 81 74 82 cc  89 c6 82 c9 97 7b 82 c8  |.....t.......{..|\n",
            "00000030\n"
          ]
        }
      ]
    },
    {
      "cell_type": "code",
      "source": [],
      "metadata": {
        "id": "UARwyiMH8SzF"
      },
      "execution_count": null,
      "outputs": []
    }
  ]
}