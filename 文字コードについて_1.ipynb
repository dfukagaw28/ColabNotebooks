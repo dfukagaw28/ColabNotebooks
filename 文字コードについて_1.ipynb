{
  "nbformat": 4,
  "nbformat_minor": 0,
  "metadata": {
    "colab": {
      "provenance": [],
      "authorship_tag": "ABX9TyM4YVP4DH00QasiduQfwNb3",
      "include_colab_link": true
    },
    "kernelspec": {
      "name": "python3",
      "display_name": "Python 3"
    },
    "language_info": {
      "name": "python"
    }
  },
  "cells": [
    {
      "cell_type": "markdown",
      "metadata": {
        "id": "view-in-github",
        "colab_type": "text"
      },
      "source": [
        "<a href=\"https://colab.research.google.com/github/dfukagaw28/ColabNotebooks/blob/main/%E6%96%87%E5%AD%97%E3%82%B3%E3%83%BC%E3%83%89%E3%81%AB%E3%81%A4%E3%81%84%E3%81%A6_1.ipynb\" target=\"_parent\"><img src=\"https://colab.research.google.com/assets/colab-badge.svg\" alt=\"Open In Colab\"/></a>"
      ]
    },
    {
      "cell_type": "markdown",
      "source": [
        "# 文字コードについて (1)"
      ],
      "metadata": {
        "id": "OZR0RsOYQlxH"
      }
    },
    {
      "cell_type": "code",
      "source": [
        "!iconv --version"
      ],
      "metadata": {
        "colab": {
          "base_uri": "https://localhost:8080/"
        },
        "id": "x64GbGmWRHUe",
        "outputId": "91095bd6-eb64-4f32-f022-716538b9c161"
      },
      "execution_count": 1,
      "outputs": [
        {
          "output_type": "stream",
          "name": "stdout",
          "text": [
            "iconv (Ubuntu GLIBC 2.35-0ubuntu3.4) 2.35\n",
            "Copyright (C) 2022 Free Software Foundation, Inc.\n",
            "This is free software; see the source for copying conditions.  There is NO\n",
            "warranty; not even for MERCHANTABILITY or FITNESS FOR A PARTICULAR PURPOSE.\n",
            "Written by Ulrich Drepper.\n"
          ]
        }
      ]
    },
    {
      "cell_type": "markdown",
      "source": [
        "## いわゆる「シフトJIS」の取り扱い"
      ],
      "metadata": {
        "id": "RS1CgPMUVB9A"
      }
    },
    {
      "cell_type": "code",
      "source": [
        "# UTF-8 の文字コード（3バイト）\n",
        "!echo -n あ | xxd -p"
      ],
      "metadata": {
        "colab": {
          "base_uri": "https://localhost:8080/"
        },
        "id": "_3wb5OBmchZQ",
        "outputId": "073514c4-c284-44e3-ea5a-9f6e161346fd"
      },
      "execution_count": 2,
      "outputs": [
        {
          "output_type": "stream",
          "name": "stdout",
          "text": [
            "e38182\n"
          ]
        }
      ]
    },
    {
      "cell_type": "code",
      "source": [
        "# Shift_JIS の文字コード（2バイト）\n",
        "!echo -n あ | iconv -t shift_jis | xxd -p"
      ],
      "metadata": {
        "colab": {
          "base_uri": "https://localhost:8080/"
        },
        "id": "66lz8nfzcmch",
        "outputId": "d616b694-3346-439a-ad36-cda29a02f846"
      },
      "execution_count": 3,
      "outputs": [
        {
          "output_type": "stream",
          "name": "stdout",
          "text": [
            "82a0\n"
          ]
        }
      ]
    },
    {
      "cell_type": "markdown",
      "source": [
        "## いわゆる「機種依存文字」を「シフトJIS」で扱う"
      ],
      "metadata": {
        "id": "V5MV-RR_dPx1"
      }
    },
    {
      "cell_type": "markdown",
      "source": [
        "*   機種依存文字はシフト JIS で扱えない"
      ],
      "metadata": {
        "id": "nKS7GIqTd3iG"
      }
    },
    {
      "cell_type": "code",
      "source": [
        "# 丸付き数字を UTF-8 で\n",
        "!echo -n ① | xxd -p"
      ],
      "metadata": {
        "colab": {
          "base_uri": "https://localhost:8080/"
        },
        "id": "kTxm_atfdOyB",
        "outputId": "ed19e67b-9892-4f01-f738-47a0b965bfcf"
      },
      "execution_count": 4,
      "outputs": [
        {
          "output_type": "stream",
          "name": "stdout",
          "text": [
            "e291a0\n"
          ]
        }
      ]
    },
    {
      "cell_type": "code",
      "source": [
        "# 丸付き数字は iconv の shift_jis では扱えない\n",
        "!echo -n ① | iconv -t shift_jis | xxd -p"
      ],
      "metadata": {
        "colab": {
          "base_uri": "https://localhost:8080/"
        },
        "id": "qg-uEqWadq6M",
        "outputId": "c910390a-8bf9-4c32-90d7-59a448c51ede"
      },
      "execution_count": 5,
      "outputs": [
        {
          "output_type": "stream",
          "name": "stdout",
          "text": [
            "iconv: illegal input sequence at position 0\n"
          ]
        }
      ]
    },
    {
      "cell_type": "code",
      "source": [
        "# 丸付き数字は「NEC特殊文字」のひとつであり， iconv の cp932 で扱える\n",
        "!echo -n ① | iconv -t cp932 | xxd -p"
      ],
      "metadata": {
        "colab": {
          "base_uri": "https://localhost:8080/"
        },
        "id": "pTs2kBGZc06X",
        "outputId": "fad8a481-ee75-498f-bb2c-766b84010aaa"
      },
      "execution_count": 6,
      "outputs": [
        {
          "output_type": "stream",
          "name": "stdout",
          "text": [
            "8740\n"
          ]
        }
      ]
    },
    {
      "cell_type": "markdown",
      "source": [
        "## いわゆる「全角ダッシュ」問題"
      ],
      "metadata": {
        "id": "MdpE5JozgM1w"
      }
    },
    {
      "cell_type": "markdown",
      "source": [
        "*   [全角ダッシュのマッピング問題](https://ja.wikipedia.org/wiki/%E3%83%80%E3%83%83%E3%82%B7%E3%83%A5_(%E8%A8%98%E5%8F%B7)#%E5%85%A8%E8%A7%92%E3%83%80%E3%83%83%E3%82%B7%E3%83%A5%E3%81%AE%E3%83%9E%E3%83%83%E3%83%94%E3%83%B3%E3%82%B0%E5%95%8F%E9%A1%8C)"
      ],
      "metadata": {
        "id": "BQPtWcORg3aC"
      }
    },
    {
      "cell_type": "markdown",
      "source": [
        "*   U+2014 (EM DASH) も U+2015 (HORIZONTAL BAR) も， iconv で cp932 に変換すると `81 5c` になる"
      ],
      "metadata": {
        "id": "5QhU1-BHkDTg"
      }
    },
    {
      "cell_type": "code",
      "source": [
        "# EM DASH\n",
        "!echo -e '\\u2014'\n",
        "!echo -en '\\u2014' | xxd -p\n",
        "!echo -n 'shift_jis: ' && echo -en '\\u2014' | iconv -t shift_jis | xxd -p\n",
        "!echo -n 'cp932:     ' && echo -en '\\u2014' | iconv -t cp932 | xxd -p"
      ],
      "metadata": {
        "colab": {
          "base_uri": "https://localhost:8080/"
        },
        "id": "qWBou81Xc1AF",
        "outputId": "b1017cf1-d6ab-4f60-8541-992f6c14d0c7"
      },
      "execution_count": 7,
      "outputs": [
        {
          "output_type": "stream",
          "name": "stdout",
          "text": [
            "—\n",
            "e28094\n",
            "shift_jis: iconv: illegal input sequence at position 0\n",
            "cp932:     815c\n"
          ]
        }
      ]
    },
    {
      "cell_type": "code",
      "source": [
        "# HORIZONTAL BAR\n",
        "!echo -e '\\u2015'\n",
        "!echo -en '\\u2015' | xxd -p\n",
        "!echo -n 'shift_jis: ' && echo -en '\\u2015' | iconv -t shift_jis | xxd -p\n",
        "!echo -n 'cp932:     ' && echo -en '\\u2015' | iconv -t cp932 | xxd -p"
      ],
      "metadata": {
        "colab": {
          "base_uri": "https://localhost:8080/"
        },
        "id": "g_gveWqMc1Cq",
        "outputId": "ce3cd620-275b-4b08-d7d8-668c8517c48a"
      },
      "execution_count": 8,
      "outputs": [
        {
          "output_type": "stream",
          "name": "stdout",
          "text": [
            "―\n",
            "e28095\n",
            "shift_jis: 815c\n",
            "cp932:     815c\n"
          ]
        }
      ]
    },
    {
      "cell_type": "markdown",
      "source": [
        "*   逆に， `81 5c` を UTF-8 に変換するとどうなるのか\n",
        "    *   定義上は EM DASH つまり U+2014 になるはず\n",
        "    *   ところが shift_jis でも cp932 でも U+2015 に変換される\n",
        "    *   JIS X 0213:2000"
      ],
      "metadata": {
        "id": "0JPPkhSOkj3t"
      }
    },
    {
      "cell_type": "code",
      "source": [
        "!echo -n 'shift_jis: ' && echo -en '\\x81\\x5c' | iconv -f shift_jis | xxd -p\n",
        "!echo -n 'cp932:     ' && echo -en '\\x81\\x5c' | iconv -f cp932 | xxd -p"
      ],
      "metadata": {
        "colab": {
          "base_uri": "https://localhost:8080/"
        },
        "outputId": "843fee90-6ba3-472c-feaa-3e716852a45b",
        "id": "6IhLCeRIkj3u"
      },
      "execution_count": 9,
      "outputs": [
        {
          "output_type": "stream",
          "name": "stdout",
          "text": [
            "shift_jis: e28095\n",
            "cp932:     e28095\n"
          ]
        }
      ]
    },
    {
      "cell_type": "markdown",
      "source": [
        "*   iconv によって EM DASH が U+2014 に変換されるようにするには，文字コードとして SHIFT_JISX0213 を指定すればよい"
      ],
      "metadata": {
        "id": "o3TvwQ3XHq7P"
      }
    },
    {
      "cell_type": "code",
      "source": [
        "!echo -n 'shift_jisx0213: ' && echo -en '\\x81\\x5c' | iconv -f shift_jisx0213 | xxd -p"
      ],
      "metadata": {
        "colab": {
          "base_uri": "https://localhost:8080/"
        },
        "id": "q3eWjf01IKaX",
        "outputId": "072f8058-9d46-4ef1-83ba-c5639eb6f729"
      },
      "execution_count": 10,
      "outputs": [
        {
          "output_type": "stream",
          "name": "stdout",
          "text": [
            "shift_jisx0213: e28094\n"
          ]
        }
      ]
    },
    {
      "cell_type": "markdown",
      "source": [
        "## 「はしごだか」を扱う"
      ],
      "metadata": {
        "id": "UC0iGSUcI0ku"
      }
    },
    {
      "cell_type": "markdown",
      "source": [
        "*   cp932 ならうまくいくが，shift_jisx0213 では変換できない"
      ],
      "metadata": {
        "id": "Lmnnjrk2JHam"
      }
    },
    {
      "cell_type": "code",
      "source": [
        "!echo -n 髙 | xxd -p\n",
        "!echo -n 髙 | iconv -t shift_jis | xxd -p\n",
        "!echo -n 髙 | iconv -t cp932 | xxd -p\n",
        "!echo -n 髙 | iconv -t shift_jisx0213 | xxd -p"
      ],
      "metadata": {
        "colab": {
          "base_uri": "https://localhost:8080/"
        },
        "id": "skSUBSrVIxDQ",
        "outputId": "992387eb-8453-436e-fdc8-3bb2869a4aa4"
      },
      "execution_count": 11,
      "outputs": [
        {
          "output_type": "stream",
          "name": "stdout",
          "text": [
            "e9ab99\n",
            "iconv: illegal input sequence at position 0\n",
            "fbfc\n",
            "iconv: illegal input sequence at position 0\n"
          ]
        }
      ]
    },
    {
      "cell_type": "markdown",
      "source": [
        "## その他の候補"
      ],
      "metadata": {
        "id": "y1DK62YfJS2y"
      }
    },
    {
      "cell_type": "code",
      "source": [
        "!iconv -l | grep -i shift\n",
        "!iconv -l | grep -i sjis\n",
        "!iconv -l | grep -i 932"
      ],
      "metadata": {
        "colab": {
          "base_uri": "https://localhost:8080/"
        },
        "id": "a3cxtvKcJVDS",
        "outputId": "83063fad-a6c9-4d1c-e971-bcf03444dbd0"
      },
      "execution_count": 12,
      "outputs": [
        {
          "output_type": "stream",
          "name": "stdout",
          "text": [
            "CSSHIFTJIS//\n",
            "SHIFT-JIS//\n",
            "SHIFTJISX0213//\n",
            "SHIFT_JIS//\n",
            "SHIFT_JISX0213//\n",
            "SJIS-OPEN//\n",
            "SJIS-WIN//\n",
            "SJIS//\n",
            "CP932//\n",
            "CSIBM932//\n",
            "IBM-932//\n",
            "IBM932//\n",
            "MS932//\n"
          ]
        }
      ]
    },
    {
      "cell_type": "code",
      "source": [
        "import subprocess\n",
        "import pandas as pd\n",
        "\n",
        "encodings = [\n",
        "    'UTF8',\n",
        "    'SJIS',\n",
        "    #'SHIFT-JIS',       # SJIS と同じ（？）\n",
        "    #'SHIFT_JIS',       # SJIS と同じ（？）\n",
        "    #'CSSHIFTJIS',      # SJIS と同じ（？）\n",
        "    'IBM932',\n",
        "    #'IBM-932',         # IBM932 と同じ（？）\n",
        "    #'CSIBM932',        # IBM932 と同じ（？）\n",
        "    'CP932',\n",
        "    #'MS932',           # CP932 と同じ（？）\n",
        "    #'SJIS-OPEN',       # CP932 と同じ（？）\n",
        "    #'SJIS-WIN',        # CP932 と同じ（？）\n",
        "    'SHIFTJISX0213',\n",
        "    #'SHIFT_JISX0213',  # SHIFTJISX0213 と同じ（？）\n",
        "]\n",
        "\n",
        "texts = ['—', '―', 'Ⅰ', 'ⅰ', '①', '㈱', '髙', '﨑']\n",
        "\n",
        "df = pd.DataFrame(index=texts, columns=encodings)\n",
        "\n",
        "for text in texts:\n",
        "  for encoding in encodings:\n",
        "    try:\n",
        "      command = ['iconv', '-t', encoding]\n",
        "      result = subprocess.run(command, input=text.encode('utf8'), capture_output=True)\n",
        "      df.loc[text, encoding] = result.stdout.hex()\n",
        "      if result.stdout.hex() != '':\n",
        "        command = ['iconv', '-f', encoding]\n",
        "        result = subprocess.run(command, input=result.stdout, capture_output=True)\n",
        "        rev = 'o' if result.stdout == text.encode('utf8') else 'x'\n",
        "        df.loc[text, encoding] += ' ' + rev\n",
        "    except:\n",
        "      pass\n",
        "\n",
        "display(df)"
      ],
      "metadata": {
        "colab": {
          "base_uri": "https://localhost:8080/",
          "height": 300
        },
        "id": "EAWjw9VfJwxN",
        "outputId": "5a0bfdce-a935-4628-c8f6-326ca7f8edd5"
      },
      "execution_count": 13,
      "outputs": [
        {
          "output_type": "display_data",
          "data": {
            "text/plain": [
              "       UTF8    SJIS  IBM932   CP932 SHIFTJISX0213\n",
              "—  e28094 o          815c o  815c x        815c o\n",
              "―  e28095 o  815c o  815c x  815c o              \n",
              "Ⅰ  e285a0 o          fa4a o  8754 o        8754 o\n",
              "ⅰ  e285b0 o          fa40 o  fa40 o        86b3 o\n",
              "①  e291a0 o                  8740 o        8740 o\n",
              "㈱  e388b1 o          fa58 o  878a o        878a o\n",
              "髙  e9ab99 o          fbfc o  fbfc o              \n",
              "﨑  efa891 o          fab1 o  fab1 o        9892 o"
            ],
            "text/html": [
              "\n",
              "  <div id=\"df-79e21c3e-7b14-444b-ae38-60c65811dd00\" class=\"colab-df-container\">\n",
              "    <div>\n",
              "<style scoped>\n",
              "    .dataframe tbody tr th:only-of-type {\n",
              "        vertical-align: middle;\n",
              "    }\n",
              "\n",
              "    .dataframe tbody tr th {\n",
              "        vertical-align: top;\n",
              "    }\n",
              "\n",
              "    .dataframe thead th {\n",
              "        text-align: right;\n",
              "    }\n",
              "</style>\n",
              "<table border=\"1\" class=\"dataframe\">\n",
              "  <thead>\n",
              "    <tr style=\"text-align: right;\">\n",
              "      <th></th>\n",
              "      <th>UTF8</th>\n",
              "      <th>SJIS</th>\n",
              "      <th>IBM932</th>\n",
              "      <th>CP932</th>\n",
              "      <th>SHIFTJISX0213</th>\n",
              "    </tr>\n",
              "  </thead>\n",
              "  <tbody>\n",
              "    <tr>\n",
              "      <th>—</th>\n",
              "      <td>e28094 o</td>\n",
              "      <td></td>\n",
              "      <td>815c o</td>\n",
              "      <td>815c x</td>\n",
              "      <td>815c o</td>\n",
              "    </tr>\n",
              "    <tr>\n",
              "      <th>―</th>\n",
              "      <td>e28095 o</td>\n",
              "      <td>815c o</td>\n",
              "      <td>815c x</td>\n",
              "      <td>815c o</td>\n",
              "      <td></td>\n",
              "    </tr>\n",
              "    <tr>\n",
              "      <th>Ⅰ</th>\n",
              "      <td>e285a0 o</td>\n",
              "      <td></td>\n",
              "      <td>fa4a o</td>\n",
              "      <td>8754 o</td>\n",
              "      <td>8754 o</td>\n",
              "    </tr>\n",
              "    <tr>\n",
              "      <th>ⅰ</th>\n",
              "      <td>e285b0 o</td>\n",
              "      <td></td>\n",
              "      <td>fa40 o</td>\n",
              "      <td>fa40 o</td>\n",
              "      <td>86b3 o</td>\n",
              "    </tr>\n",
              "    <tr>\n",
              "      <th>①</th>\n",
              "      <td>e291a0 o</td>\n",
              "      <td></td>\n",
              "      <td></td>\n",
              "      <td>8740 o</td>\n",
              "      <td>8740 o</td>\n",
              "    </tr>\n",
              "    <tr>\n",
              "      <th>㈱</th>\n",
              "      <td>e388b1 o</td>\n",
              "      <td></td>\n",
              "      <td>fa58 o</td>\n",
              "      <td>878a o</td>\n",
              "      <td>878a o</td>\n",
              "    </tr>\n",
              "    <tr>\n",
              "      <th>髙</th>\n",
              "      <td>e9ab99 o</td>\n",
              "      <td></td>\n",
              "      <td>fbfc o</td>\n",
              "      <td>fbfc o</td>\n",
              "      <td></td>\n",
              "    </tr>\n",
              "    <tr>\n",
              "      <th>﨑</th>\n",
              "      <td>efa891 o</td>\n",
              "      <td></td>\n",
              "      <td>fab1 o</td>\n",
              "      <td>fab1 o</td>\n",
              "      <td>9892 o</td>\n",
              "    </tr>\n",
              "  </tbody>\n",
              "</table>\n",
              "</div>\n",
              "    <div class=\"colab-df-buttons\">\n",
              "\n",
              "  <div class=\"colab-df-container\">\n",
              "    <button class=\"colab-df-convert\" onclick=\"convertToInteractive('df-79e21c3e-7b14-444b-ae38-60c65811dd00')\"\n",
              "            title=\"Convert this dataframe to an interactive table.\"\n",
              "            style=\"display:none;\">\n",
              "\n",
              "  <svg xmlns=\"http://www.w3.org/2000/svg\" height=\"24px\" viewBox=\"0 -960 960 960\">\n",
              "    <path d=\"M120-120v-720h720v720H120Zm60-500h600v-160H180v160Zm220 220h160v-160H400v160Zm0 220h160v-160H400v160ZM180-400h160v-160H180v160Zm440 0h160v-160H620v160ZM180-180h160v-160H180v160Zm440 0h160v-160H620v160Z\"/>\n",
              "  </svg>\n",
              "    </button>\n",
              "\n",
              "  <style>\n",
              "    .colab-df-container {\n",
              "      display:flex;\n",
              "      gap: 12px;\n",
              "    }\n",
              "\n",
              "    .colab-df-convert {\n",
              "      background-color: #E8F0FE;\n",
              "      border: none;\n",
              "      border-radius: 50%;\n",
              "      cursor: pointer;\n",
              "      display: none;\n",
              "      fill: #1967D2;\n",
              "      height: 32px;\n",
              "      padding: 0 0 0 0;\n",
              "      width: 32px;\n",
              "    }\n",
              "\n",
              "    .colab-df-convert:hover {\n",
              "      background-color: #E2EBFA;\n",
              "      box-shadow: 0px 1px 2px rgba(60, 64, 67, 0.3), 0px 1px 3px 1px rgba(60, 64, 67, 0.15);\n",
              "      fill: #174EA6;\n",
              "    }\n",
              "\n",
              "    .colab-df-buttons div {\n",
              "      margin-bottom: 4px;\n",
              "    }\n",
              "\n",
              "    [theme=dark] .colab-df-convert {\n",
              "      background-color: #3B4455;\n",
              "      fill: #D2E3FC;\n",
              "    }\n",
              "\n",
              "    [theme=dark] .colab-df-convert:hover {\n",
              "      background-color: #434B5C;\n",
              "      box-shadow: 0px 1px 3px 1px rgba(0, 0, 0, 0.15);\n",
              "      filter: drop-shadow(0px 1px 2px rgba(0, 0, 0, 0.3));\n",
              "      fill: #FFFFFF;\n",
              "    }\n",
              "  </style>\n",
              "\n",
              "    <script>\n",
              "      const buttonEl =\n",
              "        document.querySelector('#df-79e21c3e-7b14-444b-ae38-60c65811dd00 button.colab-df-convert');\n",
              "      buttonEl.style.display =\n",
              "        google.colab.kernel.accessAllowed ? 'block' : 'none';\n",
              "\n",
              "      async function convertToInteractive(key) {\n",
              "        const element = document.querySelector('#df-79e21c3e-7b14-444b-ae38-60c65811dd00');\n",
              "        const dataTable =\n",
              "          await google.colab.kernel.invokeFunction('convertToInteractive',\n",
              "                                                    [key], {});\n",
              "        if (!dataTable) return;\n",
              "\n",
              "        const docLinkHtml = 'Like what you see? Visit the ' +\n",
              "          '<a target=\"_blank\" href=https://colab.research.google.com/notebooks/data_table.ipynb>data table notebook</a>'\n",
              "          + ' to learn more about interactive tables.';\n",
              "        element.innerHTML = '';\n",
              "        dataTable['output_type'] = 'display_data';\n",
              "        await google.colab.output.renderOutput(dataTable, element);\n",
              "        const docLink = document.createElement('div');\n",
              "        docLink.innerHTML = docLinkHtml;\n",
              "        element.appendChild(docLink);\n",
              "      }\n",
              "    </script>\n",
              "  </div>\n",
              "\n",
              "\n",
              "<div id=\"df-3e2f66df-c121-41a9-a1b5-701b68b745d8\">\n",
              "  <button class=\"colab-df-quickchart\" onclick=\"quickchart('df-3e2f66df-c121-41a9-a1b5-701b68b745d8')\"\n",
              "            title=\"Suggest charts\"\n",
              "            style=\"display:none;\">\n",
              "\n",
              "<svg xmlns=\"http://www.w3.org/2000/svg\" height=\"24px\"viewBox=\"0 0 24 24\"\n",
              "     width=\"24px\">\n",
              "    <g>\n",
              "        <path d=\"M19 3H5c-1.1 0-2 .9-2 2v14c0 1.1.9 2 2 2h14c1.1 0 2-.9 2-2V5c0-1.1-.9-2-2-2zM9 17H7v-7h2v7zm4 0h-2V7h2v10zm4 0h-2v-4h2v4z\"/>\n",
              "    </g>\n",
              "</svg>\n",
              "  </button>\n",
              "\n",
              "<style>\n",
              "  .colab-df-quickchart {\n",
              "      --bg-color: #E8F0FE;\n",
              "      --fill-color: #1967D2;\n",
              "      --hover-bg-color: #E2EBFA;\n",
              "      --hover-fill-color: #174EA6;\n",
              "      --disabled-fill-color: #AAA;\n",
              "      --disabled-bg-color: #DDD;\n",
              "  }\n",
              "\n",
              "  [theme=dark] .colab-df-quickchart {\n",
              "      --bg-color: #3B4455;\n",
              "      --fill-color: #D2E3FC;\n",
              "      --hover-bg-color: #434B5C;\n",
              "      --hover-fill-color: #FFFFFF;\n",
              "      --disabled-bg-color: #3B4455;\n",
              "      --disabled-fill-color: #666;\n",
              "  }\n",
              "\n",
              "  .colab-df-quickchart {\n",
              "    background-color: var(--bg-color);\n",
              "    border: none;\n",
              "    border-radius: 50%;\n",
              "    cursor: pointer;\n",
              "    display: none;\n",
              "    fill: var(--fill-color);\n",
              "    height: 32px;\n",
              "    padding: 0;\n",
              "    width: 32px;\n",
              "  }\n",
              "\n",
              "  .colab-df-quickchart:hover {\n",
              "    background-color: var(--hover-bg-color);\n",
              "    box-shadow: 0 1px 2px rgba(60, 64, 67, 0.3), 0 1px 3px 1px rgba(60, 64, 67, 0.15);\n",
              "    fill: var(--button-hover-fill-color);\n",
              "  }\n",
              "\n",
              "  .colab-df-quickchart-complete:disabled,\n",
              "  .colab-df-quickchart-complete:disabled:hover {\n",
              "    background-color: var(--disabled-bg-color);\n",
              "    fill: var(--disabled-fill-color);\n",
              "    box-shadow: none;\n",
              "  }\n",
              "\n",
              "  .colab-df-spinner {\n",
              "    border: 2px solid var(--fill-color);\n",
              "    border-color: transparent;\n",
              "    border-bottom-color: var(--fill-color);\n",
              "    animation:\n",
              "      spin 1s steps(1) infinite;\n",
              "  }\n",
              "\n",
              "  @keyframes spin {\n",
              "    0% {\n",
              "      border-color: transparent;\n",
              "      border-bottom-color: var(--fill-color);\n",
              "      border-left-color: var(--fill-color);\n",
              "    }\n",
              "    20% {\n",
              "      border-color: transparent;\n",
              "      border-left-color: var(--fill-color);\n",
              "      border-top-color: var(--fill-color);\n",
              "    }\n",
              "    30% {\n",
              "      border-color: transparent;\n",
              "      border-left-color: var(--fill-color);\n",
              "      border-top-color: var(--fill-color);\n",
              "      border-right-color: var(--fill-color);\n",
              "    }\n",
              "    40% {\n",
              "      border-color: transparent;\n",
              "      border-right-color: var(--fill-color);\n",
              "      border-top-color: var(--fill-color);\n",
              "    }\n",
              "    60% {\n",
              "      border-color: transparent;\n",
              "      border-right-color: var(--fill-color);\n",
              "    }\n",
              "    80% {\n",
              "      border-color: transparent;\n",
              "      border-right-color: var(--fill-color);\n",
              "      border-bottom-color: var(--fill-color);\n",
              "    }\n",
              "    90% {\n",
              "      border-color: transparent;\n",
              "      border-bottom-color: var(--fill-color);\n",
              "    }\n",
              "  }\n",
              "</style>\n",
              "\n",
              "  <script>\n",
              "    async function quickchart(key) {\n",
              "      const quickchartButtonEl =\n",
              "        document.querySelector('#' + key + ' button');\n",
              "      quickchartButtonEl.disabled = true;  // To prevent multiple clicks.\n",
              "      quickchartButtonEl.classList.add('colab-df-spinner');\n",
              "      try {\n",
              "        const charts = await google.colab.kernel.invokeFunction(\n",
              "            'suggestCharts', [key], {});\n",
              "      } catch (error) {\n",
              "        console.error('Error during call to suggestCharts:', error);\n",
              "      }\n",
              "      quickchartButtonEl.classList.remove('colab-df-spinner');\n",
              "      quickchartButtonEl.classList.add('colab-df-quickchart-complete');\n",
              "    }\n",
              "    (() => {\n",
              "      let quickchartButtonEl =\n",
              "        document.querySelector('#df-3e2f66df-c121-41a9-a1b5-701b68b745d8 button');\n",
              "      quickchartButtonEl.style.display =\n",
              "        google.colab.kernel.accessAllowed ? 'block' : 'none';\n",
              "    })();\n",
              "  </script>\n",
              "</div>\n",
              "\n",
              "  <div id=\"id_32975ec5-9233-4e2a-950b-8237d49a687b\">\n",
              "    <style>\n",
              "      .colab-df-generate {\n",
              "        background-color: #E8F0FE;\n",
              "        border: none;\n",
              "        border-radius: 50%;\n",
              "        cursor: pointer;\n",
              "        display: none;\n",
              "        fill: #1967D2;\n",
              "        height: 32px;\n",
              "        padding: 0 0 0 0;\n",
              "        width: 32px;\n",
              "      }\n",
              "\n",
              "      .colab-df-generate:hover {\n",
              "        background-color: #E2EBFA;\n",
              "        box-shadow: 0px 1px 2px rgba(60, 64, 67, 0.3), 0px 1px 3px 1px rgba(60, 64, 67, 0.15);\n",
              "        fill: #174EA6;\n",
              "      }\n",
              "\n",
              "      [theme=dark] .colab-df-generate {\n",
              "        background-color: #3B4455;\n",
              "        fill: #D2E3FC;\n",
              "      }\n",
              "\n",
              "      [theme=dark] .colab-df-generate:hover {\n",
              "        background-color: #434B5C;\n",
              "        box-shadow: 0px 1px 3px 1px rgba(0, 0, 0, 0.15);\n",
              "        filter: drop-shadow(0px 1px 2px rgba(0, 0, 0, 0.3));\n",
              "        fill: #FFFFFF;\n",
              "      }\n",
              "    </style>\n",
              "    <button class=\"colab-df-generate\" onclick=\"generateWithVariable('df')\"\n",
              "            title=\"Generate code using this dataframe.\"\n",
              "            style=\"display:none;\">\n",
              "\n",
              "  <svg xmlns=\"http://www.w3.org/2000/svg\" height=\"24px\"viewBox=\"0 0 24 24\"\n",
              "       width=\"24px\">\n",
              "    <path d=\"M7,19H8.4L18.45,9,17,7.55,7,17.6ZM5,21V16.75L18.45,3.32a2,2,0,0,1,2.83,0l1.4,1.43a1.91,1.91,0,0,1,.58,1.4,1.91,1.91,0,0,1-.58,1.4L9.25,21ZM18.45,9,17,7.55Zm-12,3A5.31,5.31,0,0,0,4.9,8.1,5.31,5.31,0,0,0,1,6.5,5.31,5.31,0,0,0,4.9,4.9,5.31,5.31,0,0,0,6.5,1,5.31,5.31,0,0,0,8.1,4.9,5.31,5.31,0,0,0,12,6.5,5.46,5.46,0,0,0,6.5,12Z\"/>\n",
              "  </svg>\n",
              "    </button>\n",
              "    <script>\n",
              "      (() => {\n",
              "      const buttonEl =\n",
              "        document.querySelector('#id_32975ec5-9233-4e2a-950b-8237d49a687b button.colab-df-generate');\n",
              "      buttonEl.style.display =\n",
              "        google.colab.kernel.accessAllowed ? 'block' : 'none';\n",
              "\n",
              "      buttonEl.onclick = () => {\n",
              "        google.colab.notebook.generateWithVariable('df');\n",
              "      }\n",
              "      })();\n",
              "    </script>\n",
              "  </div>\n",
              "\n",
              "    </div>\n",
              "  </div>\n"
            ],
            "application/vnd.google.colaboratory.intrinsic+json": {
              "type": "dataframe",
              "variable_name": "df",
              "summary": "{\n  \"name\": \"df\",\n  \"rows\": 8,\n  \"fields\": [\n    {\n      \"column\": \"UTF8\",\n      \"properties\": {\n        \"dtype\": \"string\",\n        \"num_unique_values\": 8,\n        \"samples\": [\n          \"e28095 o\",\n          \"e388b1 o\",\n          \"e28094 o\"\n        ],\n        \"semantic_type\": \"\",\n        \"description\": \"\"\n      }\n    },\n    {\n      \"column\": \"SJIS\",\n      \"properties\": {\n        \"dtype\": \"category\",\n        \"num_unique_values\": 2,\n        \"samples\": [\n          \"815c o\",\n          \"\"\n        ],\n        \"semantic_type\": \"\",\n        \"description\": \"\"\n      }\n    },\n    {\n      \"column\": \"IBM932\",\n      \"properties\": {\n        \"dtype\": \"string\",\n        \"num_unique_values\": 8,\n        \"samples\": [\n          \"815c x\",\n          \"fa58 o\"\n        ],\n        \"semantic_type\": \"\",\n        \"description\": \"\"\n      }\n    },\n    {\n      \"column\": \"CP932\",\n      \"properties\": {\n        \"dtype\": \"string\",\n        \"num_unique_values\": 8,\n        \"samples\": [\n          \"815c o\",\n          \"878a o\"\n        ],\n        \"semantic_type\": \"\",\n        \"description\": \"\"\n      }\n    },\n    {\n      \"column\": \"SHIFTJISX0213\",\n      \"properties\": {\n        \"dtype\": \"string\",\n        \"num_unique_values\": 7,\n        \"samples\": [\n          \"815c o\",\n          \"\"\n        ],\n        \"semantic_type\": \"\",\n        \"description\": \"\"\n      }\n    }\n  ]\n}"
            }
          },
          "metadata": {}
        }
      ]
    },
    {
      "cell_type": "code",
      "source": [],
      "metadata": {
        "id": "aau2Ub0vVIoI"
      },
      "execution_count": 13,
      "outputs": []
    }
  ]
}