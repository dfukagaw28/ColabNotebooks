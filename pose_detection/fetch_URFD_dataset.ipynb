{
  "nbformat": 4,
  "nbformat_minor": 0,
  "metadata": {
    "colab": {
      "provenance": [],
      "mount_file_id": "1aJ6649ePYvUbAJiy3oxhkHJiQfNvfGY0",
      "authorship_tag": "ABX9TyOtNOU0Jj2e1cLTLzVcQQpH",
      "include_colab_link": true
    },
    "kernelspec": {
      "name": "python3",
      "display_name": "Python 3"
    },
    "language_info": {
      "name": "python"
    }
  },
  "cells": [
    {
      "cell_type": "markdown",
      "metadata": {
        "id": "view-in-github",
        "colab_type": "text"
      },
      "source": [
        "<a href=\"https://colab.research.google.com/github/dfukagaw28/ColabNotebooks/blob/pose_detection/pose_detection/fetch_URFD_dataset.ipynb\" target=\"_parent\"><img src=\"https://colab.research.google.com/assets/colab-badge.svg\" alt=\"Open In Colab\"/></a>"
      ]
    },
    {
      "cell_type": "markdown",
      "source": [
        "# URFD (University of Rzeszow Fall Detection) Dataset をダウンロードする\n",
        "\n",
        "*   http://fenix.ur.edu.pl/~mkepski/ds/uf.html\n",
        "*   [Alam et al., 2024](https://arxiv.org/abs/2401.01587) にならって cam0 rgb のみ\n",
        "*   初回ダウンロードには 10 分くらいかかる\n",
        "    *   ダウンロード済みであればスキップするので 2 回目は速い（なにもしない）\n",
        "    *   壊れている可能性があるデータは削除してやり直すこと"
      ],
      "metadata": {
        "id": "0zFiVxYcMUrz"
      }
    },
    {
      "cell_type": "code",
      "execution_count": null,
      "metadata": {
        "id": "hmiJL_z5MOuw"
      },
      "outputs": [],
      "source": [
        "# Google drive をマウントする\n",
        "from google.colab import drive\n",
        "drive.mount('/content/drive')"
      ]
    },
    {
      "cell_type": "code",
      "source": [
        "from pathlib import Path\n",
        "from tqdm import tqdm, trange"
      ],
      "metadata": {
        "id": "lx8hazN3NRwl"
      },
      "execution_count": null,
      "outputs": []
    },
    {
      "cell_type": "code",
      "source": [
        "# ダウンロード先\n",
        "TARGET_DIR_BASE = Path('/content/drive/MyDrive/data/URFD')\n",
        "TARGET_DIR_BASE.mkdir(parents=True, exist_ok=True)\n",
        "\n",
        "# データセット URL\n",
        "BASE_URL = 'http://fenix.ur.edu.pl/~mkepski/ds/data/'"
      ],
      "metadata": {
        "id": "UX6IPL8yNVhK"
      },
      "execution_count": null,
      "outputs": []
    },
    {
      "cell_type": "code",
      "source": [
        "# 30 Fall sequences (RGB data, Camera 0)\n",
        "\n",
        "targetdir = TARGET_DIR_BASE / 'Fall'\n",
        "targetdir.mkdir(parents=True, exist_ok=True)\n",
        "\n",
        "num_items = 30\n",
        "for i in trange(1, num_items + 1):\n",
        "  # Image sequence (zip)\n",
        "  filename = f'fall-{i:02}-cam0-rgb'\n",
        "  if not (targetdir / filename).exists():\n",
        "    !curl -sRLO {BASE_URL}{filename}.zip\n",
        "    !unzip -oq {filename}.zip -d {targetdir}\n",
        "\n",
        "  # Movie (mp4)\n",
        "  filename = f'fall-{i:02}-cam0.mp4'\n",
        "  target_filename = targetdir / filename\n",
        "  if not target_filename.exists():\n",
        "    !curl -sRL {baseurl}{filename} -o {target_filename}"
      ],
      "metadata": {
        "id": "gpvPD7c0Nh7b"
      },
      "execution_count": null,
      "outputs": []
    },
    {
      "cell_type": "code",
      "source": [
        "# 40 ADL sequences (RGB data, Camera 0)\n",
        "\n",
        "targetdir = TARGET_DIR_BASE / 'ADL'\n",
        "targetdir.mkdir(parents=True, exist_ok=True)\n",
        "\n",
        "num_items = 40\n",
        "for i in trange(1, num_items + 1):\n",
        "  # Image sequence (zip)\n",
        "  filename = f'adl-{i:02}-cam0-rgb'\n",
        "  if not (targetdir / filename).exists():\n",
        "    !curl -sRLO {baseurl}{filename}.zip\n",
        "    !unzip -oq {filename}.zip -d {targetdir}/ADL\n",
        "\n",
        "  # Movie (mp4)\n",
        "  filename = f'adl-{i:02}-cam0.mp4'\n",
        "  target_filename = targetdir / filename\n",
        "  if not target_filename.exists():\n",
        "    !curl -sRL {baseurl}{filename} -o {target_filename}"
      ],
      "metadata": {
        "id": "ihEG1FL8SF9w"
      },
      "execution_count": null,
      "outputs": []
    },
    {
      "cell_type": "code",
      "source": [
        "# Disk usage (data size)\n",
        "!find {targetdir} -type f | wc -l\n",
        "!du -sh {targetdir}"
      ],
      "metadata": {
        "id": "Z3G3LHsHQvOJ"
      },
      "execution_count": null,
      "outputs": []
    },
    {
      "cell_type": "code",
      "source": [],
      "metadata": {
        "id": "LENMtflOT8p_"
      },
      "execution_count": null,
      "outputs": []
    }
  ]
}