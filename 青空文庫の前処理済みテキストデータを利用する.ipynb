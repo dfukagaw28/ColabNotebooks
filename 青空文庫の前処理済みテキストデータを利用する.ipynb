{
  "nbformat": 4,
  "nbformat_minor": 0,
  "metadata": {
    "colab": {
      "provenance": [],
      "toc_visible": true,
      "authorship_tag": "ABX9TyMjWS6L77fjT+Z1BvWL53DD",
      "include_colab_link": true
    },
    "kernelspec": {
      "name": "python3",
      "display_name": "Python 3"
    },
    "language_info": {
      "name": "python"
    },
    "widgets": {
      "application/vnd.jupyter.widget-state+json": {
        "85ebf4dbab174c5db1bce7a108046ee7": {
          "model_module": "@jupyter-widgets/controls",
          "model_name": "HBoxModel",
          "model_module_version": "1.5.0",
          "state": {
            "_dom_classes": [],
            "_model_module": "@jupyter-widgets/controls",
            "_model_module_version": "1.5.0",
            "_model_name": "HBoxModel",
            "_view_count": null,
            "_view_module": "@jupyter-widgets/controls",
            "_view_module_version": "1.5.0",
            "_view_name": "HBoxView",
            "box_style": "",
            "children": [
              "IPY_MODEL_134ed7aa62814c34b5660d112f9f384d",
              "IPY_MODEL_b9660af0c9ca47fda5722a9564a7dbd8",
              "IPY_MODEL_4bb01baec6394efb84958c6fc3c8675b"
            ],
            "layout": "IPY_MODEL_fb31a693aeca4482ab95e547ce1486ae"
          }
        },
        "134ed7aa62814c34b5660d112f9f384d": {
          "model_module": "@jupyter-widgets/controls",
          "model_name": "HTMLModel",
          "model_module_version": "1.5.0",
          "state": {
            "_dom_classes": [],
            "_model_module": "@jupyter-widgets/controls",
            "_model_module_version": "1.5.0",
            "_model_name": "HTMLModel",
            "_view_count": null,
            "_view_module": "@jupyter-widgets/controls",
            "_view_module_version": "1.5.0",
            "_view_name": "HTMLView",
            "description": "",
            "description_tooltip": null,
            "layout": "IPY_MODEL_7f3c1e64f542445db9f7eb4c52705957",
            "placeholder": "​",
            "style": "IPY_MODEL_653ed8d5a94f47d8be31e37230e536a6",
            "value": "README.md: "
          }
        },
        "b9660af0c9ca47fda5722a9564a7dbd8": {
          "model_module": "@jupyter-widgets/controls",
          "model_name": "FloatProgressModel",
          "model_module_version": "1.5.0",
          "state": {
            "_dom_classes": [],
            "_model_module": "@jupyter-widgets/controls",
            "_model_module_version": "1.5.0",
            "_model_name": "FloatProgressModel",
            "_view_count": null,
            "_view_module": "@jupyter-widgets/controls",
            "_view_module_version": "1.5.0",
            "_view_name": "ProgressView",
            "bar_style": "success",
            "description": "",
            "description_tooltip": null,
            "layout": "IPY_MODEL_f455224c0d3344b98561b1673a3b70da",
            "max": 1,
            "min": 0,
            "orientation": "horizontal",
            "style": "IPY_MODEL_6381b6608a2744b5be9a13f89d65979d",
            "value": 1
          }
        },
        "4bb01baec6394efb84958c6fc3c8675b": {
          "model_module": "@jupyter-widgets/controls",
          "model_name": "HTMLModel",
          "model_module_version": "1.5.0",
          "state": {
            "_dom_classes": [],
            "_model_module": "@jupyter-widgets/controls",
            "_model_module_version": "1.5.0",
            "_model_name": "HTMLModel",
            "_view_count": null,
            "_view_module": "@jupyter-widgets/controls",
            "_view_module_version": "1.5.0",
            "_view_name": "HTMLView",
            "description": "",
            "description_tooltip": null,
            "layout": "IPY_MODEL_c0e9b0a399a64cdcae2e32aa4a01a4d4",
            "placeholder": "​",
            "style": "IPY_MODEL_9339733b47c943509775f53503a418e9",
            "value": " 2.96k/? [00:00&lt;00:00, 31.2kB/s]"
          }
        },
        "fb31a693aeca4482ab95e547ce1486ae": {
          "model_module": "@jupyter-widgets/base",
          "model_name": "LayoutModel",
          "model_module_version": "1.2.0",
          "state": {
            "_model_module": "@jupyter-widgets/base",
            "_model_module_version": "1.2.0",
            "_model_name": "LayoutModel",
            "_view_count": null,
            "_view_module": "@jupyter-widgets/base",
            "_view_module_version": "1.2.0",
            "_view_name": "LayoutView",
            "align_content": null,
            "align_items": null,
            "align_self": null,
            "border": null,
            "bottom": null,
            "display": null,
            "flex": null,
            "flex_flow": null,
            "grid_area": null,
            "grid_auto_columns": null,
            "grid_auto_flow": null,
            "grid_auto_rows": null,
            "grid_column": null,
            "grid_gap": null,
            "grid_row": null,
            "grid_template_areas": null,
            "grid_template_columns": null,
            "grid_template_rows": null,
            "height": null,
            "justify_content": null,
            "justify_items": null,
            "left": null,
            "margin": null,
            "max_height": null,
            "max_width": null,
            "min_height": null,
            "min_width": null,
            "object_fit": null,
            "object_position": null,
            "order": null,
            "overflow": null,
            "overflow_x": null,
            "overflow_y": null,
            "padding": null,
            "right": null,
            "top": null,
            "visibility": null,
            "width": null
          }
        },
        "7f3c1e64f542445db9f7eb4c52705957": {
          "model_module": "@jupyter-widgets/base",
          "model_name": "LayoutModel",
          "model_module_version": "1.2.0",
          "state": {
            "_model_module": "@jupyter-widgets/base",
            "_model_module_version": "1.2.0",
            "_model_name": "LayoutModel",
            "_view_count": null,
            "_view_module": "@jupyter-widgets/base",
            "_view_module_version": "1.2.0",
            "_view_name": "LayoutView",
            "align_content": null,
            "align_items": null,
            "align_self": null,
            "border": null,
            "bottom": null,
            "display": null,
            "flex": null,
            "flex_flow": null,
            "grid_area": null,
            "grid_auto_columns": null,
            "grid_auto_flow": null,
            "grid_auto_rows": null,
            "grid_column": null,
            "grid_gap": null,
            "grid_row": null,
            "grid_template_areas": null,
            "grid_template_columns": null,
            "grid_template_rows": null,
            "height": null,
            "justify_content": null,
            "justify_items": null,
            "left": null,
            "margin": null,
            "max_height": null,
            "max_width": null,
            "min_height": null,
            "min_width": null,
            "object_fit": null,
            "object_position": null,
            "order": null,
            "overflow": null,
            "overflow_x": null,
            "overflow_y": null,
            "padding": null,
            "right": null,
            "top": null,
            "visibility": null,
            "width": null
          }
        },
        "653ed8d5a94f47d8be31e37230e536a6": {
          "model_module": "@jupyter-widgets/controls",
          "model_name": "DescriptionStyleModel",
          "model_module_version": "1.5.0",
          "state": {
            "_model_module": "@jupyter-widgets/controls",
            "_model_module_version": "1.5.0",
            "_model_name": "DescriptionStyleModel",
            "_view_count": null,
            "_view_module": "@jupyter-widgets/base",
            "_view_module_version": "1.2.0",
            "_view_name": "StyleView",
            "description_width": ""
          }
        },
        "f455224c0d3344b98561b1673a3b70da": {
          "model_module": "@jupyter-widgets/base",
          "model_name": "LayoutModel",
          "model_module_version": "1.2.0",
          "state": {
            "_model_module": "@jupyter-widgets/base",
            "_model_module_version": "1.2.0",
            "_model_name": "LayoutModel",
            "_view_count": null,
            "_view_module": "@jupyter-widgets/base",
            "_view_module_version": "1.2.0",
            "_view_name": "LayoutView",
            "align_content": null,
            "align_items": null,
            "align_self": null,
            "border": null,
            "bottom": null,
            "display": null,
            "flex": null,
            "flex_flow": null,
            "grid_area": null,
            "grid_auto_columns": null,
            "grid_auto_flow": null,
            "grid_auto_rows": null,
            "grid_column": null,
            "grid_gap": null,
            "grid_row": null,
            "grid_template_areas": null,
            "grid_template_columns": null,
            "grid_template_rows": null,
            "height": null,
            "justify_content": null,
            "justify_items": null,
            "left": null,
            "margin": null,
            "max_height": null,
            "max_width": null,
            "min_height": null,
            "min_width": null,
            "object_fit": null,
            "object_position": null,
            "order": null,
            "overflow": null,
            "overflow_x": null,
            "overflow_y": null,
            "padding": null,
            "right": null,
            "top": null,
            "visibility": null,
            "width": "20px"
          }
        },
        "6381b6608a2744b5be9a13f89d65979d": {
          "model_module": "@jupyter-widgets/controls",
          "model_name": "ProgressStyleModel",
          "model_module_version": "1.5.0",
          "state": {
            "_model_module": "@jupyter-widgets/controls",
            "_model_module_version": "1.5.0",
            "_model_name": "ProgressStyleModel",
            "_view_count": null,
            "_view_module": "@jupyter-widgets/base",
            "_view_module_version": "1.2.0",
            "_view_name": "StyleView",
            "bar_color": null,
            "description_width": ""
          }
        },
        "c0e9b0a399a64cdcae2e32aa4a01a4d4": {
          "model_module": "@jupyter-widgets/base",
          "model_name": "LayoutModel",
          "model_module_version": "1.2.0",
          "state": {
            "_model_module": "@jupyter-widgets/base",
            "_model_module_version": "1.2.0",
            "_model_name": "LayoutModel",
            "_view_count": null,
            "_view_module": "@jupyter-widgets/base",
            "_view_module_version": "1.2.0",
            "_view_name": "LayoutView",
            "align_content": null,
            "align_items": null,
            "align_self": null,
            "border": null,
            "bottom": null,
            "display": null,
            "flex": null,
            "flex_flow": null,
            "grid_area": null,
            "grid_auto_columns": null,
            "grid_auto_flow": null,
            "grid_auto_rows": null,
            "grid_column": null,
            "grid_gap": null,
            "grid_row": null,
            "grid_template_areas": null,
            "grid_template_columns": null,
            "grid_template_rows": null,
            "height": null,
            "justify_content": null,
            "justify_items": null,
            "left": null,
            "margin": null,
            "max_height": null,
            "max_width": null,
            "min_height": null,
            "min_width": null,
            "object_fit": null,
            "object_position": null,
            "order": null,
            "overflow": null,
            "overflow_x": null,
            "overflow_y": null,
            "padding": null,
            "right": null,
            "top": null,
            "visibility": null,
            "width": null
          }
        },
        "9339733b47c943509775f53503a418e9": {
          "model_module": "@jupyter-widgets/controls",
          "model_name": "DescriptionStyleModel",
          "model_module_version": "1.5.0",
          "state": {
            "_model_module": "@jupyter-widgets/controls",
            "_model_module_version": "1.5.0",
            "_model_name": "DescriptionStyleModel",
            "_view_count": null,
            "_view_module": "@jupyter-widgets/base",
            "_view_module_version": "1.2.0",
            "_view_name": "StyleView",
            "description_width": ""
          }
        },
        "181f93d604b340aabdc61182c0cee263": {
          "model_module": "@jupyter-widgets/controls",
          "model_name": "HBoxModel",
          "model_module_version": "1.5.0",
          "state": {
            "_dom_classes": [],
            "_model_module": "@jupyter-widgets/controls",
            "_model_module_version": "1.5.0",
            "_model_name": "HBoxModel",
            "_view_count": null,
            "_view_module": "@jupyter-widgets/controls",
            "_view_module_version": "1.5.0",
            "_view_name": "HBoxView",
            "box_style": "",
            "children": [
              "IPY_MODEL_1d3042f3ec37487c8f0b632847bcfd84",
              "IPY_MODEL_763f74a56ab043d28e653ca847e73367",
              "IPY_MODEL_05ce903ef818433a9e6c4cfa79a42eb5"
            ],
            "layout": "IPY_MODEL_7dd743028f5d46bda3be1f6aa25285b3"
          }
        },
        "1d3042f3ec37487c8f0b632847bcfd84": {
          "model_module": "@jupyter-widgets/controls",
          "model_name": "HTMLModel",
          "model_module_version": "1.5.0",
          "state": {
            "_dom_classes": [],
            "_model_module": "@jupyter-widgets/controls",
            "_model_module_version": "1.5.0",
            "_model_name": "HTMLModel",
            "_view_count": null,
            "_view_module": "@jupyter-widgets/controls",
            "_view_module_version": "1.5.0",
            "_view_name": "HTMLView",
            "description": "",
            "description_tooltip": null,
            "layout": "IPY_MODEL_afc20c41589d4effbbe8988a594c5396",
            "placeholder": "​",
            "style": "IPY_MODEL_f3e66537de8d431cae796bb7d1f10d81",
            "value": "aozorabunko-dedupe-clean.jsonl.gz: 100%"
          }
        },
        "763f74a56ab043d28e653ca847e73367": {
          "model_module": "@jupyter-widgets/controls",
          "model_name": "FloatProgressModel",
          "model_module_version": "1.5.0",
          "state": {
            "_dom_classes": [],
            "_model_module": "@jupyter-widgets/controls",
            "_model_module_version": "1.5.0",
            "_model_name": "FloatProgressModel",
            "_view_count": null,
            "_view_module": "@jupyter-widgets/controls",
            "_view_module_version": "1.5.0",
            "_view_name": "ProgressView",
            "bar_style": "success",
            "description": "",
            "description_tooltip": null,
            "layout": "IPY_MODEL_b218b7ca7d9345feae4301fb7f15b679",
            "max": 240780659,
            "min": 0,
            "orientation": "horizontal",
            "style": "IPY_MODEL_76a71fe21e024e3c8b8424ec7e24d80c",
            "value": 240780659
          }
        },
        "05ce903ef818433a9e6c4cfa79a42eb5": {
          "model_module": "@jupyter-widgets/controls",
          "model_name": "HTMLModel",
          "model_module_version": "1.5.0",
          "state": {
            "_dom_classes": [],
            "_model_module": "@jupyter-widgets/controls",
            "_model_module_version": "1.5.0",
            "_model_name": "HTMLModel",
            "_view_count": null,
            "_view_module": "@jupyter-widgets/controls",
            "_view_module_version": "1.5.0",
            "_view_name": "HTMLView",
            "description": "",
            "description_tooltip": null,
            "layout": "IPY_MODEL_f11367eaecba4f7a82016cf33c7aafe0",
            "placeholder": "​",
            "style": "IPY_MODEL_a4545f8c4daa421381432afaf83ec5f5",
            "value": " 241M/241M [00:07&lt;00:00, 29.0MB/s]"
          }
        },
        "7dd743028f5d46bda3be1f6aa25285b3": {
          "model_module": "@jupyter-widgets/base",
          "model_name": "LayoutModel",
          "model_module_version": "1.2.0",
          "state": {
            "_model_module": "@jupyter-widgets/base",
            "_model_module_version": "1.2.0",
            "_model_name": "LayoutModel",
            "_view_count": null,
            "_view_module": "@jupyter-widgets/base",
            "_view_module_version": "1.2.0",
            "_view_name": "LayoutView",
            "align_content": null,
            "align_items": null,
            "align_self": null,
            "border": null,
            "bottom": null,
            "display": null,
            "flex": null,
            "flex_flow": null,
            "grid_area": null,
            "grid_auto_columns": null,
            "grid_auto_flow": null,
            "grid_auto_rows": null,
            "grid_column": null,
            "grid_gap": null,
            "grid_row": null,
            "grid_template_areas": null,
            "grid_template_columns": null,
            "grid_template_rows": null,
            "height": null,
            "justify_content": null,
            "justify_items": null,
            "left": null,
            "margin": null,
            "max_height": null,
            "max_width": null,
            "min_height": null,
            "min_width": null,
            "object_fit": null,
            "object_position": null,
            "order": null,
            "overflow": null,
            "overflow_x": null,
            "overflow_y": null,
            "padding": null,
            "right": null,
            "top": null,
            "visibility": null,
            "width": null
          }
        },
        "afc20c41589d4effbbe8988a594c5396": {
          "model_module": "@jupyter-widgets/base",
          "model_name": "LayoutModel",
          "model_module_version": "1.2.0",
          "state": {
            "_model_module": "@jupyter-widgets/base",
            "_model_module_version": "1.2.0",
            "_model_name": "LayoutModel",
            "_view_count": null,
            "_view_module": "@jupyter-widgets/base",
            "_view_module_version": "1.2.0",
            "_view_name": "LayoutView",
            "align_content": null,
            "align_items": null,
            "align_self": null,
            "border": null,
            "bottom": null,
            "display": null,
            "flex": null,
            "flex_flow": null,
            "grid_area": null,
            "grid_auto_columns": null,
            "grid_auto_flow": null,
            "grid_auto_rows": null,
            "grid_column": null,
            "grid_gap": null,
            "grid_row": null,
            "grid_template_areas": null,
            "grid_template_columns": null,
            "grid_template_rows": null,
            "height": null,
            "justify_content": null,
            "justify_items": null,
            "left": null,
            "margin": null,
            "max_height": null,
            "max_width": null,
            "min_height": null,
            "min_width": null,
            "object_fit": null,
            "object_position": null,
            "order": null,
            "overflow": null,
            "overflow_x": null,
            "overflow_y": null,
            "padding": null,
            "right": null,
            "top": null,
            "visibility": null,
            "width": null
          }
        },
        "f3e66537de8d431cae796bb7d1f10d81": {
          "model_module": "@jupyter-widgets/controls",
          "model_name": "DescriptionStyleModel",
          "model_module_version": "1.5.0",
          "state": {
            "_model_module": "@jupyter-widgets/controls",
            "_model_module_version": "1.5.0",
            "_model_name": "DescriptionStyleModel",
            "_view_count": null,
            "_view_module": "@jupyter-widgets/base",
            "_view_module_version": "1.2.0",
            "_view_name": "StyleView",
            "description_width": ""
          }
        },
        "b218b7ca7d9345feae4301fb7f15b679": {
          "model_module": "@jupyter-widgets/base",
          "model_name": "LayoutModel",
          "model_module_version": "1.2.0",
          "state": {
            "_model_module": "@jupyter-widgets/base",
            "_model_module_version": "1.2.0",
            "_model_name": "LayoutModel",
            "_view_count": null,
            "_view_module": "@jupyter-widgets/base",
            "_view_module_version": "1.2.0",
            "_view_name": "LayoutView",
            "align_content": null,
            "align_items": null,
            "align_self": null,
            "border": null,
            "bottom": null,
            "display": null,
            "flex": null,
            "flex_flow": null,
            "grid_area": null,
            "grid_auto_columns": null,
            "grid_auto_flow": null,
            "grid_auto_rows": null,
            "grid_column": null,
            "grid_gap": null,
            "grid_row": null,
            "grid_template_areas": null,
            "grid_template_columns": null,
            "grid_template_rows": null,
            "height": null,
            "justify_content": null,
            "justify_items": null,
            "left": null,
            "margin": null,
            "max_height": null,
            "max_width": null,
            "min_height": null,
            "min_width": null,
            "object_fit": null,
            "object_position": null,
            "order": null,
            "overflow": null,
            "overflow_x": null,
            "overflow_y": null,
            "padding": null,
            "right": null,
            "top": null,
            "visibility": null,
            "width": null
          }
        },
        "76a71fe21e024e3c8b8424ec7e24d80c": {
          "model_module": "@jupyter-widgets/controls",
          "model_name": "ProgressStyleModel",
          "model_module_version": "1.5.0",
          "state": {
            "_model_module": "@jupyter-widgets/controls",
            "_model_module_version": "1.5.0",
            "_model_name": "ProgressStyleModel",
            "_view_count": null,
            "_view_module": "@jupyter-widgets/base",
            "_view_module_version": "1.2.0",
            "_view_name": "StyleView",
            "bar_color": null,
            "description_width": ""
          }
        },
        "f11367eaecba4f7a82016cf33c7aafe0": {
          "model_module": "@jupyter-widgets/base",
          "model_name": "LayoutModel",
          "model_module_version": "1.2.0",
          "state": {
            "_model_module": "@jupyter-widgets/base",
            "_model_module_version": "1.2.0",
            "_model_name": "LayoutModel",
            "_view_count": null,
            "_view_module": "@jupyter-widgets/base",
            "_view_module_version": "1.2.0",
            "_view_name": "LayoutView",
            "align_content": null,
            "align_items": null,
            "align_self": null,
            "border": null,
            "bottom": null,
            "display": null,
            "flex": null,
            "flex_flow": null,
            "grid_area": null,
            "grid_auto_columns": null,
            "grid_auto_flow": null,
            "grid_auto_rows": null,
            "grid_column": null,
            "grid_gap": null,
            "grid_row": null,
            "grid_template_areas": null,
            "grid_template_columns": null,
            "grid_template_rows": null,
            "height": null,
            "justify_content": null,
            "justify_items": null,
            "left": null,
            "margin": null,
            "max_height": null,
            "max_width": null,
            "min_height": null,
            "min_width": null,
            "object_fit": null,
            "object_position": null,
            "order": null,
            "overflow": null,
            "overflow_x": null,
            "overflow_y": null,
            "padding": null,
            "right": null,
            "top": null,
            "visibility": null,
            "width": null
          }
        },
        "a4545f8c4daa421381432afaf83ec5f5": {
          "model_module": "@jupyter-widgets/controls",
          "model_name": "DescriptionStyleModel",
          "model_module_version": "1.5.0",
          "state": {
            "_model_module": "@jupyter-widgets/controls",
            "_model_module_version": "1.5.0",
            "_model_name": "DescriptionStyleModel",
            "_view_count": null,
            "_view_module": "@jupyter-widgets/base",
            "_view_module_version": "1.2.0",
            "_view_name": "StyleView",
            "description_width": ""
          }
        },
        "f9416c3722b1460ab6a86b8594982fa0": {
          "model_module": "@jupyter-widgets/controls",
          "model_name": "HBoxModel",
          "model_module_version": "1.5.0",
          "state": {
            "_dom_classes": [],
            "_model_module": "@jupyter-widgets/controls",
            "_model_module_version": "1.5.0",
            "_model_name": "HBoxModel",
            "_view_count": null,
            "_view_module": "@jupyter-widgets/controls",
            "_view_module_version": "1.5.0",
            "_view_name": "HBoxView",
            "box_style": "",
            "children": [
              "IPY_MODEL_ea1afc175c5a425ab9e2318a7ff930fb",
              "IPY_MODEL_bdc9abead97541c896cf7b52bac5b751",
              "IPY_MODEL_8fe7efc6a83143bc8127570bc41542da"
            ],
            "layout": "IPY_MODEL_8da84509edd14a28b960d3dfcbc2364c"
          }
        },
        "ea1afc175c5a425ab9e2318a7ff930fb": {
          "model_module": "@jupyter-widgets/controls",
          "model_name": "HTMLModel",
          "model_module_version": "1.5.0",
          "state": {
            "_dom_classes": [],
            "_model_module": "@jupyter-widgets/controls",
            "_model_module_version": "1.5.0",
            "_model_name": "HTMLModel",
            "_view_count": null,
            "_view_module": "@jupyter-widgets/controls",
            "_view_module_version": "1.5.0",
            "_view_name": "HTMLView",
            "description": "",
            "description_tooltip": null,
            "layout": "IPY_MODEL_d9784defd3c1452d953ec891a7ef5df3",
            "placeholder": "​",
            "style": "IPY_MODEL_aa53578cab6c4d21b6b8729566d14516",
            "value": "Generating train split: 100%"
          }
        },
        "bdc9abead97541c896cf7b52bac5b751": {
          "model_module": "@jupyter-widgets/controls",
          "model_name": "FloatProgressModel",
          "model_module_version": "1.5.0",
          "state": {
            "_dom_classes": [],
            "_model_module": "@jupyter-widgets/controls",
            "_model_module_version": "1.5.0",
            "_model_name": "FloatProgressModel",
            "_view_count": null,
            "_view_module": "@jupyter-widgets/controls",
            "_view_module_version": "1.5.0",
            "_view_name": "ProgressView",
            "bar_style": "success",
            "description": "",
            "description_tooltip": null,
            "layout": "IPY_MODEL_72b58276a00c42fa83b3b2053fccf16b",
            "max": 16951,
            "min": 0,
            "orientation": "horizontal",
            "style": "IPY_MODEL_eaf874e044d246769590d2b436d94e7b",
            "value": 16951
          }
        },
        "8fe7efc6a83143bc8127570bc41542da": {
          "model_module": "@jupyter-widgets/controls",
          "model_name": "HTMLModel",
          "model_module_version": "1.5.0",
          "state": {
            "_dom_classes": [],
            "_model_module": "@jupyter-widgets/controls",
            "_model_module_version": "1.5.0",
            "_model_name": "HTMLModel",
            "_view_count": null,
            "_view_module": "@jupyter-widgets/controls",
            "_view_module_version": "1.5.0",
            "_view_name": "HTMLView",
            "description": "",
            "description_tooltip": null,
            "layout": "IPY_MODEL_4b73a6951bbc4f59a8f77f5bb5c4ebfa",
            "placeholder": "​",
            "style": "IPY_MODEL_2302637376c74d3688ddd7e5e81a81dc",
            "value": " 16951/16951 [00:10&lt;00:00, 582.96 examples/s]"
          }
        },
        "8da84509edd14a28b960d3dfcbc2364c": {
          "model_module": "@jupyter-widgets/base",
          "model_name": "LayoutModel",
          "model_module_version": "1.2.0",
          "state": {
            "_model_module": "@jupyter-widgets/base",
            "_model_module_version": "1.2.0",
            "_model_name": "LayoutModel",
            "_view_count": null,
            "_view_module": "@jupyter-widgets/base",
            "_view_module_version": "1.2.0",
            "_view_name": "LayoutView",
            "align_content": null,
            "align_items": null,
            "align_self": null,
            "border": null,
            "bottom": null,
            "display": null,
            "flex": null,
            "flex_flow": null,
            "grid_area": null,
            "grid_auto_columns": null,
            "grid_auto_flow": null,
            "grid_auto_rows": null,
            "grid_column": null,
            "grid_gap": null,
            "grid_row": null,
            "grid_template_areas": null,
            "grid_template_columns": null,
            "grid_template_rows": null,
            "height": null,
            "justify_content": null,
            "justify_items": null,
            "left": null,
            "margin": null,
            "max_height": null,
            "max_width": null,
            "min_height": null,
            "min_width": null,
            "object_fit": null,
            "object_position": null,
            "order": null,
            "overflow": null,
            "overflow_x": null,
            "overflow_y": null,
            "padding": null,
            "right": null,
            "top": null,
            "visibility": null,
            "width": null
          }
        },
        "d9784defd3c1452d953ec891a7ef5df3": {
          "model_module": "@jupyter-widgets/base",
          "model_name": "LayoutModel",
          "model_module_version": "1.2.0",
          "state": {
            "_model_module": "@jupyter-widgets/base",
            "_model_module_version": "1.2.0",
            "_model_name": "LayoutModel",
            "_view_count": null,
            "_view_module": "@jupyter-widgets/base",
            "_view_module_version": "1.2.0",
            "_view_name": "LayoutView",
            "align_content": null,
            "align_items": null,
            "align_self": null,
            "border": null,
            "bottom": null,
            "display": null,
            "flex": null,
            "flex_flow": null,
            "grid_area": null,
            "grid_auto_columns": null,
            "grid_auto_flow": null,
            "grid_auto_rows": null,
            "grid_column": null,
            "grid_gap": null,
            "grid_row": null,
            "grid_template_areas": null,
            "grid_template_columns": null,
            "grid_template_rows": null,
            "height": null,
            "justify_content": null,
            "justify_items": null,
            "left": null,
            "margin": null,
            "max_height": null,
            "max_width": null,
            "min_height": null,
            "min_width": null,
            "object_fit": null,
            "object_position": null,
            "order": null,
            "overflow": null,
            "overflow_x": null,
            "overflow_y": null,
            "padding": null,
            "right": null,
            "top": null,
            "visibility": null,
            "width": null
          }
        },
        "aa53578cab6c4d21b6b8729566d14516": {
          "model_module": "@jupyter-widgets/controls",
          "model_name": "DescriptionStyleModel",
          "model_module_version": "1.5.0",
          "state": {
            "_model_module": "@jupyter-widgets/controls",
            "_model_module_version": "1.5.0",
            "_model_name": "DescriptionStyleModel",
            "_view_count": null,
            "_view_module": "@jupyter-widgets/base",
            "_view_module_version": "1.2.0",
            "_view_name": "StyleView",
            "description_width": ""
          }
        },
        "72b58276a00c42fa83b3b2053fccf16b": {
          "model_module": "@jupyter-widgets/base",
          "model_name": "LayoutModel",
          "model_module_version": "1.2.0",
          "state": {
            "_model_module": "@jupyter-widgets/base",
            "_model_module_version": "1.2.0",
            "_model_name": "LayoutModel",
            "_view_count": null,
            "_view_module": "@jupyter-widgets/base",
            "_view_module_version": "1.2.0",
            "_view_name": "LayoutView",
            "align_content": null,
            "align_items": null,
            "align_self": null,
            "border": null,
            "bottom": null,
            "display": null,
            "flex": null,
            "flex_flow": null,
            "grid_area": null,
            "grid_auto_columns": null,
            "grid_auto_flow": null,
            "grid_auto_rows": null,
            "grid_column": null,
            "grid_gap": null,
            "grid_row": null,
            "grid_template_areas": null,
            "grid_template_columns": null,
            "grid_template_rows": null,
            "height": null,
            "justify_content": null,
            "justify_items": null,
            "left": null,
            "margin": null,
            "max_height": null,
            "max_width": null,
            "min_height": null,
            "min_width": null,
            "object_fit": null,
            "object_position": null,
            "order": null,
            "overflow": null,
            "overflow_x": null,
            "overflow_y": null,
            "padding": null,
            "right": null,
            "top": null,
            "visibility": null,
            "width": null
          }
        },
        "eaf874e044d246769590d2b436d94e7b": {
          "model_module": "@jupyter-widgets/controls",
          "model_name": "ProgressStyleModel",
          "model_module_version": "1.5.0",
          "state": {
            "_model_module": "@jupyter-widgets/controls",
            "_model_module_version": "1.5.0",
            "_model_name": "ProgressStyleModel",
            "_view_count": null,
            "_view_module": "@jupyter-widgets/base",
            "_view_module_version": "1.2.0",
            "_view_name": "StyleView",
            "bar_color": null,
            "description_width": ""
          }
        },
        "4b73a6951bbc4f59a8f77f5bb5c4ebfa": {
          "model_module": "@jupyter-widgets/base",
          "model_name": "LayoutModel",
          "model_module_version": "1.2.0",
          "state": {
            "_model_module": "@jupyter-widgets/base",
            "_model_module_version": "1.2.0",
            "_model_name": "LayoutModel",
            "_view_count": null,
            "_view_module": "@jupyter-widgets/base",
            "_view_module_version": "1.2.0",
            "_view_name": "LayoutView",
            "align_content": null,
            "align_items": null,
            "align_self": null,
            "border": null,
            "bottom": null,
            "display": null,
            "flex": null,
            "flex_flow": null,
            "grid_area": null,
            "grid_auto_columns": null,
            "grid_auto_flow": null,
            "grid_auto_rows": null,
            "grid_column": null,
            "grid_gap": null,
            "grid_row": null,
            "grid_template_areas": null,
            "grid_template_columns": null,
            "grid_template_rows": null,
            "height": null,
            "justify_content": null,
            "justify_items": null,
            "left": null,
            "margin": null,
            "max_height": null,
            "max_width": null,
            "min_height": null,
            "min_width": null,
            "object_fit": null,
            "object_position": null,
            "order": null,
            "overflow": null,
            "overflow_x": null,
            "overflow_y": null,
            "padding": null,
            "right": null,
            "top": null,
            "visibility": null,
            "width": null
          }
        },
        "2302637376c74d3688ddd7e5e81a81dc": {
          "model_module": "@jupyter-widgets/controls",
          "model_name": "DescriptionStyleModel",
          "model_module_version": "1.5.0",
          "state": {
            "_model_module": "@jupyter-widgets/controls",
            "_model_module_version": "1.5.0",
            "_model_name": "DescriptionStyleModel",
            "_view_count": null,
            "_view_module": "@jupyter-widgets/base",
            "_view_module_version": "1.2.0",
            "_view_name": "StyleView",
            "description_width": ""
          }
        },
        "cfc2241c266b4886b21fbce282c36bbd": {
          "model_module": "@jupyter-widgets/controls",
          "model_name": "HBoxModel",
          "model_module_version": "1.5.0",
          "state": {
            "_dom_classes": [],
            "_model_module": "@jupyter-widgets/controls",
            "_model_module_version": "1.5.0",
            "_model_name": "HBoxModel",
            "_view_count": null,
            "_view_module": "@jupyter-widgets/controls",
            "_view_module_version": "1.5.0",
            "_view_name": "HBoxView",
            "box_style": "",
            "children": [
              "IPY_MODEL_aa85cbd3b2794568ac33e613948013bb",
              "IPY_MODEL_f584073ea303464ea573b944d5237ec9",
              "IPY_MODEL_c8303baa9ea14a6d838887c9b0756aa3"
            ],
            "layout": "IPY_MODEL_a4a449bbbe704aab82008262f5f6a855"
          }
        },
        "aa85cbd3b2794568ac33e613948013bb": {
          "model_module": "@jupyter-widgets/controls",
          "model_name": "HTMLModel",
          "model_module_version": "1.5.0",
          "state": {
            "_dom_classes": [],
            "_model_module": "@jupyter-widgets/controls",
            "_model_module_version": "1.5.0",
            "_model_name": "HTMLModel",
            "_view_count": null,
            "_view_module": "@jupyter-widgets/controls",
            "_view_module_version": "1.5.0",
            "_view_name": "HTMLView",
            "description": "",
            "description_tooltip": null,
            "layout": "IPY_MODEL_8f961c78e66c45ea8821b16b3e0990e4",
            "placeholder": "​",
            "style": "IPY_MODEL_5b31501f7e9e425d9130e0ef568fd640",
            "value": "Filter: 100%"
          }
        },
        "f584073ea303464ea573b944d5237ec9": {
          "model_module": "@jupyter-widgets/controls",
          "model_name": "FloatProgressModel",
          "model_module_version": "1.5.0",
          "state": {
            "_dom_classes": [],
            "_model_module": "@jupyter-widgets/controls",
            "_model_module_version": "1.5.0",
            "_model_name": "FloatProgressModel",
            "_view_count": null,
            "_view_module": "@jupyter-widgets/controls",
            "_view_module_version": "1.5.0",
            "_view_name": "ProgressView",
            "bar_style": "success",
            "description": "",
            "description_tooltip": null,
            "layout": "IPY_MODEL_c38bd3ec6f6340e7a11339b11952d148",
            "max": 16951,
            "min": 0,
            "orientation": "horizontal",
            "style": "IPY_MODEL_d50ce081fc8045d4905fa149588e5d9b",
            "value": 16951
          }
        },
        "c8303baa9ea14a6d838887c9b0756aa3": {
          "model_module": "@jupyter-widgets/controls",
          "model_name": "HTMLModel",
          "model_module_version": "1.5.0",
          "state": {
            "_dom_classes": [],
            "_model_module": "@jupyter-widgets/controls",
            "_model_module_version": "1.5.0",
            "_model_name": "HTMLModel",
            "_view_count": null,
            "_view_module": "@jupyter-widgets/controls",
            "_view_module_version": "1.5.0",
            "_view_name": "HTMLView",
            "description": "",
            "description_tooltip": null,
            "layout": "IPY_MODEL_44084f9e77c64f38a587e32346fcda2c",
            "placeholder": "​",
            "style": "IPY_MODEL_126e6b3d2a1d441482c9f5d5063a4389",
            "value": " 16951/16951 [00:04&lt;00:00, 3215.20 examples/s]"
          }
        },
        "a4a449bbbe704aab82008262f5f6a855": {
          "model_module": "@jupyter-widgets/base",
          "model_name": "LayoutModel",
          "model_module_version": "1.2.0",
          "state": {
            "_model_module": "@jupyter-widgets/base",
            "_model_module_version": "1.2.0",
            "_model_name": "LayoutModel",
            "_view_count": null,
            "_view_module": "@jupyter-widgets/base",
            "_view_module_version": "1.2.0",
            "_view_name": "LayoutView",
            "align_content": null,
            "align_items": null,
            "align_self": null,
            "border": null,
            "bottom": null,
            "display": null,
            "flex": null,
            "flex_flow": null,
            "grid_area": null,
            "grid_auto_columns": null,
            "grid_auto_flow": null,
            "grid_auto_rows": null,
            "grid_column": null,
            "grid_gap": null,
            "grid_row": null,
            "grid_template_areas": null,
            "grid_template_columns": null,
            "grid_template_rows": null,
            "height": null,
            "justify_content": null,
            "justify_items": null,
            "left": null,
            "margin": null,
            "max_height": null,
            "max_width": null,
            "min_height": null,
            "min_width": null,
            "object_fit": null,
            "object_position": null,
            "order": null,
            "overflow": null,
            "overflow_x": null,
            "overflow_y": null,
            "padding": null,
            "right": null,
            "top": null,
            "visibility": null,
            "width": null
          }
        },
        "8f961c78e66c45ea8821b16b3e0990e4": {
          "model_module": "@jupyter-widgets/base",
          "model_name": "LayoutModel",
          "model_module_version": "1.2.0",
          "state": {
            "_model_module": "@jupyter-widgets/base",
            "_model_module_version": "1.2.0",
            "_model_name": "LayoutModel",
            "_view_count": null,
            "_view_module": "@jupyter-widgets/base",
            "_view_module_version": "1.2.0",
            "_view_name": "LayoutView",
            "align_content": null,
            "align_items": null,
            "align_self": null,
            "border": null,
            "bottom": null,
            "display": null,
            "flex": null,
            "flex_flow": null,
            "grid_area": null,
            "grid_auto_columns": null,
            "grid_auto_flow": null,
            "grid_auto_rows": null,
            "grid_column": null,
            "grid_gap": null,
            "grid_row": null,
            "grid_template_areas": null,
            "grid_template_columns": null,
            "grid_template_rows": null,
            "height": null,
            "justify_content": null,
            "justify_items": null,
            "left": null,
            "margin": null,
            "max_height": null,
            "max_width": null,
            "min_height": null,
            "min_width": null,
            "object_fit": null,
            "object_position": null,
            "order": null,
            "overflow": null,
            "overflow_x": null,
            "overflow_y": null,
            "padding": null,
            "right": null,
            "top": null,
            "visibility": null,
            "width": null
          }
        },
        "5b31501f7e9e425d9130e0ef568fd640": {
          "model_module": "@jupyter-widgets/controls",
          "model_name": "DescriptionStyleModel",
          "model_module_version": "1.5.0",
          "state": {
            "_model_module": "@jupyter-widgets/controls",
            "_model_module_version": "1.5.0",
            "_model_name": "DescriptionStyleModel",
            "_view_count": null,
            "_view_module": "@jupyter-widgets/base",
            "_view_module_version": "1.2.0",
            "_view_name": "StyleView",
            "description_width": ""
          }
        },
        "c38bd3ec6f6340e7a11339b11952d148": {
          "model_module": "@jupyter-widgets/base",
          "model_name": "LayoutModel",
          "model_module_version": "1.2.0",
          "state": {
            "_model_module": "@jupyter-widgets/base",
            "_model_module_version": "1.2.0",
            "_model_name": "LayoutModel",
            "_view_count": null,
            "_view_module": "@jupyter-widgets/base",
            "_view_module_version": "1.2.0",
            "_view_name": "LayoutView",
            "align_content": null,
            "align_items": null,
            "align_self": null,
            "border": null,
            "bottom": null,
            "display": null,
            "flex": null,
            "flex_flow": null,
            "grid_area": null,
            "grid_auto_columns": null,
            "grid_auto_flow": null,
            "grid_auto_rows": null,
            "grid_column": null,
            "grid_gap": null,
            "grid_row": null,
            "grid_template_areas": null,
            "grid_template_columns": null,
            "grid_template_rows": null,
            "height": null,
            "justify_content": null,
            "justify_items": null,
            "left": null,
            "margin": null,
            "max_height": null,
            "max_width": null,
            "min_height": null,
            "min_width": null,
            "object_fit": null,
            "object_position": null,
            "order": null,
            "overflow": null,
            "overflow_x": null,
            "overflow_y": null,
            "padding": null,
            "right": null,
            "top": null,
            "visibility": null,
            "width": null
          }
        },
        "d50ce081fc8045d4905fa149588e5d9b": {
          "model_module": "@jupyter-widgets/controls",
          "model_name": "ProgressStyleModel",
          "model_module_version": "1.5.0",
          "state": {
            "_model_module": "@jupyter-widgets/controls",
            "_model_module_version": "1.5.0",
            "_model_name": "ProgressStyleModel",
            "_view_count": null,
            "_view_module": "@jupyter-widgets/base",
            "_view_module_version": "1.2.0",
            "_view_name": "StyleView",
            "bar_color": null,
            "description_width": ""
          }
        },
        "44084f9e77c64f38a587e32346fcda2c": {
          "model_module": "@jupyter-widgets/base",
          "model_name": "LayoutModel",
          "model_module_version": "1.2.0",
          "state": {
            "_model_module": "@jupyter-widgets/base",
            "_model_module_version": "1.2.0",
            "_model_name": "LayoutModel",
            "_view_count": null,
            "_view_module": "@jupyter-widgets/base",
            "_view_module_version": "1.2.0",
            "_view_name": "LayoutView",
            "align_content": null,
            "align_items": null,
            "align_self": null,
            "border": null,
            "bottom": null,
            "display": null,
            "flex": null,
            "flex_flow": null,
            "grid_area": null,
            "grid_auto_columns": null,
            "grid_auto_flow": null,
            "grid_auto_rows": null,
            "grid_column": null,
            "grid_gap": null,
            "grid_row": null,
            "grid_template_areas": null,
            "grid_template_columns": null,
            "grid_template_rows": null,
            "height": null,
            "justify_content": null,
            "justify_items": null,
            "left": null,
            "margin": null,
            "max_height": null,
            "max_width": null,
            "min_height": null,
            "min_width": null,
            "object_fit": null,
            "object_position": null,
            "order": null,
            "overflow": null,
            "overflow_x": null,
            "overflow_y": null,
            "padding": null,
            "right": null,
            "top": null,
            "visibility": null,
            "width": null
          }
        },
        "126e6b3d2a1d441482c9f5d5063a4389": {
          "model_module": "@jupyter-widgets/controls",
          "model_name": "DescriptionStyleModel",
          "model_module_version": "1.5.0",
          "state": {
            "_model_module": "@jupyter-widgets/controls",
            "_model_module_version": "1.5.0",
            "_model_name": "DescriptionStyleModel",
            "_view_count": null,
            "_view_module": "@jupyter-widgets/base",
            "_view_module_version": "1.2.0",
            "_view_name": "StyleView",
            "description_width": ""
          }
        },
        "f014363e92e147c595d6daede0adde7c": {
          "model_module": "@jupyter-widgets/controls",
          "model_name": "HBoxModel",
          "model_module_version": "1.5.0",
          "state": {
            "_dom_classes": [],
            "_model_module": "@jupyter-widgets/controls",
            "_model_module_version": "1.5.0",
            "_model_name": "HBoxModel",
            "_view_count": null,
            "_view_module": "@jupyter-widgets/controls",
            "_view_module_version": "1.5.0",
            "_view_name": "HBoxView",
            "box_style": "",
            "children": [
              "IPY_MODEL_9c9a63bcf2ae46dca87cd39f2d94389f",
              "IPY_MODEL_1ddf890ce9a243e3a091dbc17e2cb391",
              "IPY_MODEL_7d74ea73e5d24c8bb7852b2840cae246"
            ],
            "layout": "IPY_MODEL_cde435dd8f06436e88c77c915ee2e9d1"
          }
        },
        "9c9a63bcf2ae46dca87cd39f2d94389f": {
          "model_module": "@jupyter-widgets/controls",
          "model_name": "HTMLModel",
          "model_module_version": "1.5.0",
          "state": {
            "_dom_classes": [],
            "_model_module": "@jupyter-widgets/controls",
            "_model_module_version": "1.5.0",
            "_model_name": "HTMLModel",
            "_view_count": null,
            "_view_module": "@jupyter-widgets/controls",
            "_view_module_version": "1.5.0",
            "_view_name": "HTMLView",
            "description": "",
            "description_tooltip": null,
            "layout": "IPY_MODEL_cce1ef68e37549f09ee4edbb77eceec6",
            "placeholder": "​",
            "style": "IPY_MODEL_3d211adfb5344427a2c40d4df8ee970d",
            "value": "Filter: 100%"
          }
        },
        "1ddf890ce9a243e3a091dbc17e2cb391": {
          "model_module": "@jupyter-widgets/controls",
          "model_name": "FloatProgressModel",
          "model_module_version": "1.5.0",
          "state": {
            "_dom_classes": [],
            "_model_module": "@jupyter-widgets/controls",
            "_model_module_version": "1.5.0",
            "_model_name": "FloatProgressModel",
            "_view_count": null,
            "_view_module": "@jupyter-widgets/controls",
            "_view_module_version": "1.5.0",
            "_view_name": "ProgressView",
            "bar_style": "success",
            "description": "",
            "description_tooltip": null,
            "layout": "IPY_MODEL_e740abd6fd8644b8a38c33dd4cccd8dc",
            "max": 16951,
            "min": 0,
            "orientation": "horizontal",
            "style": "IPY_MODEL_ab3082b5043a4ab5a2978ffbf4471083",
            "value": 16951
          }
        },
        "7d74ea73e5d24c8bb7852b2840cae246": {
          "model_module": "@jupyter-widgets/controls",
          "model_name": "HTMLModel",
          "model_module_version": "1.5.0",
          "state": {
            "_dom_classes": [],
            "_model_module": "@jupyter-widgets/controls",
            "_model_module_version": "1.5.0",
            "_model_name": "HTMLModel",
            "_view_count": null,
            "_view_module": "@jupyter-widgets/controls",
            "_view_module_version": "1.5.0",
            "_view_name": "HTMLView",
            "description": "",
            "description_tooltip": null,
            "layout": "IPY_MODEL_d86a599f1bc24f37986286ecb1ae300d",
            "placeholder": "​",
            "style": "IPY_MODEL_b1ca155879d342b58b61d66695ad5b38",
            "value": " 16951/16951 [00:04&lt;00:00, 3397.94 examples/s]"
          }
        },
        "cde435dd8f06436e88c77c915ee2e9d1": {
          "model_module": "@jupyter-widgets/base",
          "model_name": "LayoutModel",
          "model_module_version": "1.2.0",
          "state": {
            "_model_module": "@jupyter-widgets/base",
            "_model_module_version": "1.2.0",
            "_model_name": "LayoutModel",
            "_view_count": null,
            "_view_module": "@jupyter-widgets/base",
            "_view_module_version": "1.2.0",
            "_view_name": "LayoutView",
            "align_content": null,
            "align_items": null,
            "align_self": null,
            "border": null,
            "bottom": null,
            "display": null,
            "flex": null,
            "flex_flow": null,
            "grid_area": null,
            "grid_auto_columns": null,
            "grid_auto_flow": null,
            "grid_auto_rows": null,
            "grid_column": null,
            "grid_gap": null,
            "grid_row": null,
            "grid_template_areas": null,
            "grid_template_columns": null,
            "grid_template_rows": null,
            "height": null,
            "justify_content": null,
            "justify_items": null,
            "left": null,
            "margin": null,
            "max_height": null,
            "max_width": null,
            "min_height": null,
            "min_width": null,
            "object_fit": null,
            "object_position": null,
            "order": null,
            "overflow": null,
            "overflow_x": null,
            "overflow_y": null,
            "padding": null,
            "right": null,
            "top": null,
            "visibility": null,
            "width": null
          }
        },
        "cce1ef68e37549f09ee4edbb77eceec6": {
          "model_module": "@jupyter-widgets/base",
          "model_name": "LayoutModel",
          "model_module_version": "1.2.0",
          "state": {
            "_model_module": "@jupyter-widgets/base",
            "_model_module_version": "1.2.0",
            "_model_name": "LayoutModel",
            "_view_count": null,
            "_view_module": "@jupyter-widgets/base",
            "_view_module_version": "1.2.0",
            "_view_name": "LayoutView",
            "align_content": null,
            "align_items": null,
            "align_self": null,
            "border": null,
            "bottom": null,
            "display": null,
            "flex": null,
            "flex_flow": null,
            "grid_area": null,
            "grid_auto_columns": null,
            "grid_auto_flow": null,
            "grid_auto_rows": null,
            "grid_column": null,
            "grid_gap": null,
            "grid_row": null,
            "grid_template_areas": null,
            "grid_template_columns": null,
            "grid_template_rows": null,
            "height": null,
            "justify_content": null,
            "justify_items": null,
            "left": null,
            "margin": null,
            "max_height": null,
            "max_width": null,
            "min_height": null,
            "min_width": null,
            "object_fit": null,
            "object_position": null,
            "order": null,
            "overflow": null,
            "overflow_x": null,
            "overflow_y": null,
            "padding": null,
            "right": null,
            "top": null,
            "visibility": null,
            "width": null
          }
        },
        "3d211adfb5344427a2c40d4df8ee970d": {
          "model_module": "@jupyter-widgets/controls",
          "model_name": "DescriptionStyleModel",
          "model_module_version": "1.5.0",
          "state": {
            "_model_module": "@jupyter-widgets/controls",
            "_model_module_version": "1.5.0",
            "_model_name": "DescriptionStyleModel",
            "_view_count": null,
            "_view_module": "@jupyter-widgets/base",
            "_view_module_version": "1.2.0",
            "_view_name": "StyleView",
            "description_width": ""
          }
        },
        "e740abd6fd8644b8a38c33dd4cccd8dc": {
          "model_module": "@jupyter-widgets/base",
          "model_name": "LayoutModel",
          "model_module_version": "1.2.0",
          "state": {
            "_model_module": "@jupyter-widgets/base",
            "_model_module_version": "1.2.0",
            "_model_name": "LayoutModel",
            "_view_count": null,
            "_view_module": "@jupyter-widgets/base",
            "_view_module_version": "1.2.0",
            "_view_name": "LayoutView",
            "align_content": null,
            "align_items": null,
            "align_self": null,
            "border": null,
            "bottom": null,
            "display": null,
            "flex": null,
            "flex_flow": null,
            "grid_area": null,
            "grid_auto_columns": null,
            "grid_auto_flow": null,
            "grid_auto_rows": null,
            "grid_column": null,
            "grid_gap": null,
            "grid_row": null,
            "grid_template_areas": null,
            "grid_template_columns": null,
            "grid_template_rows": null,
            "height": null,
            "justify_content": null,
            "justify_items": null,
            "left": null,
            "margin": null,
            "max_height": null,
            "max_width": null,
            "min_height": null,
            "min_width": null,
            "object_fit": null,
            "object_position": null,
            "order": null,
            "overflow": null,
            "overflow_x": null,
            "overflow_y": null,
            "padding": null,
            "right": null,
            "top": null,
            "visibility": null,
            "width": null
          }
        },
        "ab3082b5043a4ab5a2978ffbf4471083": {
          "model_module": "@jupyter-widgets/controls",
          "model_name": "ProgressStyleModel",
          "model_module_version": "1.5.0",
          "state": {
            "_model_module": "@jupyter-widgets/controls",
            "_model_module_version": "1.5.0",
            "_model_name": "ProgressStyleModel",
            "_view_count": null,
            "_view_module": "@jupyter-widgets/base",
            "_view_module_version": "1.2.0",
            "_view_name": "StyleView",
            "bar_color": null,
            "description_width": ""
          }
        },
        "d86a599f1bc24f37986286ecb1ae300d": {
          "model_module": "@jupyter-widgets/base",
          "model_name": "LayoutModel",
          "model_module_version": "1.2.0",
          "state": {
            "_model_module": "@jupyter-widgets/base",
            "_model_module_version": "1.2.0",
            "_model_name": "LayoutModel",
            "_view_count": null,
            "_view_module": "@jupyter-widgets/base",
            "_view_module_version": "1.2.0",
            "_view_name": "LayoutView",
            "align_content": null,
            "align_items": null,
            "align_self": null,
            "border": null,
            "bottom": null,
            "display": null,
            "flex": null,
            "flex_flow": null,
            "grid_area": null,
            "grid_auto_columns": null,
            "grid_auto_flow": null,
            "grid_auto_rows": null,
            "grid_column": null,
            "grid_gap": null,
            "grid_row": null,
            "grid_template_areas": null,
            "grid_template_columns": null,
            "grid_template_rows": null,
            "height": null,
            "justify_content": null,
            "justify_items": null,
            "left": null,
            "margin": null,
            "max_height": null,
            "max_width": null,
            "min_height": null,
            "min_width": null,
            "object_fit": null,
            "object_position": null,
            "order": null,
            "overflow": null,
            "overflow_x": null,
            "overflow_y": null,
            "padding": null,
            "right": null,
            "top": null,
            "visibility": null,
            "width": null
          }
        },
        "b1ca155879d342b58b61d66695ad5b38": {
          "model_module": "@jupyter-widgets/controls",
          "model_name": "DescriptionStyleModel",
          "model_module_version": "1.5.0",
          "state": {
            "_model_module": "@jupyter-widgets/controls",
            "_model_module_version": "1.5.0",
            "_model_name": "DescriptionStyleModel",
            "_view_count": null,
            "_view_module": "@jupyter-widgets/base",
            "_view_module_version": "1.2.0",
            "_view_name": "StyleView",
            "description_width": ""
          }
        }
      }
    }
  },
  "cells": [
    {
      "cell_type": "markdown",
      "metadata": {
        "id": "view-in-github",
        "colab_type": "text"
      },
      "source": [
        "<a href=\"https://colab.research.google.com/github/dfukagaw28/ColabNotebooks/blob/main/%E9%9D%92%E7%A9%BA%E6%96%87%E5%BA%AB%E3%81%AE%E5%89%8D%E5%87%A6%E7%90%86%E6%B8%88%E3%81%BF%E3%83%86%E3%82%AD%E3%82%B9%E3%83%88%E3%83%87%E3%83%BC%E3%82%BF%E3%82%92%E5%88%A9%E7%94%A8%E3%81%99%E3%82%8B.ipynb\" target=\"_parent\"><img src=\"https://colab.research.google.com/assets/colab-badge.svg\" alt=\"Open In Colab\"/></a>"
      ]
    },
    {
      "cell_type": "markdown",
      "source": [
        "# 青空文庫の前処理済みテキストデータを利用する"
      ],
      "metadata": {
        "id": "v3ptjF49aw7E"
      }
    },
    {
      "cell_type": "markdown",
      "source": [
        "青空文庫のテキストデータををテキストマイニングや言語モデルの学習等の目的で利用する際には，ルビや注記などのノイズとなるものを除去するための前処理が必要です。\n",
        "\n",
        "前処理済みの青空文庫テキストデータが Hugging Face 上で公開されています（ちょうど２年前頃。もう少し早く知りたかった）。\n",
        "\n",
        "*   https://huggingface.co/datasets/globis-university/aozorabunko-clean\n",
        "*   [青空文庫のテキストから作成したコーパスを Hugging Face で公開しました #LLM - Qiita](https://qiita.com/akeyhero/items/b53eae1c0bc4d54e321f)"
      ],
      "metadata": {
        "id": "U-lcot_wa0F6"
      }
    },
    {
      "cell_type": "markdown",
      "source": [
        "[Hugging Face](https://huggingface.co/)（ハギングフェイス）とは、自然言語処理（NLP）や機械学習（ML）分野で広く利用されているオープンソースプラットフォーム兼コミュニティです。\n",
        "\n",
        "音声・画像・テキストなどのデータセットや，自然言語モデル BERT やその変種・改良版などが Hugging Face 上で公開されており，誰でも利用することができます。\n",
        "また，新たなデータセットやモデルを誰でも公開することができます。\n",
        "\n",
        "Python で Hugging Face 状のデータセットを利用するには，Hugging Face が公開している Python ライブラリ [datasets](https://pypi.org/project/datasets/) を利用するのが便利です。Google Colab のランタイムには，この datasets が最初からインストールされており，追加インストール不要で import することができます（2025年10月時点）。"
      ],
      "metadata": {
        "id": "mLN_BtkBeOvQ"
      }
    },
    {
      "cell_type": "code",
      "source": [
        "%%time\n",
        "#@title データセットを読み込む\n",
        "from datasets import load_dataset\n",
        "ds = load_dataset('globis-university/aozorabunko-clean')"
      ],
      "metadata": {
        "colab": {
          "base_uri": "https://localhost:8080/",
          "height": 280,
          "referenced_widgets": [
            "85ebf4dbab174c5db1bce7a108046ee7",
            "134ed7aa62814c34b5660d112f9f384d",
            "b9660af0c9ca47fda5722a9564a7dbd8",
            "4bb01baec6394efb84958c6fc3c8675b",
            "fb31a693aeca4482ab95e547ce1486ae",
            "7f3c1e64f542445db9f7eb4c52705957",
            "653ed8d5a94f47d8be31e37230e536a6",
            "f455224c0d3344b98561b1673a3b70da",
            "6381b6608a2744b5be9a13f89d65979d",
            "c0e9b0a399a64cdcae2e32aa4a01a4d4",
            "9339733b47c943509775f53503a418e9",
            "181f93d604b340aabdc61182c0cee263",
            "1d3042f3ec37487c8f0b632847bcfd84",
            "763f74a56ab043d28e653ca847e73367",
            "05ce903ef818433a9e6c4cfa79a42eb5",
            "7dd743028f5d46bda3be1f6aa25285b3",
            "afc20c41589d4effbbe8988a594c5396",
            "f3e66537de8d431cae796bb7d1f10d81",
            "b218b7ca7d9345feae4301fb7f15b679",
            "76a71fe21e024e3c8b8424ec7e24d80c",
            "f11367eaecba4f7a82016cf33c7aafe0",
            "a4545f8c4daa421381432afaf83ec5f5",
            "f9416c3722b1460ab6a86b8594982fa0",
            "ea1afc175c5a425ab9e2318a7ff930fb",
            "bdc9abead97541c896cf7b52bac5b751",
            "8fe7efc6a83143bc8127570bc41542da",
            "8da84509edd14a28b960d3dfcbc2364c",
            "d9784defd3c1452d953ec891a7ef5df3",
            "aa53578cab6c4d21b6b8729566d14516",
            "72b58276a00c42fa83b3b2053fccf16b",
            "eaf874e044d246769590d2b436d94e7b",
            "4b73a6951bbc4f59a8f77f5bb5c4ebfa",
            "2302637376c74d3688ddd7e5e81a81dc"
          ]
        },
        "id": "ZpGjByK7gNr7",
        "outputId": "f3f4a0eb-473a-43da-850e-56898a03037b"
      },
      "execution_count": 1,
      "outputs": [
        {
          "output_type": "stream",
          "name": "stderr",
          "text": [
            "/usr/local/lib/python3.12/dist-packages/huggingface_hub/utils/_auth.py:94: UserWarning: \n",
            "The secret `HF_TOKEN` does not exist in your Colab secrets.\n",
            "To authenticate with the Hugging Face Hub, create a token in your settings tab (https://huggingface.co/settings/tokens), set it as secret in your Google Colab and restart your session.\n",
            "You will be able to reuse this secret in all of your notebooks.\n",
            "Please note that authentication is recommended but still optional to access public models or datasets.\n",
            "  warnings.warn(\n"
          ]
        },
        {
          "output_type": "display_data",
          "data": {
            "text/plain": [
              "README.md: 0.00B [00:00, ?B/s]"
            ],
            "application/vnd.jupyter.widget-view+json": {
              "version_major": 2,
              "version_minor": 0,
              "model_id": "85ebf4dbab174c5db1bce7a108046ee7"
            }
          },
          "metadata": {}
        },
        {
          "output_type": "display_data",
          "data": {
            "text/plain": [
              "aozorabunko-dedupe-clean.jsonl.gz:   0%|          | 0.00/241M [00:00<?, ?B/s]"
            ],
            "application/vnd.jupyter.widget-view+json": {
              "version_major": 2,
              "version_minor": 0,
              "model_id": "181f93d604b340aabdc61182c0cee263"
            }
          },
          "metadata": {}
        },
        {
          "output_type": "display_data",
          "data": {
            "text/plain": [
              "Generating train split:   0%|          | 0/16951 [00:00<?, ? examples/s]"
            ],
            "application/vnd.jupyter.widget-view+json": {
              "version_major": 2,
              "version_minor": 0,
              "model_id": "f9416c3722b1460ab6a86b8594982fa0"
            }
          },
          "metadata": {}
        },
        {
          "output_type": "stream",
          "name": "stdout",
          "text": [
            "CPU times: user 14.8 s, sys: 2.29 s, total: 17.1 s\n",
            "Wall time: 24.3 s\n"
          ]
        }
      ]
    },
    {
      "cell_type": "code",
      "source": [
        "# データセット\n",
        "ds"
      ],
      "metadata": {
        "colab": {
          "base_uri": "https://localhost:8080/"
        },
        "id": "N-smeYgChBzk",
        "outputId": "2e50f8b7-ea2a-472a-ce49-bf0cc5cd537a"
      },
      "execution_count": 2,
      "outputs": [
        {
          "output_type": "execute_result",
          "data": {
            "text/plain": [
              "DatasetDict({\n",
              "    train: Dataset({\n",
              "        features: ['text', 'footnote', 'meta'],\n",
              "        num_rows: 16951\n",
              "    })\n",
              "})"
            ]
          },
          "metadata": {},
          "execution_count": 2
        }
      ]
    },
    {
      "cell_type": "code",
      "source": [
        "# 訓練用データ\n",
        "ds['train']"
      ],
      "metadata": {
        "colab": {
          "base_uri": "https://localhost:8080/"
        },
        "id": "YlouOUHqhNUm",
        "outputId": "a5f84d20-e70b-499a-bfd9-f4bc8405233f"
      },
      "execution_count": 3,
      "outputs": [
        {
          "output_type": "execute_result",
          "data": {
            "text/plain": [
              "Dataset({\n",
              "    features: ['text', 'footnote', 'meta'],\n",
              "    num_rows: 16951\n",
              "})"
            ]
          },
          "metadata": {},
          "execution_count": 3
        }
      ]
    },
    {
      "cell_type": "code",
      "source": [
        "# 1つの作品を抽出する\n",
        "book = ds['train'][0]\n",
        "book['meta']['作品名']"
      ],
      "metadata": {
        "colab": {
          "base_uri": "https://localhost:8080/",
          "height": 35
        },
        "id": "QJcNstXOhB2Z",
        "outputId": "0e59e276-f380-4e85-b3d5-cfb3dba61c04"
      },
      "execution_count": 4,
      "outputs": [
        {
          "output_type": "execute_result",
          "data": {
            "text/plain": [
              "'ウェストミンスター寺院'"
            ],
            "application/vnd.google.colaboratory.intrinsic+json": {
              "type": "string"
            }
          },
          "metadata": {},
          "execution_count": 4
        }
      ]
    },
    {
      "cell_type": "code",
      "source": [
        "# 1つの作品のテキストデータを抽出する\n",
        "text = book['text']\n",
        "print(f'テキストの文字数: {len(text)}')\n",
        "print()\n",
        "print('テキストの先頭100文字:')\n",
        "print(text[:100])"
      ],
      "metadata": {
        "colab": {
          "base_uri": "https://localhost:8080/"
        },
        "id": "FkSwuPOthB5e",
        "outputId": "e49c8bec-e479-4be4-8b4a-c8c43c52933c"
      },
      "execution_count": 5,
      "outputs": [
        {
          "output_type": "stream",
          "name": "stdout",
          "text": [
            "テキストの文字数: 10639\n",
            "\n",
            "テキストの先頭100文字:\n",
            "深いおどろきにうたれて、\n",
            "名高いウェストミンスターに\n",
            "真鍮や石の記念碑となって\n",
            "すべての王侯貴族が集まっているのをみれば、\n",
            "今はさげすみも、ほこりも、見栄もない。\n",
            "善にかえった貴人の姿、\n",
            "華美と俗世の\n"
          ]
        }
      ]
    },
    {
      "cell_type": "code",
      "source": [
        "# 1つの作品のフッター情報（主にテキスト入力作業に関する情報）を抽出する\n",
        "print(book['footnote'])"
      ],
      "metadata": {
        "colab": {
          "base_uri": "https://localhost:8080/"
        },
        "id": "CjGO6zrIhB8C",
        "outputId": "946fe152-53d5-47ac-8503-639d41173fdc"
      },
      "execution_count": 6,
      "outputs": [
        {
          "output_type": "stream",
          "name": "stdout",
          "text": [
            "底本：「スケッチ・ブック」新潮文庫、新潮社\n",
            "　　　1957（昭和32）年5月20日発行\n",
            "　　　2000（平成12）年2月20日33刷改版\n",
            "※「寂莫」と「寂寞」の混在は、底本通りです。\n",
            "入力：えにしだ\n",
            "校正：砂場清隆\n",
            "2020年3月28日作成\n",
            "青空文庫作成ファイル：\n",
            "このファイルは、インターネットの図書館、青空文庫（https://www.aozora.gr.jp/）で作られました。入力、校正、制作にあたったのは、ボランティアの皆さんです。\n",
            "\n"
          ]
        }
      ]
    },
    {
      "cell_type": "code",
      "source": [
        "%%time\n",
        "#@title 作品の文字種別を抽出する\n",
        "\n",
        "import pandas as pd\n",
        "\n",
        "series = pd.Series([row['meta']['文字遣い種別'] for row in ds['train']])"
      ],
      "metadata": {
        "colab": {
          "base_uri": "https://localhost:8080/"
        },
        "id": "oTYxopnxi_M9",
        "outputId": "17866a2c-69dc-4e82-df61-dc4f1c46e18c"
      },
      "execution_count": 7,
      "outputs": [
        {
          "output_type": "stream",
          "name": "stdout",
          "text": [
            "CPU times: user 6.03 s, sys: 61.7 ms, total: 6.09 s\n",
            "Wall time: 6.14 s\n"
          ]
        }
      ]
    },
    {
      "cell_type": "code",
      "source": [
        "# 文字遣い種別を集計する\n",
        "\n",
        "series.value_counts()"
      ],
      "metadata": {
        "colab": {
          "base_uri": "https://localhost:8080/",
          "height": 241
        },
        "id": "GjNvxI1oi_TY",
        "outputId": "2e677155-87b8-497c-9060-36768d88ed8a"
      },
      "execution_count": 8,
      "outputs": [
        {
          "output_type": "execute_result",
          "data": {
            "text/plain": [
              "新字新仮名    10246\n",
              "新字旧仮名     4515\n",
              "旧字旧仮名     2143\n",
              "旧字新仮名       32\n",
              "その他         15\n",
              "Name: count, dtype: int64"
            ],
            "text/html": [
              "<div>\n",
              "<style scoped>\n",
              "    .dataframe tbody tr th:only-of-type {\n",
              "        vertical-align: middle;\n",
              "    }\n",
              "\n",
              "    .dataframe tbody tr th {\n",
              "        vertical-align: top;\n",
              "    }\n",
              "\n",
              "    .dataframe thead th {\n",
              "        text-align: right;\n",
              "    }\n",
              "</style>\n",
              "<table border=\"1\" class=\"dataframe\">\n",
              "  <thead>\n",
              "    <tr style=\"text-align: right;\">\n",
              "      <th></th>\n",
              "      <th>count</th>\n",
              "    </tr>\n",
              "  </thead>\n",
              "  <tbody>\n",
              "    <tr>\n",
              "      <th>新字新仮名</th>\n",
              "      <td>10246</td>\n",
              "    </tr>\n",
              "    <tr>\n",
              "      <th>新字旧仮名</th>\n",
              "      <td>4515</td>\n",
              "    </tr>\n",
              "    <tr>\n",
              "      <th>旧字旧仮名</th>\n",
              "      <td>2143</td>\n",
              "    </tr>\n",
              "    <tr>\n",
              "      <th>旧字新仮名</th>\n",
              "      <td>32</td>\n",
              "    </tr>\n",
              "    <tr>\n",
              "      <th>その他</th>\n",
              "      <td>15</td>\n",
              "    </tr>\n",
              "  </tbody>\n",
              "</table>\n",
              "</div><br><label><b>dtype:</b> int64</label>"
            ]
          },
          "metadata": {},
          "execution_count": 8
        }
      ]
    },
    {
      "cell_type": "code",
      "source": [
        "#@title 作品名で絞り込む\n",
        "\n",
        "# 作品名が「吾輩」で始まる作品を抽出する\n",
        "temp = ds.filter(lambda row: row['meta']['作品名'].startswith('吾輩'))\n",
        "\n",
        "print('ヒットした件数:', temp['train'].num_rows)\n",
        "\n",
        "book = temp['train'][0]"
      ],
      "metadata": {
        "colab": {
          "base_uri": "https://localhost:8080/",
          "height": 67,
          "referenced_widgets": [
            "cfc2241c266b4886b21fbce282c36bbd",
            "aa85cbd3b2794568ac33e613948013bb",
            "f584073ea303464ea573b944d5237ec9",
            "c8303baa9ea14a6d838887c9b0756aa3",
            "a4a449bbbe704aab82008262f5f6a855",
            "8f961c78e66c45ea8821b16b3e0990e4",
            "5b31501f7e9e425d9130e0ef568fd640",
            "c38bd3ec6f6340e7a11339b11952d148",
            "d50ce081fc8045d4905fa149588e5d9b",
            "44084f9e77c64f38a587e32346fcda2c",
            "126e6b3d2a1d441482c9f5d5063a4389"
          ]
        },
        "id": "opzjiEUDnJnt",
        "outputId": "cf0c57ad-80f1-4ebb-a0a7-64c5b490434e"
      },
      "execution_count": 9,
      "outputs": [
        {
          "output_type": "display_data",
          "data": {
            "text/plain": [
              "Filter:   0%|          | 0/16951 [00:00<?, ? examples/s]"
            ],
            "application/vnd.jupyter.widget-view+json": {
              "version_major": 2,
              "version_minor": 0,
              "model_id": "cfc2241c266b4886b21fbce282c36bbd"
            }
          },
          "metadata": {}
        },
        {
          "output_type": "stream",
          "name": "stdout",
          "text": [
            "ヒットした件数: 1\n"
          ]
        }
      ]
    },
    {
      "cell_type": "code",
      "source": [
        "book['meta']"
      ],
      "metadata": {
        "colab": {
          "base_uri": "https://localhost:8080/"
        },
        "id": "FVzXSTEni_WT",
        "outputId": "65e799d9-de61-41c3-b0ba-d8b2db3ac901"
      },
      "execution_count": 10,
      "outputs": [
        {
          "output_type": "execute_result",
          "data": {
            "text/plain": [
              "{'作品ID': '000789',\n",
              " '作品名': '吾輩は猫である',\n",
              " '作品名読み': 'わがはいはねこである',\n",
              " 'ソート用読み': 'わかはいはねこてある',\n",
              " '副題': '',\n",
              " '副題読み': '',\n",
              " '原題': '',\n",
              " '初出': '「ホトトギス」1905（明治38）年1月、2月、4月、6月、7月、10月、1906（明治39）年1月、3月、4月、8月',\n",
              " '分類番号': 'NDC 913',\n",
              " '文字遣い種別': '新字新仮名',\n",
              " '作品著作権フラグ': 'なし',\n",
              " '公開日': datetime.datetime(1999, 9, 21, 0, 0),\n",
              " '最終更新日': datetime.datetime(2018, 2, 5, 0, 0),\n",
              " '図書カードURL': 'https://www.aozora.gr.jp/cards/000148/card789.html',\n",
              " '人物ID': '000148',\n",
              " '姓': '夏目',\n",
              " '名': '漱石',\n",
              " '姓読み': 'なつめ',\n",
              " '名読み': 'そうせき',\n",
              " '姓読みソート用': 'なつめ',\n",
              " '名読みソート用': 'そうせき',\n",
              " '姓ローマ字': 'Natsume',\n",
              " '名ローマ字': 'Soseki',\n",
              " '役割フラグ': '著者',\n",
              " '生年月日': '1867-02-09',\n",
              " '没年月日': '1916-12-09',\n",
              " '人物著作権フラグ': 'なし',\n",
              " '底本名1': '夏目漱石全集1',\n",
              " '底本出版社名1': 'ちくま文庫、筑摩書房',\n",
              " '底本初版発行年1': '1987（昭和62）年9月29日',\n",
              " '入力に使用した版1': '1987（昭和62）年9月29日',\n",
              " '校正に使用した版1': '1994（平成6）年9月30日第4刷',\n",
              " '底本の親本名1': '筑摩全集類聚版\\u3000夏目漱石全集\\u30001',\n",
              " '底本の親本出版社名1': '筑摩書房',\n",
              " '底本の親本初版発行年1': '1971（昭和46）年4月5日',\n",
              " '底本名2': '',\n",
              " '底本出版社名2': '',\n",
              " '底本初版発行年2': '',\n",
              " '入力に使用した版2': '',\n",
              " '校正に使用した版2': '',\n",
              " '底本の親本名2': '',\n",
              " '底本の親本出版社名2': '',\n",
              " '底本の親本初版発行年2': '',\n",
              " '入力者': '柴田卓治',\n",
              " '校正者': '田尻幹二、高橋真也、しず、瀬戸さえ子、おのしげひこ、渡部峰子',\n",
              " 'テキストファイルURL': 'https://www.aozora.gr.jp/cards/000148/files/789_ruby_5639.zip',\n",
              " 'テキストファイル最終更新日': datetime.datetime(2018, 2, 5, 0, 0),\n",
              " 'テキストファイル符号化方式': 'ShiftJIS',\n",
              " 'テキストファイル文字集合': 'JIS X 0208',\n",
              " 'テキストファイル修正回数': '15',\n",
              " 'XHTML/HTMLファイルURL': 'https://www.aozora.gr.jp/cards/000148/files/789_14547.html',\n",
              " 'XHTML/HTMLファイル最終更新日': datetime.datetime(2018, 2, 5, 0, 0),\n",
              " 'XHTML/HTMLファイル符号化方式': 'ShiftJIS',\n",
              " 'XHTML/HTMLファイル文字集合': 'JIS X 0208',\n",
              " 'XHTML/HTMLファイル修正回数': '9'}"
            ]
          },
          "metadata": {},
          "execution_count": 10
        }
      ]
    },
    {
      "cell_type": "markdown",
      "source": [
        "## aozorahack/aozorabunko_text と比較する"
      ],
      "metadata": {
        "id": "AT7RRBsEpNHg"
      }
    },
    {
      "cell_type": "markdown",
      "source": [
        "青空文庫公式プロジェクト「Code for 青空文庫」に由来するテキストデータセットである aozorahack/aozorabunko_text と比較する。\n",
        "\n",
        "*   Hugging Face の globis-university/aozorabunko-clean データセットについて\n",
        "    *   最終更新日時は 2023年7月頃\n",
        "    *   作品数は 16951\n",
        "*   aozorahack/aozorabunko_text データセットについて\n",
        "    *   最終更新日時は 2023年3月頃\n",
        "    *   作品数は 17436"
      ],
      "metadata": {
        "id": "B_8U9D_kpZ19"
      }
    },
    {
      "cell_type": "code",
      "source": [
        "!git clone --depth=1 https://github.com/aozorahack/aozorabunko_text.git\n",
        "!find aozorabunko_text/cards -type f | wc -l"
      ],
      "metadata": {
        "colab": {
          "base_uri": "https://localhost:8080/"
        },
        "id": "W7mKQkRbq4Sl",
        "outputId": "bed2b71f-e72e-4383-9266-685b281c3d2a"
      },
      "execution_count": 11,
      "outputs": [
        {
          "output_type": "stream",
          "name": "stdout",
          "text": [
            "Cloning into 'aozorabunko_text'...\n",
            "remote: Enumerating objects: 36894, done.\u001b[K\n",
            "remote: Counting objects: 100% (36894/36894), done.\u001b[K\n",
            "remote: Compressing objects: 100% (17843/17843), done.\u001b[K\n",
            "remote: Total 36894 (delta 191), reused 36697 (delta 191), pack-reused 0 (from 0)\u001b[K\n",
            "Receiving objects: 100% (36894/36894), 245.89 MiB | 18.26 MiB/s, done.\n",
            "Resolving deltas: 100% (191/191), done.\n",
            "Updating files: 100% (17442/17442), done.\n",
            "17436\n"
          ]
        }
      ]
    },
    {
      "cell_type": "markdown",
      "source": [
        "aozorahack/aozorabunko_text から『吾輩は猫である』のテキストデータを抽出して前処理を行う。"
      ],
      "metadata": {
        "id": "6388JSswsUXO"
      }
    },
    {
      "cell_type": "code",
      "source": [
        "#@title 青空文庫のテキストデータをダウンロードする（neko1.txt）\n",
        "!curl -RLO https://github.com/aozorabunko/aozorabunko/raw/refs/heads/master/cards/000148/files/789_ruby_5639.zip\n",
        "!unzip -o 789_ruby_5639.zip wagahaiwa_nekodearu.txt\n",
        "!mv wagahaiwa_nekodearu.txt neko1.txt\n",
        "!rm -f 789_ruby_5639.zip"
      ],
      "metadata": {
        "colab": {
          "base_uri": "https://localhost:8080/"
        },
        "id": "Coa-optCr8ks",
        "outputId": "1f7489f2-a94a-4a04-8ec3-a7f1fbd8d1de"
      },
      "execution_count": 12,
      "outputs": [
        {
          "output_type": "stream",
          "name": "stdout",
          "text": [
            "  % Total    % Received % Xferd  Average Speed   Time    Time     Time  Current\n",
            "                                 Dload  Upload   Total   Spent    Left  Speed\n",
            "  0     0    0     0    0     0      0      0 --:--:-- --:--:-- --:--:--     0\n",
            "100  336k  100  336k    0     0   701k      0 --:--:-- --:--:-- --:--:--  701k\n",
            "Archive:  789_ruby_5639.zip\n",
            "Made with MacWinZipper (http://tidajapan.com/macwinzipper)\n",
            "  inflating: wagahaiwa_nekodearu.txt  \n"
          ]
        }
      ]
    },
    {
      "cell_type": "code",
      "source": [
        "import re\n",
        "\n",
        "def aozora_preprocess(text):\n",
        "  # 冒頭の記載事項（タイトル・著者名等）を検出して除去する\n",
        "  try:\n",
        "    pos = text.index('\\n\\n')\n",
        "    text = text[pos+2:]\n",
        "  except:\n",
        "    pass\n",
        "\n",
        "  # 【テキスト中に現れる記号について】を検出して除去する\n",
        "  try:\n",
        "    # 最初の行が「--------」で始まることを確認する\n",
        "    assert text.startswith('--------')\n",
        "\n",
        "    # ２つ目の「--------」で始まる行と，その次の空行を除去する\n",
        "    pos = text.index('\\n') + 1\n",
        "    pos = text.index('--------', pos)\n",
        "    pos = text.index('\\n\\n', pos) + 2\n",
        "    text = text[pos:]\n",
        "  except:\n",
        "    pass\n",
        "\n",
        "  # 本文の末尾の情報（底本，入力・校正にかんする情報等）を検出して除去する\n",
        "  try:\n",
        "    pos = text.index('\\n\\n\\n\\n')\n",
        "    text = text[:pos]\n",
        "  except:\n",
        "    pass\n",
        "\n",
        "  # ルビに関する記述を削除する\n",
        "  text = re.sub('《.+?》', '', text)\n",
        "  text = re.sub('｜', '', text)\n",
        "\n",
        "  # 注記情報（レイアウト情報，入力者注等）を検出して削除する\n",
        "  text = re.sub(r'［＃.*?］', '', text)\n",
        "\n",
        "  # 文ごとに改行する\n",
        "  # text = re.sub('(。|？)', '\\1\\n', text)\n",
        "\n",
        "  # HORIZONTAL BAR (U+2015) を EM DASH (U+2014) に変換する\n",
        "  # text = text.replace('\\u2015', '\\u2014')\n",
        "\n",
        "  return text"
      ],
      "metadata": {
        "id": "CLKrsYaNr8ne"
      },
      "execution_count": 13,
      "outputs": []
    },
    {
      "cell_type": "code",
      "source": [
        "# テキストデータを読み込む\n",
        "text1 = open('neko1.txt', encoding='cp932').read()\n",
        "\n",
        "# 前処理を適用する\n",
        "text1 = aozora_preprocess(text1)"
      ],
      "metadata": {
        "id": "0mKdHLCgr8qi"
      },
      "execution_count": 14,
      "outputs": []
    },
    {
      "cell_type": "code",
      "source": [
        "#@title Hugging Face 青空文庫のテキストデータをダウンロードする（neko2.txt）\n",
        "ds = load_dataset('globis-university/aozorabunko-clean')\n",
        "temp = ds.filter(lambda row: row['meta']['作品ID'] == '000789')\n",
        "assert temp['train'].num_rows == 1\n",
        "book = temp['train'][0]\n",
        "text2 = book['text']"
      ],
      "metadata": {
        "colab": {
          "base_uri": "https://localhost:8080/",
          "height": 49,
          "referenced_widgets": [
            "f014363e92e147c595d6daede0adde7c",
            "9c9a63bcf2ae46dca87cd39f2d94389f",
            "1ddf890ce9a243e3a091dbc17e2cb391",
            "7d74ea73e5d24c8bb7852b2840cae246",
            "cde435dd8f06436e88c77c915ee2e9d1",
            "cce1ef68e37549f09ee4edbb77eceec6",
            "3d211adfb5344427a2c40d4df8ee970d",
            "e740abd6fd8644b8a38c33dd4cccd8dc",
            "ab3082b5043a4ab5a2978ffbf4471083",
            "d86a599f1bc24f37986286ecb1ae300d",
            "b1ca155879d342b58b61d66695ad5b38"
          ]
        },
        "id": "u-YzlvYes0yX",
        "outputId": "dd7df9a5-7671-4871-c1c0-9306c24e98c5"
      },
      "execution_count": 15,
      "outputs": [
        {
          "output_type": "display_data",
          "data": {
            "text/plain": [
              "Filter:   0%|          | 0/16951 [00:00<?, ? examples/s]"
            ],
            "application/vnd.jupyter.widget-view+json": {
              "version_major": 2,
              "version_minor": 0,
              "model_id": "f014363e92e147c595d6daede0adde7c"
            }
          },
          "metadata": {}
        }
      ]
    },
    {
      "cell_type": "code",
      "source": [
        "%%time\n",
        "#@title ２つのテキストデータを比較する\n",
        "\n",
        "from difflib import SequenceMatcher\n",
        "\n",
        "matcher = SequenceMatcher(None, text1, text2)\n",
        "\n",
        "for tag, i1, i2, j1, j2 in matcher.get_opcodes():\n",
        "  if tag != 'equal':\n",
        "    print(f\"{text1[i1:i2]}\\t{text2[j1:j2]}\")"
      ],
      "metadata": {
        "colab": {
          "base_uri": "https://localhost:8080/"
        },
        "id": "HEHyCy9ps01J",
        "outputId": "1836286d-f7ae-48bb-edf0-a63f6d61326b"
      },
      "execution_count": 16,
      "outputs": [
        {
          "output_type": "stream",
          "name": "stdout",
          "text": [
            "※\t譃\n",
            "※\t饀\n",
            "※\t蹰\n",
            "※\t燄\n",
            "※\t饍\n",
            "※\t炷\n",
            "※\t炷\n",
            "※\t炷\n",
            "※\t炷\n",
            "※\tㇶ\n",
            "※\tㇶ\n",
            "※\t橛\n",
            "※\t睜\n",
            "※\t蹰\n",
            "※※\t惝怳\n",
            "※\t媧\n",
            "※\t鄢\n",
            "※\t燄\n",
            "※\t戕\n",
            "※\t匇\n",
            "※\t餼\n",
            "※\t騃\n",
            "※\t噱\n",
            "※\t彘\n",
            "※\t惸\n",
            "※\t璆\n",
            "※\t泫\n",
            "※\t蛼\n",
            "※\t蛼\n",
            "※\t燄\n",
            "※\tㇶ\n",
            "※\t卺\n",
            "※\t燄\n",
            "CPU times: user 1min 19s, sys: 83.2 ms, total: 1min 19s\n",
            "Wall time: 1min 25s\n"
          ]
        }
      ]
    },
    {
      "cell_type": "markdown",
      "source": [
        "## 自前の前処理済みテキストとも比較する"
      ],
      "metadata": {
        "id": "7IeCK6qEw-HI"
      }
    },
    {
      "cell_type": "code",
      "source": [
        "#@title 自前のテキストデータをダウンロードする（neko3.txt）\n",
        "!curl -RLO https://github.com/dfukagaw28/aozorabunko_text/raw/refs/heads/preprocess/cards/000148/files/789_ruby_5639/789_ruby_5639.txt\n",
        "!mv 789_ruby_5639.txt neko3.txt"
      ],
      "metadata": {
        "colab": {
          "base_uri": "https://localhost:8080/"
        },
        "id": "k3EET8WLxJjq",
        "outputId": "c1f48c44-9b73-4053-cd11-166ebd9fa7b7"
      },
      "execution_count": 17,
      "outputs": [
        {
          "output_type": "stream",
          "name": "stdout",
          "text": [
            "  % Total    % Received % Xferd  Average Speed   Time    Time     Time  Current\n",
            "                                 Dload  Upload   Total   Spent    Left  Speed\n",
            "  0     0    0     0    0     0      0      0 --:--:-- --:--:-- --:--:--     0\n",
            "100 1088k  100 1088k    0     0  1346k      0 --:--:-- --:--:-- --:--:-- 1346k\n"
          ]
        }
      ]
    },
    {
      "cell_type": "code",
      "source": [],
      "metadata": {
        "id": "LP2HgYgNxzaI"
      },
      "execution_count": 17,
      "outputs": []
    },
    {
      "cell_type": "code",
      "source": [
        "# 追加の前処理\n",
        "\n",
        "def _preprocess(text):\n",
        "\n",
        "  # ルビに関する記述を削除する\n",
        "  text = re.sub('《.+?》', '', text)\n",
        "  text = re.sub('｜', '', text)\n",
        "\n",
        "  # 注記情報（レイアウト情報，入力者注等）を検出して削除する\n",
        "  text = re.sub(r'［＃.*?］', '', text)\n",
        "\n",
        "  # 前後の空白を除去する\n",
        "  text = text.strip()\n",
        "\n",
        "  return text"
      ],
      "metadata": {
        "id": "xXVRo2Uyx8ll"
      },
      "execution_count": 18,
      "outputs": []
    },
    {
      "cell_type": "code",
      "source": [
        "# テキストデータを読み込む\n",
        "text3 = open('neko3.txt', encoding='utf8').read()\n",
        "\n",
        "# 前処理を適用する\n",
        "text3 = _preprocess(text3)"
      ],
      "metadata": {
        "id": "1PadMliCxq_R"
      },
      "execution_count": 19,
      "outputs": []
    },
    {
      "cell_type": "code",
      "source": [
        "# ２つのテキストは一致する\n",
        "assert text2 == text3"
      ],
      "metadata": {
        "id": "g6hj82-eyS-j"
      },
      "execution_count": 20,
      "outputs": []
    }
  ]
}