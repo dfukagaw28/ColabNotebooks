{
  "cells": [
    {
      "cell_type": "markdown",
      "metadata": {
        "id": "view-in-github",
        "colab_type": "text"
      },
      "source": [
        "<a href=\"https://colab.research.google.com/github/dfukagaw28/ColabNotebooks/blob/main/%E9%9D%92%E7%A9%BA%E6%96%87%E5%BA%AB%E3%81%AE%E3%83%86%E3%82%AD%E3%82%B9%E3%83%88%E3%83%87%E3%83%BC%E3%82%BF%E3%82%92%E5%8F%96%E5%BE%97%E3%81%99%E3%82%8B_2.ipynb\" target=\"_parent\"><img src=\"https://colab.research.google.com/assets/colab-badge.svg\" alt=\"Open In Colab\"/></a>"
      ]
    },
    {
      "cell_type": "markdown",
      "metadata": {
        "id": "SMqoY9SWZ-Ea"
      },
      "source": [
        "# 青空文庫のテキストデータを取得する (2)"
      ]
    },
    {
      "cell_type": "markdown",
      "source": [
        "*   履歴\n",
        "    *   前処理を追加しました（2025/10/14）"
      ],
      "metadata": {
        "id": "F9HUB_jUi38I"
      }
    },
    {
      "cell_type": "markdown",
      "source": [
        "*   「▶」ボタンで最初のコードセルを実行してください。表が表示されたら，表の右上の「Filter」ボタンを押して絞り込み検索をして目的の作品Noを見つけてください。\n"
      ],
      "metadata": {
        "id": "VV0F0kd6NUm7"
      }
    },
    {
      "cell_type": "code",
      "execution_count": null,
      "metadata": {
        "cellView": "form",
        "id": "kb2kDAs-8sdq"
      },
      "outputs": [],
      "source": [
        "#@title 青空文庫の作家別作品リストを読み込む\n",
        "\n",
        "from pathlib import Path\n",
        "import pandas as pd\n",
        "from google.colab import data_table\n",
        "\n",
        "if not Path('list_person_all_utf8.csv').exists():\n",
        "  !curl -RL https://www.aozora.gr.jp/index_pages/list_person_all_utf8.zip | funzip > list_person_all_utf8.csv\n",
        "\n",
        "df_list_person = pd.read_csv('list_person_all_utf8.csv')\n",
        "\n",
        "data_table.DataTable(df_list_person, num_rows_per_page=10)"
      ]
    },
    {
      "cell_type": "markdown",
      "source": [
        "*   目的の作品IDが分かったら，下のフォームの「作品ID」欄に入力してください。"
      ],
      "metadata": {
        "id": "1DivDlYRSGKR"
      }
    },
    {
      "cell_type": "code",
      "execution_count": null,
      "metadata": {
        "id": "pGUuphl7LOlf",
        "cellView": "form"
      },
      "outputs": [],
      "source": [
        "#@title 作品IDを指定してファイルを取得する\n",
        "\n",
        "from pathlib import Path\n",
        "import re\n",
        "\n",
        "import pandas as pd\n",
        "\n",
        "\n",
        "def aozora_load_filelist():\n",
        "  path = 'filelist.csv'\n",
        "\n",
        "  if not Path(path).exists():\n",
        "    url = 'https://github.com/dfukagaw28/ColabNotebooks/raw/refs/heads/main/aozora/filelist.csv'\n",
        "    !curl -RLO {url}\n",
        "\n",
        "  df_filelist = pd.read_csv(path)\n",
        "\n",
        "  return df_filelist\n",
        "\n",
        "\n",
        "def aozora_download_text(work_info, force=False):\n",
        "  zip_path = work_info['path']\n",
        "  zip_path = Path(zip_path)\n",
        "  text_path = (zip_path.with_suffix('') / zip_path.name).with_suffix('.txt')\n",
        "  text_url = 'https://github.com/dfukagaw28/aozorabunko_text/raw/refs/heads/master/' + str(text_path)\n",
        "\n",
        "  author_id = work_info['author_id']\n",
        "  author_id = f'000000{author_id}'[-6:]\n",
        "  text_filename = work_info['text_filename']\n",
        "\n",
        "  output_path = Path(str(author_id)) / text_filename\n",
        "\n",
        "  if force or not output_path.exists():\n",
        "    output_path.parent.mkdir(parents=True, exist_ok=True)\n",
        "    !curl -RL {text_url} -o {output_path}\n",
        "    !mv {output_path} {output_path}.orig\n",
        "    with open(f'{output_path}.orig', encoding='cp932') as file:\n",
        "      text = file.read()\n",
        "      text = aozora_preprocess(text)\n",
        "    with open(output_path, 'w', encoding='utf_8') as file:\n",
        "      file.write(text)\n",
        "    !rm -f {output_path}.orig\n",
        "\n",
        "  return output_path\n",
        "\n",
        "\n",
        "def aozora_preprocess(text):\n",
        "  # 冒頭の記載事項（タイトル・著者名等）を検出して除去する\n",
        "  try:\n",
        "    pos = text.index('\\n\\n')\n",
        "    text = text[pos+2:]\n",
        "  except:\n",
        "    pass\n",
        "\n",
        "  # 【テキスト中に現れる記号について】を検出して除去する\n",
        "  try:\n",
        "    # 最初の行が「--------」で始まることを確認する\n",
        "    assert text.startswith('--------')\n",
        "\n",
        "    # ２つ目の「--------」で始まる行と，その次の空行を除去する\n",
        "    pos = text.index('\\n') + 1\n",
        "    pos = text.index('--------', pos)\n",
        "    pos = text.index('\\n\\n', pos) + 2\n",
        "    text = text[pos:]\n",
        "  except:\n",
        "    pass\n",
        "\n",
        "  # 本文の末尾の情報（底本，入力・校正にかんする情報等）を検出して除去する\n",
        "  try:\n",
        "    pos = text.index('\\n\\n\\n\\n')\n",
        "    text = text[:pos]\n",
        "  except:\n",
        "    pass\n",
        "\n",
        "  # ルビに関する記述を削除する\n",
        "  text = re.sub('《.+?》', '', text)\n",
        "  text = re.sub('｜', '', text)\n",
        "\n",
        "  # 注記情報（レイアウト情報，入力者注等）を検出して削除する\n",
        "  text = re.sub(r'［＃.*?］', '', text)\n",
        "\n",
        "  # 文ごとに改行する\n",
        "  text = re.sub('(。|？)', '\\\\1\\n', text)\n",
        "\n",
        "  # HORIZONTAL BAR (U+2015) を EM DASH (U+2014) に変換する\n",
        "  text = text.replace('\\u2015', '\\u2014')\n",
        "\n",
        "  return text\n",
        "\n",
        "\n",
        "作品ID = 789  #@param {\"type\":\"integer\"}\n",
        "\n",
        "df_filelist = aozora_load_filelist()\n",
        "\n",
        "df_filtered = df_filelist[df_filelist['work_id'] == 作品ID]\n",
        "\n",
        "if len(df_filtered) == 1:\n",
        "  # 作品に関する情報を取得\n",
        "  row = df_filtered.iloc[0]\n",
        "\n",
        "  # 作品のテキストファイルをダウンロードする\n",
        "  # 既にファイルが存在する場合はダウンロードを省略する\n",
        "  output_path = aozora_download_text(row, force=True)\n",
        "\n",
        "  # ダウンロードしたテキストファイルのパス\n",
        "  print(output_path)\n",
        "\n",
        "  # テキストファイルを開く\n",
        "  from google.colab import files\n",
        "  files.view(output_path)\n",
        "\n",
        "  # 自動的にダウンロードする\n",
        "  files.download(output_path)\n",
        ""
      ]
    },
    {
      "cell_type": "code",
      "source": [],
      "metadata": {
        "id": "ETP2efhAtqlm"
      },
      "execution_count": null,
      "outputs": []
    }
  ],
  "metadata": {
    "colab": {
      "provenance": [],
      "authorship_tag": "ABX9TyOgXvE0TqlZY6GslQZ8SHZs",
      "include_colab_link": true
    },
    "kernelspec": {
      "display_name": "Python 3",
      "name": "python3"
    },
    "language_info": {
      "name": "python"
    }
  },
  "nbformat": 4,
  "nbformat_minor": 0
}