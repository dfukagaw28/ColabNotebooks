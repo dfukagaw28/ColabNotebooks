{
  "nbformat": 4,
  "nbformat_minor": 0,
  "metadata": {
    "colab": {
      "provenance": [],
      "toc_visible": true,
      "authorship_tag": "ABX9TyMr0Kyf8PrpwdMkcEpYkLzr",
      "include_colab_link": true
    },
    "kernelspec": {
      "name": "python3",
      "display_name": "Python 3"
    },
    "language_info": {
      "name": "python"
    }
  },
  "cells": [
    {
      "cell_type": "markdown",
      "metadata": {
        "id": "view-in-github",
        "colab_type": "text"
      },
      "source": [
        "<a href=\"https://colab.research.google.com/github/dfukagaw28/ColabNotebooks/blob/main/%E9%9D%92%E7%A9%BA%E6%96%87%E5%BA%AB%E3%80%8E%E6%B3%95%E7%AA%93%E5%A4%9C%E8%A9%B1%E3%80%8F%E3%81%AE%E3%83%86%E3%82%AD%E3%82%B9%E3%83%88%E3%83%87%E3%83%BC%E3%82%BF%E3%82%92%E5%88%A9%E7%94%A8%E3%81%99%E3%82%8B.ipynb\" target=\"_parent\"><img src=\"https://colab.research.google.com/assets/colab-badge.svg\" alt=\"Open In Colab\"/></a>"
      ]
    },
    {
      "cell_type": "markdown",
      "source": [
        "# 青空文庫『法窓夜話』のテキストデータを利用する"
      ],
      "metadata": {
        "id": "eG7r8AW2kK5Y"
      }
    },
    {
      "cell_type": "markdown",
      "source": [
        "*  ファイルを読み込む際に文字コードにかんするエラーが発生するため，調査した。"
      ],
      "metadata": {
        "id": "Yn2NLqoIHPyV"
      }
    },
    {
      "cell_type": "markdown",
      "source": [
        "*  穂積陳重著『法窓夜話』\n",
        "   *  調べてみると，著者の穂積陳重の長男である穂積重遠は，『虎に翼』に登場する穂高先生のモデルであるらしい。陳重の妻は渋沢栄一の長女。\n",
        "   *  【1】 [青空文庫 図書カード No.1872](https://www.aozora.gr.jp/cards/000301/card1872.html)\n",
        "      *  1つのテキストデータがある\n",
        "         *  1872_ruby_3491.zip (2014-07-25)\n",
        "   *  【2】 [GitHub aozorabunko/aozorabunko cards/000301/files](https://github.com/aozorabunko/aozorabunko/tree/master/cards/000301/files)\n",
        "      *  2つのテキストデータがある\n",
        "         *  1872_ruby.zip (2011-05-02)\n",
        "         *  1872_ruby_3491.zip (2014-07-26)\n",
        "   *  【3】 [GitHub aozorahack/aozorabunko_text cards/000301/files](https://github.com/aozorahack/aozorabunko_text/tree/master/cards/000301/files)\n",
        "      *  こちらにも2つのテキストデータがある\n",
        "         *  1872_ruby.txt (2019-02-11)\n",
        "         *  1872_ruby_3491.txt (2019-02-11)"
      ],
      "metadata": {
        "id": "4gF2FhPtkNfx"
      }
    },
    {
      "cell_type": "markdown",
      "source": [
        "## テキストデータは2種類"
      ],
      "metadata": {
        "id": "Lv0X-63-qFh7"
      }
    },
    {
      "cell_type": "code",
      "source": [
        "!curl -sRL https://www.aozora.gr.jp/cards/000301/files/1872_ruby_3491.zip -o hoso_yawa_1.zip && unzip -oq hoso_yawa_1.zip && mv 02hoso_yawa.txt hoso_yawa_1.txt\n",
        "!curl -sRL https://github.com/aozorabunko/aozorabunko/raw/master/cards/000301/files/1872_ruby.zip -o hoso_yawa_2a.zip && unzip -oq hoso_yawa_2a.zip && mv housouyawa.txt hoso_yawa_2a.txt\n",
        "!curl -sRL https://github.com/aozorabunko/aozorabunko/raw/master/cards/000301/files/1872_ruby_3491.zip -o hoso_yawa_2b.zip && unzip -oq hoso_yawa_2b.zip && mv 02hoso_yawa.txt hoso_yawa_2b.txt\n",
        "!curl -sRL https://github.com/aozorahack/aozorabunko_text/raw/master/cards/000301/files/1872_ruby/1872_ruby.txt -o hoso_yawa_3a.txt\n",
        "!curl -sRL https://github.com/aozorahack/aozorabunko_text/raw/master/cards/000301/files/1872_ruby_3491/1872_ruby_3491.txt -o hoso_yawa_3b.txt\n",
        "!sha256sum hoso_yawa_*.txt"
      ],
      "metadata": {
        "colab": {
          "base_uri": "https://localhost:8080/"
        },
        "id": "ffd64oOUi1So",
        "outputId": "9e91c43a-12a6-446f-961f-74322c43c759"
      },
      "execution_count": null,
      "outputs": [
        {
          "output_type": "stream",
          "name": "stdout",
          "text": [
            "763e8b97e576be550674641db0a1c8c74091613d83a360fc6960f7e6e0257d9a  hoso_yawa_1.txt\n",
            "49ec7361ee5ce0a7f175090107444236934ff92dec55ff9f3109f39580fc8523  hoso_yawa_2a.txt\n",
            "763e8b97e576be550674641db0a1c8c74091613d83a360fc6960f7e6e0257d9a  hoso_yawa_2b.txt\n",
            "49ec7361ee5ce0a7f175090107444236934ff92dec55ff9f3109f39580fc8523  hoso_yawa_3a.txt\n",
            "763e8b97e576be550674641db0a1c8c74091613d83a360fc6960f7e6e0257d9a  hoso_yawa_3b.txt\n"
          ]
        }
      ]
    },
    {
      "cell_type": "code",
      "source": [
        "!mv hoso_yawa_3a.txt 1872_ruby.txt\n",
        "!mv hoso_yawa_3b.txt 1872_ruby_3491.txt\n",
        "!rm hoso_yawa_*.zip hoso_yawa_*.txt"
      ],
      "metadata": {
        "id": "bZhkBh7Cq1PM"
      },
      "execution_count": null,
      "outputs": []
    },
    {
      "cell_type": "markdown",
      "source": [
        "## エラーが発生するのは２つのテキストファイルのうち 1872_ruby のみ（_3491 が付かない方）"
      ],
      "metadata": {
        "id": "dnBwencNqQDj"
      }
    },
    {
      "cell_type": "code",
      "source": [
        "!iconv -f cp932 -t utf8 1872_ruby.txt | sha256sum"
      ],
      "metadata": {
        "colab": {
          "base_uri": "https://localhost:8080/"
        },
        "id": "2x7TffsJqbSn",
        "outputId": "60f31a55-8697-4c1d-c037-7bf4cf2bb36d"
      },
      "execution_count": null,
      "outputs": [
        {
          "output_type": "stream",
          "name": "stdout",
          "text": [
            "iconv: illegal input sequence at position 121589\n",
            "125e3301831e4546bac840125cf790c0ef39996819ac17c805c95c4e93c45d8d  -\n"
          ]
        }
      ]
    },
    {
      "cell_type": "code",
      "source": [
        "!iconv -f cp932 -t utf8 1872_ruby_3491.txt | sha256sum"
      ],
      "metadata": {
        "colab": {
          "base_uri": "https://localhost:8080/"
        },
        "id": "8yvP0r7GqbVq",
        "outputId": "9c1de8d4-7787-4c18-cc4f-3837cfac4188"
      },
      "execution_count": null,
      "outputs": [
        {
          "output_type": "stream",
          "name": "stdout",
          "text": [
            "46d5b1a67e1c53cd3955e3aedc81d6e4299f7e238726291ae813e8f3858e8d64  -\n"
          ]
        }
      ]
    },
    {
      "cell_type": "markdown",
      "source": [
        "## エラーが発生する章は「四七　大木司法卿の造語造字案」"
      ],
      "metadata": {
        "id": "Yous-1JYqD79"
      }
    },
    {
      "cell_type": "code",
      "source": [
        "# エラーが発生する文字の直前までを表示する（最後の１行のみ）\n",
        "!head -c 121589 1872_ruby.txt | iconv -f cp932 -t utf8 | tail -n 1"
      ],
      "metadata": {
        "colab": {
          "base_uri": "https://localhost:8080/"
        },
        "id": "rvvihfAHtJP7",
        "outputId": "7f328857-84c9-461d-8c0b-f897d66cc699"
      },
      "execution_count": null,
      "outputs": [
        {
          "output_type": "stream",
          "name": "stdout",
          "text": [
            "一、新字ノ頭ニ、※［＃「※」は「□冠」、168-4］アル者ハ、亜《ア》頭ノ語ナリ、他ノエ、イ、※［＃「※」は「□偏」、168-4］、ユ、モ埃《エ》伊《イ》阿《オ》兪《ユ》頭ノ語ニシテ、"
          ]
        }
      ]
    },
    {
      "cell_type": "code",
      "source": [
        "# エラーが発生する文字（2バイト）を除けば，それ以降は正常にデコードできる\n",
        "!tail -c +121592 1872_ruby.txt | iconv -f cp932 -t utf8 | head -n 1"
      ],
      "metadata": {
        "colab": {
          "base_uri": "https://localhost:8080/"
        },
        "id": "FVNfbxJfttHf",
        "outputId": "4a5c80f7-0d35-4fad-e03c-faaaa9da9554"
      },
      "execution_count": null,
      "outputs": [
        {
          "output_type": "stream",
          "name": "stdout",
          "text": [
            "アル者ハ、匐《べ》以下ノ単字頭ト知ルベシ。\r\n"
          ]
        }
      ]
    },
    {
      "cell_type": "code",
      "source": [
        "# エラーが発生する文字の前後を確認する\n",
        "!tail -c +121584 1872_ruby.txt | head -c 14 | od -tx1"
      ],
      "metadata": {
        "colab": {
          "base_uri": "https://localhost:8080/"
        },
        "id": "ePj66NgautQl",
        "outputId": "0c9cdb7a-9382-4a26-b580-2d897102c953"
      },
      "execution_count": null,
      "outputs": [
        {
          "output_type": "stream",
          "name": "stdout",
          "text": [
            "0000000 83 56 83 65 81 41 eb 81 83 41 83 8b 8e d2\n",
            "0000016\n"
          ]
        }
      ]
    },
    {
      "cell_type": "code",
      "source": [
        "b'\\x83\\x56\\x83\\x65\\x81\\x41'.decode('cp932')"
      ],
      "metadata": {
        "colab": {
          "base_uri": "https://localhost:8080/",
          "height": 35
        },
        "id": "TmRiFZpAutZh",
        "outputId": "14ac1d93-21ec-4af0-f1e7-7cac3cc041a4"
      },
      "execution_count": null,
      "outputs": [
        {
          "output_type": "execute_result",
          "data": {
            "text/plain": [
              "'シテ、'"
            ],
            "application/vnd.google.colaboratory.intrinsic+json": {
              "type": "string"
            }
          },
          "metadata": {},
          "execution_count": 8
        }
      ]
    },
    {
      "cell_type": "code",
      "source": [
        "b'\\x83\\x41\\x83\\x8b\\x8e\\xd2'.decode('cp932')"
      ],
      "metadata": {
        "colab": {
          "base_uri": "https://localhost:8080/",
          "height": 35
        },
        "id": "mF7eQ69rutci",
        "outputId": "7a9c9195-28fe-4bd6-c48c-6673eeb17173"
      },
      "execution_count": null,
      "outputs": [
        {
          "output_type": "execute_result",
          "data": {
            "text/plain": [
              "'アル者'"
            ],
            "application/vnd.google.colaboratory.intrinsic+json": {
              "type": "string"
            }
          },
          "metadata": {},
          "execution_count": 9
        }
      ]
    },
    {
      "cell_type": "markdown",
      "source": [
        "*  エラーが発生した文字は `eb 81` である。"
      ],
      "metadata": {
        "id": "esHri8DrcOZJ"
      }
    },
    {
      "cell_type": "markdown",
      "source": [
        "## エラーが発生しない方のテキストを確認する"
      ],
      "metadata": {
        "id": "fwsZ7yz1C5GB"
      }
    },
    {
      "cell_type": "markdown",
      "source": [
        "*  該当箇所は `※［＃「縦長の＝」、168-5］` となっている。"
      ],
      "metadata": {
        "id": "CX7JyKTCEzfZ"
      }
    },
    {
      "cell_type": "code",
      "source": [
        "# エラーが発生する文字の直前までを表示する（最後の１行のみ）\n",
        "!head -c 128074 1872_ruby_3491.txt | iconv -f cp932 -t utf8 | tail -n 1"
      ],
      "metadata": {
        "colab": {
          "base_uri": "https://localhost:8080/"
        },
        "id": "KG8K2I6bDCxY",
        "outputId": "919ea0e0-47f2-493d-dea9-a567a5860eca"
      },
      "execution_count": null,
      "outputs": [
        {
          "output_type": "stream",
          "name": "stdout",
          "text": [
            "一、新字ノ頭ニ、※［＃「横長の口」、168-4］アル者ハ、亜《ア》頭ノ語ナリ、他ノエ、イ、※［＃「縦長の口」、168-4］、ユ、モ埃《エ》伊《イ》阿《オ》兪《ユ》頭ノ語ニシテ、※［＃「縦長の＝」、168-5］アル者ハ、匐《べ》以下ノ単字頭ト知ルベシ。\r\n"
          ]
        }
      ]
    },
    {
      "cell_type": "markdown",
      "source": [
        "*  青空文庫の [XHTML 版](https://www.aozora.gr.jp/cards/000301/files/1872_53638.html)でも該当箇所を確認することができる。"
      ],
      "metadata": {
        "id": "P6WU3HPaC9Pe"
      }
    },
    {
      "cell_type": "markdown",
      "source": [
        "## 書籍の影印を確認する"
      ],
      "metadata": {
        "id": "gWoXwj3kFMMq"
      }
    },
    {
      "cell_type": "markdown",
      "source": [
        "*  本文の該当箇所の画像は，国立国会図書館デジタルコレクションにて確認できる。\n",
        "   *  https://dl.ndl.go.jp/pid/936012/1/104\n",
        "      *  同じ資料を [次世代デジタルライブラリ―](https://lab.ndl.go.jp/dl/book/936012?page=104) でも確認できる（全文検索機能付き！）\n",
        "   *  青空文庫のテキストの底本（岩波文庫）とは異なる点に注意が必要。"
      ],
      "metadata": {
        "id": "lnKXOyYTFJGk"
      }
    },
    {
      "cell_type": "markdown",
      "source": [
        "*  ![image.png](data:image/png;base64,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)"
      ],
      "metadata": {
        "id": "NqcpQERwF2ve"
      }
    },
    {
      "cell_type": "markdown",
      "source": [
        "*  この影印（底本とは異なるが）を確認し，かつ，後に続く文章を少し読んだ限りにおいては，これは「＝」を縦書きにしたもの，というよりは「口」偏ではないか，と考えられる。\n",
        "   * 横棒が細いために「口」が「||」に見えただけ，という可能性がある。"
      ],
      "metadata": {
        "id": "h7s0qG-dFd6I"
      }
    },
    {
      "cell_type": "code",
      "source": [],
      "metadata": {
        "id": "7gv7bmsoE-8W"
      },
      "execution_count": null,
      "outputs": []
    }
  ]
}