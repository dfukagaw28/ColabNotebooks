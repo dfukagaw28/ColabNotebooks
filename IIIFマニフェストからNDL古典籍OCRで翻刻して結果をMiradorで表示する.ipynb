{
  "cells": [
    {
      "cell_type": "markdown",
      "metadata": {
        "id": "view-in-github",
        "colab_type": "text"
      },
      "source": [
        "<a href=\"https://colab.research.google.com/github/dfukagaw28/ColabNotebooks/blob/main/IIIF%E3%83%9E%E3%83%8B%E3%83%95%E3%82%A7%E3%82%B9%E3%83%88%E3%81%8B%E3%82%89NDL%E5%8F%A4%E5%85%B8%E7%B1%8DOCR%E3%81%A7%E7%BF%BB%E5%88%BB%E3%81%97%E3%81%A6%E7%B5%90%E6%9E%9C%E3%82%92Mirador%E3%81%A7%E8%A1%A8%E7%A4%BA%E3%81%99%E3%82%8B.ipynb\" target=\"_parent\"><img src=\"https://colab.research.google.com/assets/colab-badge.svg\" alt=\"Open In Colab\"/></a>"
      ]
    },
    {
      "cell_type": "markdown",
      "metadata": {
        "id": "-P625knCCe0H"
      },
      "source": [
        "# IIIFマニフェストファイルからTEI/XMLファイルを作成するプログラム"
      ]
    },
    {
      "cell_type": "markdown",
      "metadata": {
        "id": "Mp4eqaRACf1Y"
      },
      "source": [
        "*   オリジナル版は以下の通り:\n",
        "    *   [IIIFマニフェストファイルからTEI/XMLファイルを作成するプログラム.ipynb](https://github.com/nakamura196/000_tools/blob/main/IIIF%E3%83%9E%E3%83%8B%E3%83%95%E3%82%A7%E3%82%B9%E3%83%88%E3%83%95%E3%82%A1%E3%82%A4%E3%83%AB%E3%81%8B%E3%82%89TEI_XML%E3%83%95%E3%82%A1%E3%82%A4%E3%83%AB%E3%82%92%E4%BD%9C%E6%88%90%E3%81%99%E3%82%8B%E3%83%97%E3%83%AD%E3%82%B0%E3%83%A9%E3%83%A0.ipynb) GitHub: nakamura196/000_tools\n",
        "*   関連記事:\n",
        "    *   [IIIFマニフェストファイルからOCR結果を含むTEI_XMLファイルを作成するプログラム](https://zenn.dev/nakamura196/articles/71049d856e6e4b) [2025/01/30]\n",
        "    *   [Google Colabを用いたNDL古典籍OCRチュートリアルの不具合の修正および機能追加を行いました。](https://zenn.dev/nakamura196/articles/85178021b313f6) [2023/04/12]"
      ]
    },
    {
      "cell_type": "markdown",
      "metadata": {
        "id": "cbms5AuhFFBh"
      },
      "source": [
        "*   2025-05-24 時点では，オリジナル版を Colab で実行するとエラーが発生する\n",
        "    *   原因は，Python パッケージのバージョンの不整合\n",
        "\n",
        "```\n",
        "ERROR: pip's dependency resolver does not currently take into account all the packages that are installed. This behaviour is the source of the following dependency conflicts.\n",
        "tensorflow-metadata 1.17.1 requires protobuf<6.0.0,>=4.25.2; python_version >= \"3.11\", but you have protobuf 3.20.3 which is incompatible.\n",
        "torch 2.6.0+cu124 requires nvidia-cublas-cu12==12.4.5.8; platform_system == \"Linux\" and platform_machine == \"x86_64\", but you have nvidia-cublas-cu12 12.5.3.2 which is incompatible.\n",
        "torch 2.6.0+cu124 requires nvidia-cuda-cupti-cu12==12.4.127; platform_system == \"Linux\" and platform_machine == \"x86_64\", but you have nvidia-cuda-cupti-cu12 12.5.82 which is incompatible.\n",
        "torch 2.6.0+cu124 requires nvidia-cuda-nvrtc-cu12==12.4.127; platform_system == \"Linux\" and platform_machine == \"x86_64\", but you have nvidia-cuda-nvrtc-cu12 12.5.82 which is incompatible.\n",
        "torch 2.6.0+cu124 requires nvidia-cuda-runtime-cu12==12.4.127; platform_system == \"Linux\" and platform_machine == \"x86_64\", but you have nvidia-cuda-runtime-cu12 12.5.82 which is incompatible.\n",
        "torch 2.6.0+cu124 requires nvidia-cudnn-cu12==9.1.0.70; platform_system == \"Linux\" and platform_machine == \"x86_64\", but you have nvidia-cudnn-cu12 9.3.0.75 which is incompatible.\n",
        "torch 2.6.0+cu124 requires nvidia-cufft-cu12==11.2.1.3; platform_system == \"Linux\" and platform_machine == \"x86_64\", but you have nvidia-cufft-cu12 11.2.3.61 which is incompatible.\n",
        "torch 2.6.0+cu124 requires nvidia-curand-cu12==10.3.5.147; platform_system == \"Linux\" and platform_machine == \"x86_64\", but you have nvidia-curand-cu12 10.3.6.82 which is incompatible.\n",
        "torch 2.6.0+cu124 requires nvidia-cusolver-cu12==11.6.1.9; platform_system == \"Linux\" and platform_machine == \"x86_64\", but you have nvidia-cusolver-cu12 11.6.3.83 which is incompatible.\n",
        "torch 2.6.0+cu124 requires nvidia-cusparse-cu12==12.3.1.170; platform_system == \"Linux\" and platform_machine == \"x86_64\", but you have nvidia-cusparse-cu12 12.5.1.3 which is incompatible.\n",
        "torch 2.6.0+cu124 requires nvidia-nvjitlink-cu12==12.4.127; platform_system == \"Linux\" and platform_machine == \"x86_64\", but you have nvidia-nvjitlink-cu12 12.5.82 which is incompatible.\n",
        "dataproc-spark-connect 0.7.3 requires tqdm>=4.67, but you have tqdm 4.66.4 which is incompatible.\n",
        "google-cloud-bigquery 3.32.0 requires packaging>=24.2.0, but you have packaging 23.2 which is incompatible.\n",
        "ydf 0.11.0 requires protobuf<6.0.0,>=5.29.1, but you have protobuf 3.20.3 which is incompatible.\n",
        "datasets 2.14.4 requires dill<0.3.8,>=0.3.0, but you have dill 0.3.8 which is incompatible.\n",
        "grpcio-status 1.71.0 requires protobuf<6.0dev,>=5.26.1, but you have protobuf 3.20.3 which is incompatible.\n",
        "db-dtypes 1.4.3 requires packaging>=24.2.0, but you have packaging 23.2 which is incompatible.\n",
        "```"
      ]
    },
    {
      "cell_type": "markdown",
      "metadata": {
        "id": "-oeS6ANDFkGN"
      },
      "source": [
        "以下では，ステップバイステップで動作を確かめながら動かしてみる"
      ]
    },
    {
      "cell_type": "markdown",
      "metadata": {
        "id": "g7OWzLFUOIgG"
      },
      "source": [
        "## 準備"
      ]
    },
    {
      "cell_type": "code",
      "execution_count": 1,
      "metadata": {
        "colab": {
          "base_uri": "https://localhost:8080/"
        },
        "id": "T-qJZD-OLgEh",
        "outputId": "ec2e3ebc-0b3c-4bf1-9b6e-f0af7e9a4214"
      },
      "outputs": [
        {
          "output_type": "stream",
          "name": "stdout",
          "text": [
            "Writing requirements.txt\n"
          ]
        }
      ],
      "source": [
        "%%writefile requirements.txt\n",
        "coloredlogs==15.0.1\n",
        "flet==0.28.3\n",
        "humanfriendly==10.0\n",
        "onnxruntime==1.22.0\n",
        "ordered-set==4.1.0\n",
        "repath==0.9.0\n",
        "reportlab==4.4.1"
      ]
    },
    {
      "cell_type": "code",
      "execution_count": 2,
      "metadata": {
        "colab": {
          "base_uri": "https://localhost:8080/"
        },
        "id": "mIz2IvvYLjC9",
        "outputId": "dd56de50-5a96-4328-b41f-ab60be68f897"
      },
      "outputs": [
        {
          "output_type": "stream",
          "name": "stdout",
          "text": [
            "Collecting coloredlogs==15.0.1 (from -r requirements.txt (line 1))\n",
            "  Downloading coloredlogs-15.0.1-py2.py3-none-any.whl.metadata (12 kB)\n",
            "Collecting flet==0.28.3 (from -r requirements.txt (line 2))\n",
            "  Downloading flet-0.28.3-py3-none-any.whl.metadata (3.6 kB)\n",
            "Collecting humanfriendly==10.0 (from -r requirements.txt (line 3))\n",
            "  Downloading humanfriendly-10.0-py2.py3-none-any.whl.metadata (9.2 kB)\n",
            "Collecting onnxruntime==1.22.0 (from -r requirements.txt (line 4))\n",
            "  Downloading onnxruntime-1.22.0-cp311-cp311-manylinux_2_27_x86_64.manylinux_2_28_x86_64.whl.metadata (4.5 kB)\n",
            "Collecting ordered-set==4.1.0 (from -r requirements.txt (line 5))\n",
            "  Downloading ordered_set-4.1.0-py3-none-any.whl.metadata (5.3 kB)\n",
            "Collecting repath==0.9.0 (from -r requirements.txt (line 6))\n",
            "  Downloading repath-0.9.0-py3-none-any.whl.metadata (899 bytes)\n",
            "Collecting reportlab==4.4.1 (from -r requirements.txt (line 7))\n",
            "  Downloading reportlab-4.4.1-py3-none-any.whl.metadata (1.8 kB)\n",
            "Requirement already satisfied: httpx in /usr/local/lib/python3.11/dist-packages (from flet==0.28.3->-r requirements.txt (line 2)) (0.28.1)\n",
            "Requirement already satisfied: oauthlib<4.0.0,>=3.2.2 in /usr/local/lib/python3.11/dist-packages (from flet==0.28.3->-r requirements.txt (line 2)) (3.2.2)\n",
            "Requirement already satisfied: flatbuffers in /usr/local/lib/python3.11/dist-packages (from onnxruntime==1.22.0->-r requirements.txt (line 4)) (25.2.10)\n",
            "Requirement already satisfied: numpy>=1.21.6 in /usr/local/lib/python3.11/dist-packages (from onnxruntime==1.22.0->-r requirements.txt (line 4)) (2.0.2)\n",
            "Requirement already satisfied: packaging in /usr/local/lib/python3.11/dist-packages (from onnxruntime==1.22.0->-r requirements.txt (line 4)) (24.2)\n",
            "Requirement already satisfied: protobuf in /usr/local/lib/python3.11/dist-packages (from onnxruntime==1.22.0->-r requirements.txt (line 4)) (5.29.4)\n",
            "Requirement already satisfied: sympy in /usr/local/lib/python3.11/dist-packages (from onnxruntime==1.22.0->-r requirements.txt (line 4)) (1.13.1)\n",
            "Requirement already satisfied: six>=1.9.0 in /usr/local/lib/python3.11/dist-packages (from repath==0.9.0->-r requirements.txt (line 6)) (1.17.0)\n",
            "Requirement already satisfied: pillow>=9.0.0 in /usr/local/lib/python3.11/dist-packages (from reportlab==4.4.1->-r requirements.txt (line 7)) (11.2.1)\n",
            "Requirement already satisfied: chardet in /usr/local/lib/python3.11/dist-packages (from reportlab==4.4.1->-r requirements.txt (line 7)) (5.2.0)\n",
            "Requirement already satisfied: anyio in /usr/local/lib/python3.11/dist-packages (from httpx->flet==0.28.3->-r requirements.txt (line 2)) (4.9.0)\n",
            "Requirement already satisfied: certifi in /usr/local/lib/python3.11/dist-packages (from httpx->flet==0.28.3->-r requirements.txt (line 2)) (2025.4.26)\n",
            "Requirement already satisfied: httpcore==1.* in /usr/local/lib/python3.11/dist-packages (from httpx->flet==0.28.3->-r requirements.txt (line 2)) (1.0.9)\n",
            "Requirement already satisfied: idna in /usr/local/lib/python3.11/dist-packages (from httpx->flet==0.28.3->-r requirements.txt (line 2)) (3.10)\n",
            "Requirement already satisfied: h11>=0.16 in /usr/local/lib/python3.11/dist-packages (from httpcore==1.*->httpx->flet==0.28.3->-r requirements.txt (line 2)) (0.16.0)\n",
            "Requirement already satisfied: mpmath<1.4,>=1.1.0 in /usr/local/lib/python3.11/dist-packages (from sympy->onnxruntime==1.22.0->-r requirements.txt (line 4)) (1.3.0)\n",
            "Requirement already satisfied: sniffio>=1.1 in /usr/local/lib/python3.11/dist-packages (from anyio->httpx->flet==0.28.3->-r requirements.txt (line 2)) (1.3.1)\n",
            "Requirement already satisfied: typing_extensions>=4.5 in /usr/local/lib/python3.11/dist-packages (from anyio->httpx->flet==0.28.3->-r requirements.txt (line 2)) (4.13.2)\n",
            "Downloading coloredlogs-15.0.1-py2.py3-none-any.whl (46 kB)\n",
            "\u001b[2K   \u001b[90m━━━━━━━━━━━━━━━━━━━━━━━━━━━━━━━━━━━━━━━━\u001b[0m \u001b[32m46.0/46.0 kB\u001b[0m \u001b[31m1.2 MB/s\u001b[0m eta \u001b[36m0:00:00\u001b[0m\n",
            "\u001b[?25hDownloading flet-0.28.3-py3-none-any.whl (463 kB)\n",
            "\u001b[2K   \u001b[90m━━━━━━━━━━━━━━━━━━━━━━━━━━━━━━━━━━━━━━━━\u001b[0m \u001b[32m463.0/463.0 kB\u001b[0m \u001b[31m8.3 MB/s\u001b[0m eta \u001b[36m0:00:00\u001b[0m\n",
            "\u001b[?25hDownloading humanfriendly-10.0-py2.py3-none-any.whl (86 kB)\n",
            "\u001b[2K   \u001b[90m━━━━━━━━━━━━━━━━━━━━━━━━━━━━━━━━━━━━━━━━\u001b[0m \u001b[32m86.8/86.8 kB\u001b[0m \u001b[31m4.2 MB/s\u001b[0m eta \u001b[36m0:00:00\u001b[0m\n",
            "\u001b[?25hDownloading onnxruntime-1.22.0-cp311-cp311-manylinux_2_27_x86_64.manylinux_2_28_x86_64.whl (16.4 MB)\n",
            "\u001b[2K   \u001b[90m━━━━━━━━━━━━━━━━━━━━━━━━━━━━━━━━━━━━━━━━\u001b[0m \u001b[32m16.4/16.4 MB\u001b[0m \u001b[31m35.9 MB/s\u001b[0m eta \u001b[36m0:00:00\u001b[0m\n",
            "\u001b[?25hDownloading ordered_set-4.1.0-py3-none-any.whl (7.6 kB)\n",
            "Downloading repath-0.9.0-py3-none-any.whl (4.7 kB)\n",
            "Downloading reportlab-4.4.1-py3-none-any.whl (2.0 MB)\n",
            "\u001b[2K   \u001b[90m━━━━━━━━━━━━━━━━━━━━━━━━━━━━━━━━━━━━━━━━\u001b[0m \u001b[32m2.0/2.0 MB\u001b[0m \u001b[31m19.7 MB/s\u001b[0m eta \u001b[36m0:00:00\u001b[0m\n",
            "\u001b[?25hInstalling collected packages: reportlab, repath, ordered-set, humanfriendly, coloredlogs, onnxruntime, flet\n",
            "Successfully installed coloredlogs-15.0.1 flet-0.28.3 humanfriendly-10.0 onnxruntime-1.22.0 ordered-set-4.1.0 repath-0.9.0 reportlab-4.4.1\n"
          ]
        }
      ],
      "source": [
        "!pip install -r requirements.txt"
      ]
    },
    {
      "cell_type": "code",
      "execution_count": 2,
      "metadata": {
        "id": "77CEVQnGOQjD"
      },
      "outputs": [],
      "source": []
    },
    {
      "cell_type": "markdown",
      "metadata": {
        "id": "BNMO1KK6GfFM"
      },
      "source": [
        "## Step 1. IIIF マニフェストを読み込んで画像をダウンロードする"
      ]
    },
    {
      "cell_type": "markdown",
      "metadata": {
        "id": "ONck3_RLIT_I"
      },
      "source": [
        "*   オリジナル版は画像サイズを指定してダウンロードしている\n",
        "*   最大サイズの画像ファイルを取得したいので，方法を変える\n",
        "*   保存先を Google Drive に変更する（永続化）"
      ]
    },
    {
      "cell_type": "code",
      "execution_count": 3,
      "metadata": {
        "colab": {
          "base_uri": "https://localhost:8080/"
        },
        "id": "j7_r9EnKKESu",
        "outputId": "3810dbe9-1e63-4a1a-e38e-0465f56ed350"
      },
      "outputs": [
        {
          "output_type": "stream",
          "name": "stdout",
          "text": [
            "Mounted at /content/drive\n",
            "/content\n",
            "******** 準備完了！ ********\n"
          ]
        }
      ],
      "source": [
        "#@title 準備\n",
        "\n",
        "# Google Drive をマウントする（要認証）\n",
        "from google.colab import drive\n",
        "drive.mount('/content/drive')\n",
        "\n",
        "# 出力先ディレクトリへのシンボリックリンクをトップに作っておく\n",
        "%cd /content\n",
        "!ln -s /content/drive/MyDrive/koten\n",
        "\n",
        "print(\"******** 準備完了！ ********\")"
      ]
    },
    {
      "cell_type": "code",
      "execution_count": 4,
      "metadata": {
        "id": "5ojkqroKkCGT"
      },
      "outputs": [],
      "source": [
        "from pathlib import Path\n",
        "import httpx\n",
        "\n",
        "def save_image(url:str, image_path:str|Path, force=False):\n",
        "    image_path = Path(image_path)\n",
        "    if force or not image_path.exists():\n",
        "        # 画像をダウンロードして保存\n",
        "        with httpx.Client() as client:\n",
        "            response = client.get(url, follow_redirects=True)\n",
        "            response.raise_for_status()  # エラーチェック\n",
        "\n",
        "        # バイナリモードでファイルに書き込み\n",
        "        with open(image_path, \"wb\") as f:\n",
        "            f.write(response.content)"
      ]
    },
    {
      "cell_type": "code",
      "execution_count": 5,
      "metadata": {
        "colab": {
          "base_uri": "https://localhost:8080/"
        },
        "id": "EUasCg0KKEbG",
        "outputId": "47502c9c-dc2b-44da-f3ee-79d8c6edcabb"
      },
      "outputs": [
        {
          "output_type": "stream",
          "name": "stdout",
          "text": [
            "label: 源氏十二月\n",
            "attribution: 同志社大学<br />Doshisha University\n",
            "画像枚数: 21\n"
          ]
        },
        {
          "output_type": "stream",
          "name": "stderr",
          "text": [
            "21it [00:43,  2.06s/it]\n"
          ]
        }
      ],
      "source": [
        "#@title 実行\n",
        "\n",
        "import json\n",
        "from pathlib import Path\n",
        "import re\n",
        "\n",
        "import httpx\n",
        "from tqdm import tqdm\n",
        "\n",
        "# 変数を設定する\n",
        "manifest_url = \"https://dgcl.doshisha.ac.jp/images/manifest/50000/MD00001562.json\"  # @param {\"type\":\"string\"}\n",
        "project_name = \"doshisha-MD00001562\"  # @param {\"type\":\"string\"}\n",
        "assert re.fullmatch(r'^[a-zA-Z0-9_-]+$', project_name), 'project_name に使える文字は英数字と _ - だけです'\n",
        "output_dir = f\"/content/koten/{project_name}\"\n",
        "img_dir = Path(output_dir) / \"img\"\n",
        "img_dir.mkdir(parents=True, exist_ok=True)\n",
        "ocr_dir = Path(output_dir) / \"ocr\"\n",
        "ocr_dir.mkdir(parents=True, exist_ok=True)\n",
        "MAXNUM_IMAGES = 30  # @param {\"type\":\"integer\"}\n",
        "force_download = False  # @param {\"type\":\"boolean\"}\n",
        "\n",
        "# IIIF Manifest ファイルをダウンロードして読み込む\n",
        "manifest = httpx.get(manifest_url).json()\n",
        "\n",
        "canvases = manifest[\"sequences\"][0][\"canvases\"]\n",
        "\n",
        "print(\"label:\", manifest[\"label\"])\n",
        "print(\"attribution:\", manifest[\"attribution\"])\n",
        "print(\"画像枚数:\", len(canvases))\n",
        "\n",
        "assert len(canvases) < MAXNUM_IMAGES\n",
        "\n",
        "if force_download or len([*img_dir.glob(\"*.jpg\")]) == 0:\n",
        "    # IIIF Manifest に含まれる画像ファイルをダウンロードする\n",
        "    for index, canvas in tqdm(enumerate(canvases)):\n",
        "        # Validate the canvas\n",
        "        assert canvas[\"@id\"]\n",
        "        assert len(canvas[\"images\"]) == 1\n",
        "        image = canvas[\"images\"][0]\n",
        "        image_url = image['resource']['@id']\n",
        "\n",
        "        filename = f'{index:04}.jpg'\n",
        "        img_path = img_dir / filename\n",
        "\n",
        "        save_image(image_url, img_path, force=force_download)"
      ]
    },
    {
      "cell_type": "code",
      "execution_count": 5,
      "metadata": {
        "id": "kZQNUJ2aXldN"
      },
      "outputs": [],
      "source": []
    },
    {
      "cell_type": "markdown",
      "metadata": {
        "id": "InZT5tccQCj4"
      },
      "source": [
        "## Step 2. NDL 古典籍 OCR を実行する"
      ]
    },
    {
      "cell_type": "markdown",
      "source": [
        "*   OCR結果に文字が1つもないときエラーが発生するため，ソースコードの一部を書き換えて対処する"
      ],
      "metadata": {
        "id": "uRXRHBFm8lXh"
      }
    },
    {
      "cell_type": "code",
      "execution_count": 6,
      "metadata": {
        "colab": {
          "base_uri": "https://localhost:8080/"
        },
        "id": "73ztBNrfPTbr",
        "outputId": "8e488b25-0559-4741-a449-a9739afc7678"
      },
      "outputs": [
        {
          "output_type": "stream",
          "name": "stdout",
          "text": [
            "/content\n",
            "Cloning into 'ndlkotenocr-lite'...\n",
            "remote: Enumerating objects: 287, done.\u001b[K\n",
            "remote: Counting objects: 100% (17/17), done.\u001b[K\n",
            "remote: Compressing objects: 100% (13/13), done.\u001b[K\n",
            "remote: Total 287 (delta 8), reused 4 (delta 4), pack-reused 270 (from 2)\u001b[K\n",
            "Receiving objects: 100% (287/287), 112.33 MiB | 26.81 MiB/s, done.\n",
            "Resolving deltas: 100% (118/118), done.\n"
          ]
        }
      ],
      "source": [
        "#@title 準備\n",
        "\n",
        "%cd /content\n",
        "!git clone https://github.com/ndl-lab/ndlkotenocr-lite\n",
        "!sed -i 's!if tatelinecnt/alllinecnt>0.5:!if alllinecnt > 0 and tatelinecnt/alllinecnt>0.5:!' ndlkotenocr-lite/src/ocr.py"
      ]
    },
    {
      "cell_type": "code",
      "execution_count": 7,
      "metadata": {
        "colab": {
          "base_uri": "https://localhost:8080/"
        },
        "id": "WRQjCReLPTiK",
        "outputId": "62c7eb21-4667-4c06-e9ec-58f0ca45357d"
      },
      "outputs": [
        {
          "output_type": "stream",
          "name": "stdout",
          "text": [
            "/content/ndlkotenocr-lite/src\n",
            "['/content/koten/doshisha-MD00001562/img/0000.jpg', '/content/koten/doshisha-MD00001562/img/0001.jpg', '/content/koten/doshisha-MD00001562/img/0002.jpg', '/content/koten/doshisha-MD00001562/img/0003.jpg', '/content/koten/doshisha-MD00001562/img/0004.jpg', '/content/koten/doshisha-MD00001562/img/0005.jpg', '/content/koten/doshisha-MD00001562/img/0006.jpg', '/content/koten/doshisha-MD00001562/img/0007.jpg', '/content/koten/doshisha-MD00001562/img/0008.jpg', '/content/koten/doshisha-MD00001562/img/0009.jpg', '/content/koten/doshisha-MD00001562/img/0010.jpg', '/content/koten/doshisha-MD00001562/img/0011.jpg', '/content/koten/doshisha-MD00001562/img/0012.jpg', '/content/koten/doshisha-MD00001562/img/0013.jpg', '/content/koten/doshisha-MD00001562/img/0014.jpg', '/content/koten/doshisha-MD00001562/img/0015.jpg', '/content/koten/doshisha-MD00001562/img/0016.jpg', '/content/koten/doshisha-MD00001562/img/0017.jpg', '/content/koten/doshisha-MD00001562/img/0018.jpg', '/content/koten/doshisha-MD00001562/img/0019.jpg', '/content/koten/doshisha-MD00001562/img/0020.jpg']\n",
            "[INFO] Intialize Model\n",
            "[INFO] Inference Image\n",
            "[INFO] Intialize Model\n",
            "[INFO] Inference Image\n",
            "[INFO] Intialize Model\n",
            "[INFO] Inference Image\n",
            "[INFO] Intialize Model\n",
            "[INFO] Inference Image\n",
            "[INFO] Intialize Model\n",
            "[INFO] Inference Image\n",
            "[INFO] Intialize Model\n",
            "[INFO] Inference Image\n",
            "[INFO] Intialize Model\n",
            "[INFO] Inference Image\n",
            "[INFO] Intialize Model\n",
            "[INFO] Inference Image\n",
            "[INFO] Intialize Model\n",
            "[INFO] Inference Image\n",
            "[INFO] Intialize Model\n",
            "[INFO] Inference Image\n",
            "[INFO] Intialize Model\n",
            "[INFO] Inference Image\n",
            "[INFO] Intialize Model\n",
            "[INFO] Inference Image\n",
            "[INFO] Intialize Model\n",
            "[INFO] Inference Image\n",
            "[INFO] Intialize Model\n",
            "[INFO] Inference Image\n",
            "[INFO] Intialize Model\n",
            "[INFO] Inference Image\n",
            "[INFO] Intialize Model\n",
            "[INFO] Inference Image\n",
            "[INFO] Intialize Model\n",
            "[INFO] Inference Image\n",
            "[INFO] Intialize Model\n",
            "[INFO] Inference Image\n",
            "[INFO] Intialize Model\n",
            "[INFO] Inference Image\n",
            "[INFO] Intialize Model\n",
            "[INFO] Inference Image\n",
            "[INFO] Intialize Model\n",
            "[INFO] Inference Image\n"
          ]
        }
      ],
      "source": [
        "#@title 実行\n",
        "\n",
        "force_ocr = True  # @param {\"type\":\"boolean\"}\n",
        "\n",
        "if force_ocr or not ocr_dir.exists():\n",
        "    if ocr_dir.exists():\n",
        "        !rm -rf {ocr_dir}\n",
        "    ocr_dir.mkdir(parents=True)\n",
        "\n",
        "    %cd /content/ndlkotenocr-lite/src\n",
        "    %run ocr.py --sourcedir {img_dir} --output {ocr_dir}"
      ]
    },
    {
      "cell_type": "code",
      "execution_count": 7,
      "metadata": {
        "id": "nZ3wqY1TPTlF"
      },
      "outputs": [],
      "source": []
    },
    {
      "cell_type": "markdown",
      "metadata": {
        "id": "l3zB21Seau5y"
      },
      "source": [
        "## Step 3. OCR の結果を可視化する"
      ]
    },
    {
      "cell_type": "code",
      "execution_count": 8,
      "metadata": {
        "colab": {
          "base_uri": "https://localhost:8080/"
        },
        "id": "t5hW228kaU9v",
        "outputId": "3fdf2399-1e6f-4984-bbb9-5b56bcf3bf8f"
      },
      "outputs": [
        {
          "output_type": "stream",
          "name": "stdout",
          "text": [
            "/content\n",
            "--2025-05-27 05:28:48--  https://mirador.cultural.jp/index.html\n",
            "Resolving mirador.cultural.jp (mirador.cultural.jp)... 13.226.52.79, 13.226.52.95, 13.226.52.42, ...\n",
            "Connecting to mirador.cultural.jp (mirador.cultural.jp)|13.226.52.79|:443... connected.\n",
            "HTTP request sent, awaiting response... 200 OK\n",
            "Length: 2208 (2.2K) [text/html]\n",
            "Saving to: ‘index.html’\n",
            "\n",
            "index.html          100%[===================>]   2.16K  --.-KB/s    in 0s      \n",
            "\n",
            "2025-05-27 05:28:48 (653 MB/s) - ‘index.html’ saved [2208/2208]\n",
            "\n"
          ]
        }
      ],
      "source": [
        "#@title 準備\n",
        "\n",
        "PORT = 8000\n",
        "\n",
        "%cd /content\n",
        "\n",
        "!nohup python3 -m http.server $PORT > server.log 2>&1 &\n",
        "\n",
        "!wget https://mirador.cultural.jp/index.html\n",
        "\n",
        "from pathlib import Path\n",
        "from google.colab import output"
      ]
    },
    {
      "cell_type": "code",
      "execution_count": 9,
      "metadata": {
        "id": "fUnBwMa_BB1O"
      },
      "outputs": [],
      "source": [
        "import uuid\n",
        "\n",
        "\n",
        "def get_id_or_dummy_url(obj):\n",
        "    try:\n",
        "        return obj[\"@id\"]\n",
        "    except:\n",
        "        return \"https://example.com/dummy\"\n",
        "\n",
        "\n",
        "def make_annotation(box, text, id=None, canvas=None, manifest=None):\n",
        "    if id is None:\n",
        "        id = f\"https://example.com/dummy/{uuid.uuid4()}\"\n",
        "\n",
        "    canvas_id = get_id_or_dummy_url(canvas)\n",
        "    manifest_id = get_id_or_dummy_url(manifest)\n",
        "\n",
        "    xywh = ','.join([str(box[key]) for key in 'xywh'])\n",
        "\n",
        "    return {\n",
        "        \"@context\": \"http://iiif.io/api/presentation/2/context.json\",\n",
        "        \"@id\": id,\n",
        "        \"@type\": \"oa:Annotation\",\n",
        "        \"motivation\": [\"oa:commenting\"],\n",
        "        \"on\": {\n",
        "            \"@type\": \"oa:SpecificResource\",\n",
        "            \"full\": canvas_id,\n",
        "            \"selector\": {\n",
        "                \"@type\": \"oa:FragmentSelector\",\n",
        "                \"value\": f\"xywh={xywh}\"\n",
        "            },\n",
        "            \"within\": {\n",
        "                \"@id\": manifest_id,\n",
        "                \"@type\": \"sc:Manifest\"\n",
        "            },\n",
        "        },\n",
        "        \"resource\": [{\n",
        "            \"@type\": \"dctypes:Text\",\n",
        "            \"chars\": text,\n",
        "            \"format\": \"text/plain\"\n",
        "        }],\n",
        "    }"
      ]
    },
    {
      "cell_type": "code",
      "execution_count": 10,
      "metadata": {
        "colab": {
          "base_uri": "https://localhost:8080/"
        },
        "id": "7haQrWNAZeiS",
        "outputId": "ef247cb9-4c16-4959-94c9-059ce4a596fa"
      },
      "outputs": [
        {
          "output_type": "stream",
          "name": "stderr",
          "text": [
            "21it [00:00, 90.49it/s]\n"
          ]
        }
      ],
      "source": [
        "# Mirador 用に annotation JSON ファイルを生成する\n",
        "\n",
        "from tqdm import tqdm\n",
        "\n",
        "anno_dir = Path(output_dir) / 'anno'\n",
        "anno_dir.mkdir(parents=True, exist_ok=True)\n",
        "\n",
        "assert ocr_dir.exists()\n",
        "\n",
        "assert manifest[\"@id\"]\n",
        "manifest[\"@id\"] = f\"/koten/{project_name}/manifest.json\"  # 本来は URI だが iframe で表示するためパスを指定\n",
        "\n",
        "canvases = manifest[\"sequences\"][0][\"canvases\"]\n",
        "\n",
        "for index, canvas in tqdm(enumerate(canvases)):\n",
        "    # Validate the canvas\n",
        "    assert canvas[\"@id\"]\n",
        "    assert \"images\" in canvas\n",
        "    assert len(canvas[\"images\"]) == 1\n",
        "\n",
        "    filename = f'{index:04}.json'\n",
        "    anno_path = anno_dir / filename\n",
        "    ocr_path = ocr_dir / filename\n",
        "    assert ocr_path.exists()\n",
        "    ocr_json = json.load(open(ocr_path))\n",
        "    assert len(ocr_json[\"contents\"]) == 1\n",
        "    boxes = ocr_json[\"contents\"][0]\n",
        "\n",
        "    if len(boxes) > 0:\n",
        "        resources = []\n",
        "        for box in boxes:\n",
        "            text = box[\"text\"]\n",
        "            box = {\n",
        "                \"x\": box[\"boundingBox\"][0][0],\n",
        "                \"y\": box[\"boundingBox\"][0][1],\n",
        "                \"w\": box[\"boundingBox\"][2][0] - box[\"boundingBox\"][0][0],\n",
        "                \"h\": box[\"boundingBox\"][1][1] - box[\"boundingBox\"][0][1],\n",
        "            }\n",
        "            annotation = make_annotation(box, text, canvas=canvas, manifest=manifest)\n",
        "            resources.append(annotation)\n",
        "\n",
        "        # 注釈リストの ID\n",
        "        anno_list_id = f\"/koten/{project_name}/anno/{filename}\",  # 本来は URI だが iframe で表示するためパスを指定\n",
        "\n",
        "        # 注釈データをファイルに保存する\n",
        "        with open(anno_path, \"w\") as file:\n",
        "            anno_list = {\n",
        "                \"@context\": \"http://www.shared-canvas.org/ns/context.json\",\n",
        "                \"@id\": anno_list_id,\n",
        "                \"@type\": \"sc:AnnotationList\",\n",
        "                \"resources\": resources,\n",
        "            }\n",
        "            json.dump(anno_list, fp=file, indent=2, ensure_ascii=False)\n",
        "\n",
        "        # Canvas に注釈を追加する\n",
        "        if \"otherContent\" not in canvas:\n",
        "            canvas[\"otherContent\"] = []\n",
        "        canvas[\"otherContent\"].append({\n",
        "            \"@id\": anno_list_id,\n",
        "            \"@type\": \"sc:AnnotationList\",\n",
        "        })\n",
        "\n",
        "# Manifest ファイルを書き出す\n",
        "with open(Path(output_dir) / 'manifest.json', 'w') as file:\n",
        "    json.dump(manifest, fp=file, indent=2, ensure_ascii=False)"
      ]
    },
    {
      "cell_type": "code",
      "execution_count": 10,
      "metadata": {
        "id": "SOn9p_rrNULY"
      },
      "outputs": [],
      "source": []
    },
    {
      "cell_type": "code",
      "execution_count": 11,
      "metadata": {
        "colab": {
          "base_uri": "https://localhost:8080/",
          "height": 820
        },
        "id": "gBRSvXjzaVA3",
        "outputId": "1d20bbbe-f35d-4ca3-f436-b02751217691"
      },
      "outputs": [
        {
          "output_type": "display_data",
          "data": {
            "text/plain": [
              "<IPython.core.display.Javascript object>"
            ],
            "application/javascript": [
              "(async (port, path, width, height, cache, element) => {\n",
              "    if (!google.colab.kernel.accessAllowed && !cache) {\n",
              "      return;\n",
              "    }\n",
              "    element.appendChild(document.createTextNode(''));\n",
              "    const url = await google.colab.kernel.proxyPort(port, {cache});\n",
              "    const iframe = document.createElement('iframe');\n",
              "    iframe.src = new URL(path, url).toString();\n",
              "    iframe.height = height;\n",
              "    iframe.width = width;\n",
              "    iframe.style.border = 0;\n",
              "    iframe.allow = [\n",
              "        'accelerometer',\n",
              "        'autoplay',\n",
              "        'camera',\n",
              "        'clipboard-read',\n",
              "        'clipboard-write',\n",
              "        'gyroscope',\n",
              "        'magnetometer',\n",
              "        'microphone',\n",
              "        'serial',\n",
              "        'usb',\n",
              "        'xr-spatial-tracking',\n",
              "    ].join('; ');\n",
              "    element.appendChild(iframe);\n",
              "  })(8000, \"/?manifest=/koten/doshisha-MD00001562/manifest.json&annotationState=1\", \"100%\", 800, false, window.element)"
            ]
          },
          "metadata": {}
        }
      ],
      "source": [
        "#@title 実行\n",
        "\n",
        "# パラメータを設定する\n",
        "height = 800  # @param {\"type\":\"integer\"}\n",
        "\n",
        "# HTTP サーバから見た Manifest ファイルへのパス\n",
        "assert output_dir.startswith('/content')\n",
        "manifest_path = Path(output_dir.replace('/content', '')) / 'manifest.json'\n",
        "\n",
        "# HTTP サーバにアクセスして結果を IFRAME で表示する\n",
        "output.serve_kernel_port_as_iframe(PORT, path=f'/?manifest={manifest_path}&annotationState=1', height=height)\n"
      ]
    },
    {
      "cell_type": "markdown",
      "metadata": {
        "id": "QLZ941Ah6H2p"
      },
      "source": [
        "*   本当は `google.colab.output.serve_kernel_port_as_window()` を使いたいが，ブラウザのセキュリティ更新により，使えなく（deprecated）なっている\n",
        "    *   [Google Colabの「serve_kernel_port_as_window」が壊れた](https://qiita.com/ktanemo/items/56e9f8a93d5cc5ed3453)"
      ]
    },
    {
      "cell_type": "code",
      "source": [],
      "metadata": {
        "id": "aXRsFyG8Ieea"
      },
      "execution_count": 11,
      "outputs": []
    }
  ],
  "metadata": {
    "colab": {
      "provenance": [],
      "authorship_tag": "ABX9TyORiGO+k4yyvRs2DZW25JGf",
      "include_colab_link": true
    },
    "kernelspec": {
      "display_name": "Python 3",
      "name": "python3"
    },
    "language_info": {
      "name": "python"
    }
  },
  "nbformat": 4,
  "nbformat_minor": 0
}