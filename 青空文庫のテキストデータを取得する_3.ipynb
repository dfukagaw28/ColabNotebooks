{
  "cells": [
    {
      "cell_type": "markdown",
      "metadata": {
        "id": "view-in-github",
        "colab_type": "text"
      },
      "source": [
        "<a href=\"https://colab.research.google.com/github/dfukagaw28/ColabNotebooks/blob/main/%E9%9D%92%E7%A9%BA%E6%96%87%E5%BA%AB%E3%81%AE%E3%83%86%E3%82%AD%E3%82%B9%E3%83%88%E3%83%87%E3%83%BC%E3%82%BF%E3%82%92%E5%8F%96%E5%BE%97%E3%81%99%E3%82%8B_3.ipynb\" target=\"_parent\"><img src=\"https://colab.research.google.com/assets/colab-badge.svg\" alt=\"Open In Colab\"/></a>"
      ]
    },
    {
      "cell_type": "markdown",
      "metadata": {
        "id": "SMqoY9SWZ-Ea"
      },
      "source": [
        "# 青空文庫のテキストデータを取得する (3)"
      ]
    },
    {
      "cell_type": "markdown",
      "source": [
        "*   履歴\n",
        "    *   前処理を追加しました（2025/10/14）\n",
        "    *   利用するテキストデータを globis-university/aozorabunko-clean から取得するように変更しました（2025/10/22）"
      ],
      "metadata": {
        "id": "F9HUB_jUi38I"
      }
    },
    {
      "cell_type": "markdown",
      "source": [
        "*   「▶」ボタンで最初のコードセルを実行してください。表が表示されたら，表の右上の「Filter」ボタンを押して絞り込み検索をして目的の作品Noを見つけてください。\n"
      ],
      "metadata": {
        "id": "VV0F0kd6NUm7"
      }
    },
    {
      "cell_type": "code",
      "execution_count": null,
      "metadata": {
        "cellView": "form",
        "id": "kb2kDAs-8sdq"
      },
      "outputs": [],
      "source": [
        "#@title 青空文庫の作家別作品リストを読み込む\n",
        "\n",
        "from pathlib import Path\n",
        "import pandas as pd\n",
        "from google.colab import data_table\n",
        "\n",
        "if not Path('list_person_all_utf8.csv').exists():\n",
        "  !curl -RL https://www.aozora.gr.jp/index_pages/list_person_all_utf8.zip | funzip > list_person_all_utf8.csv\n",
        "\n",
        "df_list_person = pd.read_csv('list_person_all_utf8.csv')\n",
        "\n",
        "data_table.DataTable(df_list_person, num_rows_per_page=10)"
      ]
    },
    {
      "cell_type": "markdown",
      "source": [
        "*   目的の作品IDが分かったら，下のフォームの「作品ID」欄に入力してください。"
      ],
      "metadata": {
        "id": "1DivDlYRSGKR"
      }
    },
    {
      "cell_type": "code",
      "source": [
        "#@title 作品IDを指定してファイルを取得する\n",
        "\n",
        "def aozora_download_text(work_id, output_path='book.txt'):\n",
        "  import json\n",
        "  from datasets import load_dataset\n",
        "\n",
        "  # データセットを取得する（取得したデータはキャッシュされる）\n",
        "  ds = load_dataset('globis-university/aozorabunko-clean')\n",
        "\n",
        "  # 作品IDで絞り込む\n",
        "  ds_filtered = ds.filter(lambda row: int(row['meta']['作品ID'], base=10) == work_id)\n",
        "\n",
        "  # ヒットした件数を確認する\n",
        "  assert ds_filtered['train'].num_rows > 0, \"❌ 該当する作品IDは見つかりませんでした\"\n",
        "  if ds_filtered['train'].num_rows > 1:\n",
        "    print(\"⚠️ 同じ作品IDを持つ複数の作品が見つかりました\")\n",
        "\n",
        "  # 作品に関する情報を取得\n",
        "  book = ds_filtered['train'][0]\n",
        "\n",
        "  # 取得したテキストを保存する（本文のみ）\n",
        "  with open(output_path, \"w\", encoding=\"utf-8\") as f:\n",
        "    f.write(book['text'])\n",
        "  print(f\"✅ {output_path} に保存しました\")\n",
        "\n",
        "  # テキストファイルを開く\n",
        "  from google.colab import files\n",
        "  files.view(output_path)\n",
        "\n",
        "  # 自動的にダウンロードする\n",
        "  files.download(output_path)\n",
        "\n",
        "\n",
        "作品ID = 789  #@param {\"type\":\"integer\"}\n",
        "出力ファイル名 = 'book.txt'  #@param {\"type\":\"string\"}\n",
        "\n",
        "aozora_download_text(作品ID, 出力ファイル名)"
      ],
      "metadata": {
        "cellView": "form",
        "id": "q2wjlVbJ9Nx3"
      },
      "execution_count": null,
      "outputs": []
    },
    {
      "cell_type": "code",
      "source": [],
      "metadata": {
        "id": "K9zq6zMN9N3U"
      },
      "execution_count": null,
      "outputs": []
    }
  ],
  "metadata": {
    "colab": {
      "provenance": [],
      "authorship_tag": "ABX9TyNDeS5W/hH2LJJfhBkLbZLn",
      "include_colab_link": true
    },
    "kernelspec": {
      "display_name": "Python 3",
      "name": "python3"
    },
    "language_info": {
      "name": "python"
    }
  },
  "nbformat": 4,
  "nbformat_minor": 0
}